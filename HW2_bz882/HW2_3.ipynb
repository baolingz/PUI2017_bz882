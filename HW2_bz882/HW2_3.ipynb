{
 "cells": [
  {
   "cell_type": "code",
   "execution_count": 171,
   "metadata": {
    "collapsed": false
   },
   "outputs": [
    {
     "name": "stdout",
     "output_type": "stream",
     "text": [
      "/gws/open/NYCOpenData/nycopendata/data\n"
     ]
    }
   ],
   "source": [
    "from __future__ import division, print_function\n",
    "\n",
    "import os\n",
    "import numpy as np\n",
    "from numpy.random import randn\n",
    "import pylab as pl\n",
    "\n",
    "from pandas import Series, DataFrame\n",
    "import pandas as pd\n",
    "\n",
    "DFDATA = os.getenv(\"DFDATA\")\n",
    "\n",
    "#Check that an environmental variable DFDATA exists \n",
    "#and that it points to the data facility location /gws/open/NYCOpenData/nycopendata/data/.\n",
    "\n",
    "print (DFDATA)"
   ]
  },
  {
   "cell_type": "code",
   "execution_count": 172,
   "metadata": {
    "collapsed": true
   },
   "outputs": [],
   "source": [
    "# use the environmental variable PUIDATA to access data \n",
    "# stored in your own PUIDATA directory\n",
    "\n",
    "DFDATA = os.getenv('DFDATA')\n",
    "os.system(\"/h3zm-ta5h/1409875200/h3zm-ta5h.csv\" + DFDATA);"
   ]
  },
  {
   "cell_type": "code",
   "execution_count": 173,
   "metadata": {
    "collapsed": false
   },
   "outputs": [],
   "source": [
    "#Use pandas to read in the CSV file from the DF into a pandas dataframe. \n",
    "#The CSV file must have at least 2 numerical value columns.\n",
    "\n",
    "df_student = pd.read_csv(DFDATA + \"/h3zm-ta5h/1409875200/h3zm-ta5h.csv\")"
   ]
  },
  {
   "cell_type": "code",
   "execution_count": 174,
   "metadata": {
    "collapsed": false
   },
   "outputs": [
    {
     "data": {
      "text/html": [
       "<div>\n",
       "<table border=\"1\" class=\"dataframe\">\n",
       "  <thead>\n",
       "    <tr style=\"text-align: right;\">\n",
       "      <th></th>\n",
       "      <th>Borough</th>\n",
       "      <th>Grade</th>\n",
       "      <th>Year</th>\n",
       "      <th>Demographic</th>\n",
       "      <th>Number Tested</th>\n",
       "      <th>Mean Scale Score</th>\n",
       "      <th>Num Level 1</th>\n",
       "      <th>Pct Level 1</th>\n",
       "      <th>Num Level 2</th>\n",
       "      <th>Pct Level 2</th>\n",
       "      <th>Num Level 3</th>\n",
       "      <th>Pct Level 3</th>\n",
       "      <th>Num Level 4</th>\n",
       "      <th>Pct Level 4</th>\n",
       "      <th>Num Level 3 and 4</th>\n",
       "      <th>Pct Level 3 and 4</th>\n",
       "    </tr>\n",
       "  </thead>\n",
       "  <tbody>\n",
       "    <tr>\n",
       "      <th>0</th>\n",
       "      <td>BRONX</td>\n",
       "      <td>3</td>\n",
       "      <td>2006</td>\n",
       "      <td>ELL</td>\n",
       "      <td>766</td>\n",
       "      <td>618</td>\n",
       "      <td>345</td>\n",
       "      <td>45.0</td>\n",
       "      <td>273</td>\n",
       "      <td>35.6</td>\n",
       "      <td>147</td>\n",
       "      <td>19.2</td>\n",
       "      <td>1</td>\n",
       "      <td>0.1</td>\n",
       "      <td>148</td>\n",
       "      <td>19.3</td>\n",
       "    </tr>\n",
       "    <tr>\n",
       "      <th>1</th>\n",
       "      <td>BRONX</td>\n",
       "      <td>3</td>\n",
       "      <td>2006</td>\n",
       "      <td>EP</td>\n",
       "      <td>12530</td>\n",
       "      <td>652</td>\n",
       "      <td>1809</td>\n",
       "      <td>14.4</td>\n",
       "      <td>4184</td>\n",
       "      <td>33.4</td>\n",
       "      <td>6200</td>\n",
       "      <td>49.5</td>\n",
       "      <td>337</td>\n",
       "      <td>2.7</td>\n",
       "      <td>6537</td>\n",
       "      <td>52.2</td>\n",
       "    </tr>\n",
       "    <tr>\n",
       "      <th>2</th>\n",
       "      <td>BRONX</td>\n",
       "      <td>3</td>\n",
       "      <td>2007</td>\n",
       "      <td>ELL</td>\n",
       "      <td>3143</td>\n",
       "      <td>626</td>\n",
       "      <td>1004</td>\n",
       "      <td>31.9</td>\n",
       "      <td>1441</td>\n",
       "      <td>45.8</td>\n",
       "      <td>693</td>\n",
       "      <td>22.0</td>\n",
       "      <td>5</td>\n",
       "      <td>0.2</td>\n",
       "      <td>698</td>\n",
       "      <td>22.2</td>\n",
       "    </tr>\n",
       "    <tr>\n",
       "      <th>3</th>\n",
       "      <td>BRONX</td>\n",
       "      <td>3</td>\n",
       "      <td>2007</td>\n",
       "      <td>EP</td>\n",
       "      <td>12728</td>\n",
       "      <td>649</td>\n",
       "      <td>1930</td>\n",
       "      <td>15.2</td>\n",
       "      <td>4423</td>\n",
       "      <td>34.8</td>\n",
       "      <td>5948</td>\n",
       "      <td>46.7</td>\n",
       "      <td>427</td>\n",
       "      <td>3.4</td>\n",
       "      <td>6375</td>\n",
       "      <td>50.1</td>\n",
       "    </tr>\n",
       "    <tr>\n",
       "      <th>4</th>\n",
       "      <td>BRONX</td>\n",
       "      <td>3</td>\n",
       "      <td>2008</td>\n",
       "      <td>ELL</td>\n",
       "      <td>3092</td>\n",
       "      <td>631</td>\n",
       "      <td>764</td>\n",
       "      <td>24.7</td>\n",
       "      <td>1574</td>\n",
       "      <td>50.9</td>\n",
       "      <td>728</td>\n",
       "      <td>23.5</td>\n",
       "      <td>26</td>\n",
       "      <td>0.8</td>\n",
       "      <td>754</td>\n",
       "      <td>24.4</td>\n",
       "    </tr>\n",
       "  </tbody>\n",
       "</table>\n",
       "</div>"
      ],
      "text/plain": [
       "  Borough Grade  Year Demographic  Number Tested  Mean Scale Score  \\\n",
       "0   BRONX     3  2006         ELL            766               618   \n",
       "1   BRONX     3  2006          EP          12530               652   \n",
       "2   BRONX     3  2007         ELL           3143               626   \n",
       "3   BRONX     3  2007          EP          12728               649   \n",
       "4   BRONX     3  2008         ELL           3092               631   \n",
       "\n",
       "   Num Level 1  Pct Level 1  Num Level 2  Pct Level 2  Num Level 3  \\\n",
       "0          345         45.0          273         35.6          147   \n",
       "1         1809         14.4         4184         33.4         6200   \n",
       "2         1004         31.9         1441         45.8          693   \n",
       "3         1930         15.2         4423         34.8         5948   \n",
       "4          764         24.7         1574         50.9          728   \n",
       "\n",
       "   Pct Level 3  Num Level 4  Pct Level 4  Num Level 3 and 4  Pct Level 3 and 4  \n",
       "0         19.2            1          0.1                148               19.3  \n",
       "1         49.5          337          2.7               6537               52.2  \n",
       "2         22.0            5          0.2                698               22.2  \n",
       "3         46.7          427          3.4               6375               50.1  \n",
       "4         23.5           26          0.8                754               24.4  "
      ]
     },
     "execution_count": 174,
     "metadata": {},
     "output_type": "execute_result"
    }
   ],
   "source": [
    "#Display the top few rows of the DF in your notebook.\n",
    "\n",
    "df_student.head()"
   ]
  },
  {
   "cell_type": "code",
   "execution_count": 175,
   "metadata": {
    "collapsed": false
   },
   "outputs": [],
   "source": [
    "#Remove all but 2 numerical values columns of your choice \n",
    "\n",
    "df_student2 = df_student[['Num Level 1','Num Level 2']]"
   ]
  },
  {
   "cell_type": "code",
   "execution_count": 176,
   "metadata": {
    "collapsed": false
   },
   "outputs": [
    {
     "data": {
      "text/html": [
       "<div>\n",
       "<table border=\"1\" class=\"dataframe\">\n",
       "  <thead>\n",
       "    <tr style=\"text-align: right;\">\n",
       "      <th></th>\n",
       "      <th>Num Level 1</th>\n",
       "      <th>Num Level 2</th>\n",
       "    </tr>\n",
       "  </thead>\n",
       "  <tbody>\n",
       "    <tr>\n",
       "      <th>0</th>\n",
       "      <td>345</td>\n",
       "      <td>273</td>\n",
       "    </tr>\n",
       "    <tr>\n",
       "      <th>1</th>\n",
       "      <td>1809</td>\n",
       "      <td>4184</td>\n",
       "    </tr>\n",
       "    <tr>\n",
       "      <th>2</th>\n",
       "      <td>1004</td>\n",
       "      <td>1441</td>\n",
       "    </tr>\n",
       "    <tr>\n",
       "      <th>3</th>\n",
       "      <td>1930</td>\n",
       "      <td>4423</td>\n",
       "    </tr>\n",
       "    <tr>\n",
       "      <th>4</th>\n",
       "      <td>764</td>\n",
       "      <td>1574</td>\n",
       "    </tr>\n",
       "  </tbody>\n",
       "</table>\n",
       "</div>"
      ],
      "text/plain": [
       "   Num Level 1  Num Level 2\n",
       "0          345          273\n",
       "1         1809         4184\n",
       "2         1004         1441\n",
       "3         1930         4423\n",
       "4          764         1574"
      ]
     },
     "execution_count": 176,
     "metadata": {},
     "output_type": "execute_result"
    }
   ],
   "source": [
    "#Display the reducted dataframe\n",
    "\n",
    "df_student2.head()"
   ]
  },
  {
   "cell_type": "code",
   "execution_count": 177,
   "metadata": {
    "collapsed": false
   },
   "outputs": [
    {
     "name": "stdout",
     "output_type": "stream",
     "text": [
      "Populating the interactive namespace from numpy and matplotlib\n"
     ]
    },
    {
     "data": {
      "text/plain": [
       "<matplotlib.text.Text at 0x7f747a65a5c0>"
      ]
     },
     "execution_count": 177,
     "metadata": {},
     "output_type": "execute_result"
    },
    {
     "data": {
      "image/png": "[encoded data removed]",
      "text/plain": [
       "<matplotlib.figure.Figure at 0x7f747a66fcf8>"
      ]
     },
     "metadata": {},
     "output_type": "display_data"
    }
   ],
   "source": [
    "#Plot the columns one against the other in a scatter plot\n",
    "\n",
    "import pylab as pl\n",
    "%pylab inline\n",
    "\n",
    "fig = plt.figure(figsize=(9,5))\n",
    "X = df_student2['Num Level 1']\n",
    "Y = df_student2['Num Level 2']\n",
    "plt.scatter(X,Y)\n",
    "\n",
    "pylab.ylabel('Num Passed Level 2', fontsize=16)\n",
    "pylab.xlabel('Num Passed Level 1', fontsize=16)\n",
    "pylab.title('Number of Students Passed Level 2 Against That Of Level 1', fontsize=16)"
   ]
  },
  {
   "cell_type": "code",
   "execution_count": null,
   "metadata": {
    "collapsed": false
   },
   "outputs": [],
   "source": []
  }
 ],
 "metadata": {
  "kernelspec": {
   "display_name": "PUI2016_Python3",
   "language": "python",
   "name": "pui2016_python3"
  },
  "language_info": {
   "codemirror_mode": {
    "name": "ipython",
    "version": 3
   },
   "file_extension": ".py",
   "mimetype": "text/x-python",
   "name": "python",
   "nbconvert_exporter": "python",
   "pygments_lexer": "ipython3",
   "version": "3.5.2"
  }
 },
 "nbformat": 4,
 "nbformat_minor": 0
}
