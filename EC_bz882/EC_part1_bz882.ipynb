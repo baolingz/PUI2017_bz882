{
 "cells": [
  {
   "cell_type": "markdown",
   "metadata": {},
   "source": [
    "## Extra Credit Project_Baoilng Zhou_bz882\n",
    "## Part 1\n",
    "\n",
    "## Authorea Report can be found:\n",
    "https://www.authorea.com/users/175811/articles/211489-regression-analysis-predicting-low-income-housing-density-by-census-tract"
   ]
  },
  {
   "cell_type": "code",
   "execution_count": 39,
   "metadata": {
    "collapsed": true
   },
   "outputs": [],
   "source": [
    "import pandas as pd"
   ]
  },
  {
   "cell_type": "code",
   "execution_count": 40,
   "metadata": {
    "collapsed": true
   },
   "outputs": [],
   "source": [
    "# Download the low-income housing units from the LIHTC database\n",
    "df_xls1 = pd.read_excel(r'https://github.com/baolingz/PUI2017_bz882/blob/master/Extra_Credit/Census%20Tract%20Low%20Income%20Units%20copy.xlsx?raw=true')\n",
    "\n",
    "# Convert to .csv\n",
    "df_xls1.to_csv(r'Census Tract Low Income Units.csv', encoding='utf-8')\n",
    "df1 = pd.read_csv(r'Census Tract Low Income Units.csv')\n",
    "del df1['Unnamed: 0']"
   ]
  },
  {
   "cell_type": "code",
   "execution_count": 41,
   "metadata": {
    "collapsed": true
   },
   "outputs": [],
   "source": [
    "# Download the total units of house from in New York City from American Fact Finder\n",
    "df_xls2 = pd.read_excel(r'https://github.com/baolingz/PUI2017_bz882/blob/master/Extra_Credit/All%20New%20York%20Counties%20Units%20copy.xlsx?raw=true')\n",
    "\n",
    "# Convert to .csv\n",
    "df_xls2.to_csv(r'All New York Counties Units.csv', encoding='utf-8')\n",
    "df2 = pd.read_csv(r'All New York Counties Units.csv')\n",
    "del df2['Unnamed: 0']"
   ]
  },
  {
   "cell_type": "code",
   "execution_count": 42,
   "metadata": {},
   "outputs": [
    {
     "data": {
      "text/html": [
       "<div>\n",
       "<style>\n",
       "    .dataframe thead tr:only-child th {\n",
       "        text-align: right;\n",
       "    }\n",
       "\n",
       "    .dataframe thead th {\n",
       "        text-align: left;\n",
       "    }\n",
       "\n",
       "    .dataframe tbody tr th {\n",
       "        vertical-align: top;\n",
       "    }\n",
       "</style>\n",
       "<table border=\"1\" class=\"dataframe\">\n",
       "  <thead>\n",
       "    <tr style=\"text-align: right;\">\n",
       "      <th></th>\n",
       "      <th>Borough</th>\n",
       "      <th>2010 Census Tract Number:</th>\n",
       "      <th>Total Low-Income Units:</th>\n",
       "    </tr>\n",
       "  </thead>\n",
       "  <tbody>\n",
       "    <tr>\n",
       "      <th>0</th>\n",
       "      <td>BRONX</td>\n",
       "      <td>221.01</td>\n",
       "      <td>132.0</td>\n",
       "    </tr>\n",
       "    <tr>\n",
       "      <th>1</th>\n",
       "      <td>BRONX</td>\n",
       "      <td>89.00</td>\n",
       "      <td>18.0</td>\n",
       "    </tr>\n",
       "    <tr>\n",
       "      <th>2</th>\n",
       "      <td>BRONX</td>\n",
       "      <td>52.00</td>\n",
       "      <td>17.0</td>\n",
       "    </tr>\n",
       "    <tr>\n",
       "      <th>3</th>\n",
       "      <td>BRONX</td>\n",
       "      <td>117.00</td>\n",
       "      <td>143.0</td>\n",
       "    </tr>\n",
       "    <tr>\n",
       "      <th>4</th>\n",
       "      <td>BRONX</td>\n",
       "      <td>241.00</td>\n",
       "      <td>61.0</td>\n",
       "    </tr>\n",
       "  </tbody>\n",
       "</table>\n",
       "</div>"
      ],
      "text/plain": [
       "  Borough  2010 Census Tract Number:  Total Low-Income Units:\n",
       "0   BRONX                     221.01                    132.0\n",
       "1   BRONX                      89.00                     18.0\n",
       "2   BRONX                      52.00                     17.0\n",
       "3   BRONX                     117.00                    143.0\n",
       "4   BRONX                     241.00                     61.0"
      ]
     },
     "execution_count": 42,
     "metadata": {},
     "output_type": "execute_result"
    }
   ],
   "source": [
    "df1.head()"
   ]
  },
  {
   "cell_type": "code",
   "execution_count": 43,
   "metadata": {},
   "outputs": [
    {
     "data": {
      "text/html": [
       "<div>\n",
       "<style>\n",
       "    .dataframe thead tr:only-child th {\n",
       "        text-align: right;\n",
       "    }\n",
       "\n",
       "    .dataframe thead th {\n",
       "        text-align: left;\n",
       "    }\n",
       "\n",
       "    .dataframe tbody tr th {\n",
       "        vertical-align: top;\n",
       "    }\n",
       "</style>\n",
       "<table border=\"1\" class=\"dataframe\">\n",
       "  <thead>\n",
       "    <tr style=\"text-align: right;\">\n",
       "      <th></th>\n",
       "      <th>GEO.id</th>\n",
       "      <th>GEO.id2</th>\n",
       "      <th>GEO.display-label</th>\n",
       "      <th>Borough</th>\n",
       "      <th>Total_Housing_unit</th>\n",
       "    </tr>\n",
       "  </thead>\n",
       "  <tbody>\n",
       "    <tr>\n",
       "      <th>0</th>\n",
       "      <td>1400000US36005000100</td>\n",
       "      <td>36005000100</td>\n",
       "      <td>Census Tract 1, Bronx County, New York</td>\n",
       "      <td>BRONX</td>\n",
       "      <td>0</td>\n",
       "    </tr>\n",
       "    <tr>\n",
       "      <th>1</th>\n",
       "      <td>1400000US36005000200</td>\n",
       "      <td>36005000200</td>\n",
       "      <td>Census Tract 2, Bronx County, New York</td>\n",
       "      <td>BRONX</td>\n",
       "      <td>1492</td>\n",
       "    </tr>\n",
       "    <tr>\n",
       "      <th>2</th>\n",
       "      <td>1400000US36005000400</td>\n",
       "      <td>36005000400</td>\n",
       "      <td>Census Tract 4, Bronx County, New York</td>\n",
       "      <td>BRONX</td>\n",
       "      <td>2129</td>\n",
       "    </tr>\n",
       "    <tr>\n",
       "      <th>3</th>\n",
       "      <td>1400000US36005001600</td>\n",
       "      <td>36005001600</td>\n",
       "      <td>Census Tract 16, Bronx County, New York</td>\n",
       "      <td>BRONX</td>\n",
       "      <td>2046</td>\n",
       "    </tr>\n",
       "    <tr>\n",
       "      <th>4</th>\n",
       "      <td>1400000US36005001900</td>\n",
       "      <td>36005001900</td>\n",
       "      <td>Census Tract 19, Bronx County, New York</td>\n",
       "      <td>BRONX</td>\n",
       "      <td>947</td>\n",
       "    </tr>\n",
       "  </tbody>\n",
       "</table>\n",
       "</div>"
      ],
      "text/plain": [
       "                 GEO.id      GEO.id2                        GEO.display-label  \\\n",
       "0  1400000US36005000100  36005000100   Census Tract 1, Bronx County, New York   \n",
       "1  1400000US36005000200  36005000200   Census Tract 2, Bronx County, New York   \n",
       "2  1400000US36005000400  36005000400   Census Tract 4, Bronx County, New York   \n",
       "3  1400000US36005001600  36005001600  Census Tract 16, Bronx County, New York   \n",
       "4  1400000US36005001900  36005001900  Census Tract 19, Bronx County, New York   \n",
       "\n",
       "  Borough  Total_Housing_unit  \n",
       "0   BRONX                   0  \n",
       "1   BRONX                1492  \n",
       "2   BRONX                2129  \n",
       "3   BRONX                2046  \n",
       "4   BRONX                 947  "
      ]
     },
     "execution_count": 43,
     "metadata": {},
     "output_type": "execute_result"
    }
   ],
   "source": [
    "df2.head()"
   ]
  },
  {
   "cell_type": "code",
   "execution_count": 44,
   "metadata": {},
   "outputs": [
    {
     "data": {
      "text/plain": [
       "(1971, 3)"
      ]
     },
     "execution_count": 44,
     "metadata": {},
     "output_type": "execute_result"
    }
   ],
   "source": [
    "df1.shape"
   ]
  },
  {
   "cell_type": "code",
   "execution_count": 45,
   "metadata": {
    "collapsed": true
   },
   "outputs": [],
   "source": [
    "df1 = df1[df1['Total Low-Income Units:'] >0]"
   ]
  },
  {
   "cell_type": "code",
   "execution_count": 46,
   "metadata": {
    "collapsed": true
   },
   "outputs": [],
   "source": [
    "# Design a function to extract Census tract number from a string\n",
    "def extract_census(s):\n",
    "    j = s.index(',')\n",
    "    i = s.index('t')\n",
    "    return float(s[i+2:j])"
   ]
  },
  {
   "cell_type": "code",
   "execution_count": 47,
   "metadata": {
    "collapsed": true
   },
   "outputs": [],
   "source": [
    "#extract census number from text\n",
    "df2['n_ct'] = df2['GEO.display-label'].apply(lambda x:extract_census(x))"
   ]
  },
  {
   "cell_type": "code",
   "execution_count": 48,
   "metadata": {},
   "outputs": [
    {
     "data": {
      "text/plain": [
       "(339, 6)"
      ]
     },
     "execution_count": 48,
     "metadata": {},
     "output_type": "execute_result"
    }
   ],
   "source": [
    "df2[df2.Borough == 'BRONX'].shape"
   ]
  },
  {
   "cell_type": "code",
   "execution_count": 49,
   "metadata": {},
   "outputs": [
    {
     "data": {
      "text/plain": [
       "(499, 3)"
      ]
     },
     "execution_count": 49,
     "metadata": {},
     "output_type": "execute_result"
    }
   ],
   "source": [
    "df1[df1.Borough == 'BRONX'].shape"
   ]
  },
  {
   "cell_type": "code",
   "execution_count": 50,
   "metadata": {
    "collapsed": true
   },
   "outputs": [],
   "source": [
    "# Put dataset with total units into seperate dataframe by borough\n",
    "BX1 = df1[df1.Borough == 'BRONX']\n",
    "BK1 = df1[df1.Borough == 'BROOKLYN']\n",
    "MN1 = df1[df1.Borough == 'MANHATTAN']\n",
    "QN1 = df1[df1.Borough == 'QUEENS']\n",
    "SI1 = df1[df1.Borough == 'STATEN ISLAND']"
   ]
  },
  {
   "cell_type": "code",
   "execution_count": 51,
   "metadata": {
    "collapsed": true
   },
   "outputs": [],
   "source": [
    "# Put dataset with low-income housing units into seperate dataframe by borough\n",
    "BX2 = df2[df2.Borough == 'BRONX']\n",
    "BK2 = df2[df2.Borough == 'BROOKLYN']\n",
    "MN2 = df2[df2.Borough == 'MANHATTAN']\n",
    "QN2 = df2[df2.Borough == 'QUEENS']\n",
    "SI2 = df2[df2.Borough == 'STATEN ISLAND']"
   ]
  },
  {
   "cell_type": "code",
   "execution_count": 52,
   "metadata": {
    "collapsed": true
   },
   "outputs": [],
   "source": [
    "BX1 = BX1.groupby('2010 Census Tract Number:').sum()\n",
    "BK1 = BK1.groupby('2010 Census Tract Number:').sum()\n",
    "MN1 = MN1.groupby('2010 Census Tract Number:').sum()\n",
    "QN1 = QN1.groupby('2010 Census Tract Number:').sum()\n",
    "SI1 = SI1.groupby('2010 Census Tract Number:').sum()"
   ]
  },
  {
   "cell_type": "code",
   "execution_count": 53,
   "metadata": {},
   "outputs": [
    {
     "data": {
      "text/plain": [
       "(141, 1)"
      ]
     },
     "execution_count": 53,
     "metadata": {},
     "output_type": "execute_result"
    }
   ],
   "source": [
    "BX1.shape"
   ]
  },
  {
   "cell_type": "code",
   "execution_count": 54,
   "metadata": {},
   "outputs": [
    {
     "data": {
      "text/plain": [
       "(339, 6)"
      ]
     },
     "execution_count": 54,
     "metadata": {},
     "output_type": "execute_result"
    }
   ],
   "source": [
    "BX2.shape"
   ]
  },
  {
   "cell_type": "code",
   "execution_count": 55,
   "metadata": {
    "collapsed": true
   },
   "outputs": [],
   "source": [
    "BX1.reset_index(inplace=True)"
   ]
  },
  {
   "cell_type": "code",
   "execution_count": 56,
   "metadata": {
    "collapsed": true
   },
   "outputs": [],
   "source": [
    "BK1.reset_index(inplace=True)\n",
    "MN1.reset_index(inplace=True)\n",
    "QN1.reset_index(inplace=True)\n",
    "SI1.reset_index(inplace=True)"
   ]
  },
  {
   "cell_type": "code",
   "execution_count": 57,
   "metadata": {},
   "outputs": [
    {
     "data": {
      "text/html": [
       "<div>\n",
       "<style>\n",
       "    .dataframe thead tr:only-child th {\n",
       "        text-align: right;\n",
       "    }\n",
       "\n",
       "    .dataframe thead th {\n",
       "        text-align: left;\n",
       "    }\n",
       "\n",
       "    .dataframe tbody tr th {\n",
       "        vertical-align: top;\n",
       "    }\n",
       "</style>\n",
       "<table border=\"1\" class=\"dataframe\">\n",
       "  <thead>\n",
       "    <tr style=\"text-align: right;\">\n",
       "      <th></th>\n",
       "      <th>2010 Census Tract Number:</th>\n",
       "      <th>Total Low-Income Units:</th>\n",
       "    </tr>\n",
       "  </thead>\n",
       "  <tbody>\n",
       "    <tr>\n",
       "      <th>0</th>\n",
       "      <td>19.00</td>\n",
       "      <td>671.0</td>\n",
       "    </tr>\n",
       "    <tr>\n",
       "      <th>1</th>\n",
       "      <td>25.00</td>\n",
       "      <td>218.0</td>\n",
       "    </tr>\n",
       "    <tr>\n",
       "      <th>2</th>\n",
       "      <td>27.01</td>\n",
       "      <td>58.0</td>\n",
       "    </tr>\n",
       "    <tr>\n",
       "      <th>3</th>\n",
       "      <td>27.02</td>\n",
       "      <td>18.0</td>\n",
       "    </tr>\n",
       "    <tr>\n",
       "      <th>4</th>\n",
       "      <td>31.00</td>\n",
       "      <td>5.0</td>\n",
       "    </tr>\n",
       "  </tbody>\n",
       "</table>\n",
       "</div>"
      ],
      "text/plain": [
       "   2010 Census Tract Number:  Total Low-Income Units:\n",
       "0                      19.00                    671.0\n",
       "1                      25.00                    218.0\n",
       "2                      27.01                     58.0\n",
       "3                      27.02                     18.0\n",
       "4                      31.00                      5.0"
      ]
     },
     "execution_count": 57,
     "metadata": {},
     "output_type": "execute_result"
    }
   ],
   "source": [
    "BX1.head()"
   ]
  },
  {
   "cell_type": "code",
   "execution_count": 58,
   "metadata": {},
   "outputs": [
    {
     "data": {
      "text/html": [
       "<div>\n",
       "<style>\n",
       "    .dataframe thead tr:only-child th {\n",
       "        text-align: right;\n",
       "    }\n",
       "\n",
       "    .dataframe thead th {\n",
       "        text-align: left;\n",
       "    }\n",
       "\n",
       "    .dataframe tbody tr th {\n",
       "        vertical-align: top;\n",
       "    }\n",
       "</style>\n",
       "<table border=\"1\" class=\"dataframe\">\n",
       "  <thead>\n",
       "    <tr style=\"text-align: right;\">\n",
       "      <th></th>\n",
       "      <th>GEO.id</th>\n",
       "      <th>GEO.id2</th>\n",
       "      <th>GEO.display-label</th>\n",
       "      <th>Borough</th>\n",
       "      <th>Total_Housing_unit</th>\n",
       "      <th>n_ct</th>\n",
       "    </tr>\n",
       "  </thead>\n",
       "  <tbody>\n",
       "    <tr>\n",
       "      <th>0</th>\n",
       "      <td>1400000US36005000100</td>\n",
       "      <td>36005000100</td>\n",
       "      <td>Census Tract 1, Bronx County, New York</td>\n",
       "      <td>BRONX</td>\n",
       "      <td>0</td>\n",
       "      <td>1.0</td>\n",
       "    </tr>\n",
       "    <tr>\n",
       "      <th>1</th>\n",
       "      <td>1400000US36005000200</td>\n",
       "      <td>36005000200</td>\n",
       "      <td>Census Tract 2, Bronx County, New York</td>\n",
       "      <td>BRONX</td>\n",
       "      <td>1492</td>\n",
       "      <td>2.0</td>\n",
       "    </tr>\n",
       "    <tr>\n",
       "      <th>2</th>\n",
       "      <td>1400000US36005000400</td>\n",
       "      <td>36005000400</td>\n",
       "      <td>Census Tract 4, Bronx County, New York</td>\n",
       "      <td>BRONX</td>\n",
       "      <td>2129</td>\n",
       "      <td>4.0</td>\n",
       "    </tr>\n",
       "    <tr>\n",
       "      <th>3</th>\n",
       "      <td>1400000US36005001600</td>\n",
       "      <td>36005001600</td>\n",
       "      <td>Census Tract 16, Bronx County, New York</td>\n",
       "      <td>BRONX</td>\n",
       "      <td>2046</td>\n",
       "      <td>16.0</td>\n",
       "    </tr>\n",
       "    <tr>\n",
       "      <th>4</th>\n",
       "      <td>1400000US36005001900</td>\n",
       "      <td>36005001900</td>\n",
       "      <td>Census Tract 19, Bronx County, New York</td>\n",
       "      <td>BRONX</td>\n",
       "      <td>947</td>\n",
       "      <td>19.0</td>\n",
       "    </tr>\n",
       "  </tbody>\n",
       "</table>\n",
       "</div>"
      ],
      "text/plain": [
       "                 GEO.id      GEO.id2                        GEO.display-label  \\\n",
       "0  1400000US36005000100  36005000100   Census Tract 1, Bronx County, New York   \n",
       "1  1400000US36005000200  36005000200   Census Tract 2, Bronx County, New York   \n",
       "2  1400000US36005000400  36005000400   Census Tract 4, Bronx County, New York   \n",
       "3  1400000US36005001600  36005001600  Census Tract 16, Bronx County, New York   \n",
       "4  1400000US36005001900  36005001900  Census Tract 19, Bronx County, New York   \n",
       "\n",
       "  Borough  Total_Housing_unit  n_ct  \n",
       "0   BRONX                   0   1.0  \n",
       "1   BRONX                1492   2.0  \n",
       "2   BRONX                2129   4.0  \n",
       "3   BRONX                2046  16.0  \n",
       "4   BRONX                 947  19.0  "
      ]
     },
     "execution_count": 58,
     "metadata": {},
     "output_type": "execute_result"
    }
   ],
   "source": [
    "BX2.head()"
   ]
  },
  {
   "cell_type": "code",
   "execution_count": 59,
   "metadata": {
    "collapsed": true
   },
   "outputs": [],
   "source": [
    "# merge datasets of five boroughs into one\n",
    "BX3 = pd.merge(BX2, BX1, how='left', on=None, left_on='n_ct', right_on='2010 Census Tract Number:',\n",
    "         left_index=False, right_index=False)\n",
    "BK3 = pd.merge(BK2, BK1, how='left', on=None, left_on='n_ct', right_on='2010 Census Tract Number:',\n",
    "         left_index=False, right_index=False)\n",
    "MN3 = pd.merge(MN2, MN1, how='left', on=None, left_on='n_ct', right_on='2010 Census Tract Number:',\n",
    "         left_index=False, right_index=False)\n",
    "QN3 = pd.merge(QN2, QN1, how='left', on=None, left_on='n_ct', right_on='2010 Census Tract Number:',\n",
    "         left_index=False, right_index=False)\n",
    "SI3 = pd.merge(SI2, SI1, how='left', on=None, left_on='n_ct', right_on='2010 Census Tract Number:',\n",
    "         left_index=False, right_index=False)"
   ]
  },
  {
   "cell_type": "code",
   "execution_count": null,
   "metadata": {},
   "outputs": [],
   "source": []
  },
  {
   "cell_type": "code",
   "execution_count": 60,
   "metadata": {
    "collapsed": true
   },
   "outputs": [],
   "source": [
    "df_ = BX3.append([BK3, MN3, QN3, SI3])"
   ]
  },
  {
   "cell_type": "code",
   "execution_count": 61,
   "metadata": {},
   "outputs": [
    {
     "data": {
      "text/html": [
       "<div>\n",
       "<style>\n",
       "    .dataframe thead tr:only-child th {\n",
       "        text-align: right;\n",
       "    }\n",
       "\n",
       "    .dataframe thead th {\n",
       "        text-align: left;\n",
       "    }\n",
       "\n",
       "    .dataframe tbody tr th {\n",
       "        vertical-align: top;\n",
       "    }\n",
       "</style>\n",
       "<table border=\"1\" class=\"dataframe\">\n",
       "  <thead>\n",
       "    <tr style=\"text-align: right;\">\n",
       "      <th></th>\n",
       "      <th>GEO.id</th>\n",
       "      <th>GEO.id2</th>\n",
       "      <th>GEO.display-label</th>\n",
       "      <th>Borough</th>\n",
       "      <th>Total_Housing_unit</th>\n",
       "      <th>n_ct</th>\n",
       "      <th>2010 Census Tract Number:</th>\n",
       "      <th>Total Low-Income Units:</th>\n",
       "    </tr>\n",
       "  </thead>\n",
       "  <tbody>\n",
       "    <tr>\n",
       "      <th>0</th>\n",
       "      <td>1400000US36005000100</td>\n",
       "      <td>36005000100</td>\n",
       "      <td>Census Tract 1, Bronx County, New York</td>\n",
       "      <td>BRONX</td>\n",
       "      <td>0</td>\n",
       "      <td>1.0</td>\n",
       "      <td>NaN</td>\n",
       "      <td>NaN</td>\n",
       "    </tr>\n",
       "    <tr>\n",
       "      <th>1</th>\n",
       "      <td>1400000US36005000200</td>\n",
       "      <td>36005000200</td>\n",
       "      <td>Census Tract 2, Bronx County, New York</td>\n",
       "      <td>BRONX</td>\n",
       "      <td>1492</td>\n",
       "      <td>2.0</td>\n",
       "      <td>NaN</td>\n",
       "      <td>NaN</td>\n",
       "    </tr>\n",
       "    <tr>\n",
       "      <th>2</th>\n",
       "      <td>1400000US36005000400</td>\n",
       "      <td>36005000400</td>\n",
       "      <td>Census Tract 4, Bronx County, New York</td>\n",
       "      <td>BRONX</td>\n",
       "      <td>2129</td>\n",
       "      <td>4.0</td>\n",
       "      <td>NaN</td>\n",
       "      <td>NaN</td>\n",
       "    </tr>\n",
       "    <tr>\n",
       "      <th>3</th>\n",
       "      <td>1400000US36005001600</td>\n",
       "      <td>36005001600</td>\n",
       "      <td>Census Tract 16, Bronx County, New York</td>\n",
       "      <td>BRONX</td>\n",
       "      <td>2046</td>\n",
       "      <td>16.0</td>\n",
       "      <td>NaN</td>\n",
       "      <td>NaN</td>\n",
       "    </tr>\n",
       "    <tr>\n",
       "      <th>4</th>\n",
       "      <td>1400000US36005001900</td>\n",
       "      <td>36005001900</td>\n",
       "      <td>Census Tract 19, Bronx County, New York</td>\n",
       "      <td>BRONX</td>\n",
       "      <td>947</td>\n",
       "      <td>19.0</td>\n",
       "      <td>19.0</td>\n",
       "      <td>671.0</td>\n",
       "    </tr>\n",
       "  </tbody>\n",
       "</table>\n",
       "</div>"
      ],
      "text/plain": [
       "                 GEO.id      GEO.id2                        GEO.display-label  \\\n",
       "0  1400000US36005000100  36005000100   Census Tract 1, Bronx County, New York   \n",
       "1  1400000US36005000200  36005000200   Census Tract 2, Bronx County, New York   \n",
       "2  1400000US36005000400  36005000400   Census Tract 4, Bronx County, New York   \n",
       "3  1400000US36005001600  36005001600  Census Tract 16, Bronx County, New York   \n",
       "4  1400000US36005001900  36005001900  Census Tract 19, Bronx County, New York   \n",
       "\n",
       "  Borough  Total_Housing_unit  n_ct  2010 Census Tract Number:  \\\n",
       "0   BRONX                   0   1.0                        NaN   \n",
       "1   BRONX                1492   2.0                        NaN   \n",
       "2   BRONX                2129   4.0                        NaN   \n",
       "3   BRONX                2046  16.0                        NaN   \n",
       "4   BRONX                 947  19.0                       19.0   \n",
       "\n",
       "   Total Low-Income Units:  \n",
       "0                      NaN  \n",
       "1                      NaN  \n",
       "2                      NaN  \n",
       "3                      NaN  \n",
       "4                    671.0  "
      ]
     },
     "execution_count": 61,
     "metadata": {},
     "output_type": "execute_result"
    }
   ],
   "source": [
    "df_.head()"
   ]
  },
  {
   "cell_type": "code",
   "execution_count": 62,
   "metadata": {
    "collapsed": true
   },
   "outputs": [],
   "source": [
    "del df_['2010 Census Tract Number:']"
   ]
  },
  {
   "cell_type": "code",
   "execution_count": 63,
   "metadata": {},
   "outputs": [
    {
     "data": {
      "text/html": [
       "<div>\n",
       "<style>\n",
       "    .dataframe thead tr:only-child th {\n",
       "        text-align: right;\n",
       "    }\n",
       "\n",
       "    .dataframe thead th {\n",
       "        text-align: left;\n",
       "    }\n",
       "\n",
       "    .dataframe tbody tr th {\n",
       "        vertical-align: top;\n",
       "    }\n",
       "</style>\n",
       "<table border=\"1\" class=\"dataframe\">\n",
       "  <thead>\n",
       "    <tr style=\"text-align: right;\">\n",
       "      <th></th>\n",
       "      <th>GEO.id</th>\n",
       "      <th>GEO.id2</th>\n",
       "      <th>GEO.display-label</th>\n",
       "      <th>Borough</th>\n",
       "      <th>Total_Housing_unit</th>\n",
       "      <th>n_ct</th>\n",
       "      <th>Total Low-Income Units:</th>\n",
       "    </tr>\n",
       "  </thead>\n",
       "  <tbody>\n",
       "    <tr>\n",
       "      <th>0</th>\n",
       "      <td>1400000US36005000100</td>\n",
       "      <td>36005000100</td>\n",
       "      <td>Census Tract 1, Bronx County, New York</td>\n",
       "      <td>BRONX</td>\n",
       "      <td>0</td>\n",
       "      <td>1.0</td>\n",
       "      <td>NaN</td>\n",
       "    </tr>\n",
       "    <tr>\n",
       "      <th>1</th>\n",
       "      <td>1400000US36005000200</td>\n",
       "      <td>36005000200</td>\n",
       "      <td>Census Tract 2, Bronx County, New York</td>\n",
       "      <td>BRONX</td>\n",
       "      <td>1492</td>\n",
       "      <td>2.0</td>\n",
       "      <td>NaN</td>\n",
       "    </tr>\n",
       "    <tr>\n",
       "      <th>2</th>\n",
       "      <td>1400000US36005000400</td>\n",
       "      <td>36005000400</td>\n",
       "      <td>Census Tract 4, Bronx County, New York</td>\n",
       "      <td>BRONX</td>\n",
       "      <td>2129</td>\n",
       "      <td>4.0</td>\n",
       "      <td>NaN</td>\n",
       "    </tr>\n",
       "    <tr>\n",
       "      <th>3</th>\n",
       "      <td>1400000US36005001600</td>\n",
       "      <td>36005001600</td>\n",
       "      <td>Census Tract 16, Bronx County, New York</td>\n",
       "      <td>BRONX</td>\n",
       "      <td>2046</td>\n",
       "      <td>16.0</td>\n",
       "      <td>NaN</td>\n",
       "    </tr>\n",
       "    <tr>\n",
       "      <th>4</th>\n",
       "      <td>1400000US36005001900</td>\n",
       "      <td>36005001900</td>\n",
       "      <td>Census Tract 19, Bronx County, New York</td>\n",
       "      <td>BRONX</td>\n",
       "      <td>947</td>\n",
       "      <td>19.0</td>\n",
       "      <td>671.0</td>\n",
       "    </tr>\n",
       "  </tbody>\n",
       "</table>\n",
       "</div>"
      ],
      "text/plain": [
       "                 GEO.id      GEO.id2                        GEO.display-label  \\\n",
       "0  1400000US36005000100  36005000100   Census Tract 1, Bronx County, New York   \n",
       "1  1400000US36005000200  36005000200   Census Tract 2, Bronx County, New York   \n",
       "2  1400000US36005000400  36005000400   Census Tract 4, Bronx County, New York   \n",
       "3  1400000US36005001600  36005001600  Census Tract 16, Bronx County, New York   \n",
       "4  1400000US36005001900  36005001900  Census Tract 19, Bronx County, New York   \n",
       "\n",
       "  Borough  Total_Housing_unit  n_ct  Total Low-Income Units:  \n",
       "0   BRONX                   0   1.0                      NaN  \n",
       "1   BRONX                1492   2.0                      NaN  \n",
       "2   BRONX                2129   4.0                      NaN  \n",
       "3   BRONX                2046  16.0                      NaN  \n",
       "4   BRONX                 947  19.0                    671.0  "
      ]
     },
     "execution_count": 63,
     "metadata": {},
     "output_type": "execute_result"
    }
   ],
   "source": [
    "df_.head()"
   ]
  },
  {
   "cell_type": "code",
   "execution_count": 64,
   "metadata": {
    "collapsed": true
   },
   "outputs": [],
   "source": [
    "# create a function that turn cell with nan into 0\n",
    "def check_z(x):\n",
    "    import math\n",
    "    if math.isnan(x):\n",
    "        return 0\n",
    "    else:\n",
    "        return x"
   ]
  },
  {
   "cell_type": "code",
   "execution_count": 65,
   "metadata": {
    "collapsed": true
   },
   "outputs": [],
   "source": [
    "# apply the check nan function\n",
    "df_['Total Low-Income Units:'] = df_['Total Low-Income Units:'].apply(lambda x:check_z(x))"
   ]
  },
  {
   "cell_type": "code",
   "execution_count": 66,
   "metadata": {},
   "outputs": [
    {
     "data": {
      "text/html": [
       "<div>\n",
       "<style>\n",
       "    .dataframe thead tr:only-child th {\n",
       "        text-align: right;\n",
       "    }\n",
       "\n",
       "    .dataframe thead th {\n",
       "        text-align: left;\n",
       "    }\n",
       "\n",
       "    .dataframe tbody tr th {\n",
       "        vertical-align: top;\n",
       "    }\n",
       "</style>\n",
       "<table border=\"1\" class=\"dataframe\">\n",
       "  <thead>\n",
       "    <tr style=\"text-align: right;\">\n",
       "      <th></th>\n",
       "      <th>GEO.id</th>\n",
       "      <th>GEO.id2</th>\n",
       "      <th>GEO.display-label</th>\n",
       "      <th>Borough</th>\n",
       "      <th>Total_Housing_unit</th>\n",
       "      <th>n_ct</th>\n",
       "      <th>Total Low-Income Units:</th>\n",
       "    </tr>\n",
       "  </thead>\n",
       "  <tbody>\n",
       "    <tr>\n",
       "      <th>0</th>\n",
       "      <td>1400000US36005000100</td>\n",
       "      <td>36005000100</td>\n",
       "      <td>Census Tract 1, Bronx County, New York</td>\n",
       "      <td>BRONX</td>\n",
       "      <td>0</td>\n",
       "      <td>1.0</td>\n",
       "      <td>0.0</td>\n",
       "    </tr>\n",
       "    <tr>\n",
       "      <th>1</th>\n",
       "      <td>1400000US36005000200</td>\n",
       "      <td>36005000200</td>\n",
       "      <td>Census Tract 2, Bronx County, New York</td>\n",
       "      <td>BRONX</td>\n",
       "      <td>1492</td>\n",
       "      <td>2.0</td>\n",
       "      <td>0.0</td>\n",
       "    </tr>\n",
       "    <tr>\n",
       "      <th>2</th>\n",
       "      <td>1400000US36005000400</td>\n",
       "      <td>36005000400</td>\n",
       "      <td>Census Tract 4, Bronx County, New York</td>\n",
       "      <td>BRONX</td>\n",
       "      <td>2129</td>\n",
       "      <td>4.0</td>\n",
       "      <td>0.0</td>\n",
       "    </tr>\n",
       "    <tr>\n",
       "      <th>3</th>\n",
       "      <td>1400000US36005001600</td>\n",
       "      <td>36005001600</td>\n",
       "      <td>Census Tract 16, Bronx County, New York</td>\n",
       "      <td>BRONX</td>\n",
       "      <td>2046</td>\n",
       "      <td>16.0</td>\n",
       "      <td>0.0</td>\n",
       "    </tr>\n",
       "    <tr>\n",
       "      <th>4</th>\n",
       "      <td>1400000US36005001900</td>\n",
       "      <td>36005001900</td>\n",
       "      <td>Census Tract 19, Bronx County, New York</td>\n",
       "      <td>BRONX</td>\n",
       "      <td>947</td>\n",
       "      <td>19.0</td>\n",
       "      <td>671.0</td>\n",
       "    </tr>\n",
       "  </tbody>\n",
       "</table>\n",
       "</div>"
      ],
      "text/plain": [
       "                 GEO.id      GEO.id2                        GEO.display-label  \\\n",
       "0  1400000US36005000100  36005000100   Census Tract 1, Bronx County, New York   \n",
       "1  1400000US36005000200  36005000200   Census Tract 2, Bronx County, New York   \n",
       "2  1400000US36005000400  36005000400   Census Tract 4, Bronx County, New York   \n",
       "3  1400000US36005001600  36005001600  Census Tract 16, Bronx County, New York   \n",
       "4  1400000US36005001900  36005001900  Census Tract 19, Bronx County, New York   \n",
       "\n",
       "  Borough  Total_Housing_unit  n_ct  Total Low-Income Units:  \n",
       "0   BRONX                   0   1.0                      0.0  \n",
       "1   BRONX                1492   2.0                      0.0  \n",
       "2   BRONX                2129   4.0                      0.0  \n",
       "3   BRONX                2046  16.0                      0.0  \n",
       "4   BRONX                 947  19.0                    671.0  "
      ]
     },
     "execution_count": 66,
     "metadata": {},
     "output_type": "execute_result"
    }
   ],
   "source": [
    "df_.head()"
   ]
  },
  {
   "cell_type": "code",
   "execution_count": 67,
   "metadata": {
    "collapsed": true
   },
   "outputs": [],
   "source": [
    "#calculate the low-income housing density \n",
    "df_['perc_pc'] = df_['Total Low-Income Units:']/df_.Total_Housing_unit"
   ]
  },
  {
   "cell_type": "code",
   "execution_count": 68,
   "metadata": {},
   "outputs": [
    {
     "data": {
      "text/html": [
       "<div>\n",
       "<style>\n",
       "    .dataframe thead tr:only-child th {\n",
       "        text-align: right;\n",
       "    }\n",
       "\n",
       "    .dataframe thead th {\n",
       "        text-align: left;\n",
       "    }\n",
       "\n",
       "    .dataframe tbody tr th {\n",
       "        vertical-align: top;\n",
       "    }\n",
       "</style>\n",
       "<table border=\"1\" class=\"dataframe\">\n",
       "  <thead>\n",
       "    <tr style=\"text-align: right;\">\n",
       "      <th></th>\n",
       "      <th>GEO.id</th>\n",
       "      <th>GEO.id2</th>\n",
       "      <th>GEO.display-label</th>\n",
       "      <th>Borough</th>\n",
       "      <th>Total_Housing_unit</th>\n",
       "      <th>n_ct</th>\n",
       "      <th>Total Low-Income Units:</th>\n",
       "      <th>perc_pc</th>\n",
       "    </tr>\n",
       "  </thead>\n",
       "  <tbody>\n",
       "    <tr>\n",
       "      <th>0</th>\n",
       "      <td>1400000US36005000100</td>\n",
       "      <td>36005000100</td>\n",
       "      <td>Census Tract 1, Bronx County, New York</td>\n",
       "      <td>BRONX</td>\n",
       "      <td>0</td>\n",
       "      <td>1.0</td>\n",
       "      <td>0.0</td>\n",
       "      <td>NaN</td>\n",
       "    </tr>\n",
       "    <tr>\n",
       "      <th>1</th>\n",
       "      <td>1400000US36005000200</td>\n",
       "      <td>36005000200</td>\n",
       "      <td>Census Tract 2, Bronx County, New York</td>\n",
       "      <td>BRONX</td>\n",
       "      <td>1492</td>\n",
       "      <td>2.0</td>\n",
       "      <td>0.0</td>\n",
       "      <td>0.000000</td>\n",
       "    </tr>\n",
       "    <tr>\n",
       "      <th>2</th>\n",
       "      <td>1400000US36005000400</td>\n",
       "      <td>36005000400</td>\n",
       "      <td>Census Tract 4, Bronx County, New York</td>\n",
       "      <td>BRONX</td>\n",
       "      <td>2129</td>\n",
       "      <td>4.0</td>\n",
       "      <td>0.0</td>\n",
       "      <td>0.000000</td>\n",
       "    </tr>\n",
       "    <tr>\n",
       "      <th>3</th>\n",
       "      <td>1400000US36005001600</td>\n",
       "      <td>36005001600</td>\n",
       "      <td>Census Tract 16, Bronx County, New York</td>\n",
       "      <td>BRONX</td>\n",
       "      <td>2046</td>\n",
       "      <td>16.0</td>\n",
       "      <td>0.0</td>\n",
       "      <td>0.000000</td>\n",
       "    </tr>\n",
       "    <tr>\n",
       "      <th>4</th>\n",
       "      <td>1400000US36005001900</td>\n",
       "      <td>36005001900</td>\n",
       "      <td>Census Tract 19, Bronx County, New York</td>\n",
       "      <td>BRONX</td>\n",
       "      <td>947</td>\n",
       "      <td>19.0</td>\n",
       "      <td>671.0</td>\n",
       "      <td>0.708553</td>\n",
       "    </tr>\n",
       "  </tbody>\n",
       "</table>\n",
       "</div>"
      ],
      "text/plain": [
       "                 GEO.id      GEO.id2                        GEO.display-label  \\\n",
       "0  1400000US36005000100  36005000100   Census Tract 1, Bronx County, New York   \n",
       "1  1400000US36005000200  36005000200   Census Tract 2, Bronx County, New York   \n",
       "2  1400000US36005000400  36005000400   Census Tract 4, Bronx County, New York   \n",
       "3  1400000US36005001600  36005001600  Census Tract 16, Bronx County, New York   \n",
       "4  1400000US36005001900  36005001900  Census Tract 19, Bronx County, New York   \n",
       "\n",
       "  Borough  Total_Housing_unit  n_ct  Total Low-Income Units:   perc_pc  \n",
       "0   BRONX                   0   1.0                      0.0       NaN  \n",
       "1   BRONX                1492   2.0                      0.0  0.000000  \n",
       "2   BRONX                2129   4.0                      0.0  0.000000  \n",
       "3   BRONX                2046  16.0                      0.0  0.000000  \n",
       "4   BRONX                 947  19.0                    671.0  0.708553  "
      ]
     },
     "execution_count": 68,
     "metadata": {},
     "output_type": "execute_result"
    }
   ],
   "source": [
    "df_.head()"
   ]
  },
  {
   "cell_type": "code",
   "execution_count": 69,
   "metadata": {
    "collapsed": true
   },
   "outputs": [],
   "source": [
    "df_ = df_[df_.Total_Housing_unit != 0]"
   ]
  },
  {
   "cell_type": "code",
   "execution_count": 70,
   "metadata": {},
   "outputs": [
    {
     "data": {
      "text/html": [
       "<div>\n",
       "<style>\n",
       "    .dataframe thead tr:only-child th {\n",
       "        text-align: right;\n",
       "    }\n",
       "\n",
       "    .dataframe thead th {\n",
       "        text-align: left;\n",
       "    }\n",
       "\n",
       "    .dataframe tbody tr th {\n",
       "        vertical-align: top;\n",
       "    }\n",
       "</style>\n",
       "<table border=\"1\" class=\"dataframe\">\n",
       "  <thead>\n",
       "    <tr style=\"text-align: right;\">\n",
       "      <th></th>\n",
       "      <th>GEO.id</th>\n",
       "      <th>GEO.id2</th>\n",
       "      <th>GEO.display-label</th>\n",
       "      <th>Borough</th>\n",
       "      <th>Total_Housing_unit</th>\n",
       "      <th>n_ct</th>\n",
       "      <th>Total Low-Income Units:</th>\n",
       "      <th>perc_pc</th>\n",
       "    </tr>\n",
       "  </thead>\n",
       "  <tbody>\n",
       "    <tr>\n",
       "      <th>1</th>\n",
       "      <td>1400000US36005000200</td>\n",
       "      <td>36005000200</td>\n",
       "      <td>Census Tract 2, Bronx County, New York</td>\n",
       "      <td>BRONX</td>\n",
       "      <td>1492</td>\n",
       "      <td>2.0</td>\n",
       "      <td>0.0</td>\n",
       "      <td>0.000000</td>\n",
       "    </tr>\n",
       "    <tr>\n",
       "      <th>2</th>\n",
       "      <td>1400000US36005000400</td>\n",
       "      <td>36005000400</td>\n",
       "      <td>Census Tract 4, Bronx County, New York</td>\n",
       "      <td>BRONX</td>\n",
       "      <td>2129</td>\n",
       "      <td>4.0</td>\n",
       "      <td>0.0</td>\n",
       "      <td>0.000000</td>\n",
       "    </tr>\n",
       "    <tr>\n",
       "      <th>3</th>\n",
       "      <td>1400000US36005001600</td>\n",
       "      <td>36005001600</td>\n",
       "      <td>Census Tract 16, Bronx County, New York</td>\n",
       "      <td>BRONX</td>\n",
       "      <td>2046</td>\n",
       "      <td>16.0</td>\n",
       "      <td>0.0</td>\n",
       "      <td>0.000000</td>\n",
       "    </tr>\n",
       "    <tr>\n",
       "      <th>4</th>\n",
       "      <td>1400000US36005001900</td>\n",
       "      <td>36005001900</td>\n",
       "      <td>Census Tract 19, Bronx County, New York</td>\n",
       "      <td>BRONX</td>\n",
       "      <td>947</td>\n",
       "      <td>19.0</td>\n",
       "      <td>671.0</td>\n",
       "      <td>0.708553</td>\n",
       "    </tr>\n",
       "    <tr>\n",
       "      <th>5</th>\n",
       "      <td>1400000US36005002000</td>\n",
       "      <td>36005002000</td>\n",
       "      <td>Census Tract 20, Bronx County, New York</td>\n",
       "      <td>BRONX</td>\n",
       "      <td>3170</td>\n",
       "      <td>20.0</td>\n",
       "      <td>0.0</td>\n",
       "      <td>0.000000</td>\n",
       "    </tr>\n",
       "  </tbody>\n",
       "</table>\n",
       "</div>"
      ],
      "text/plain": [
       "                 GEO.id      GEO.id2                        GEO.display-label  \\\n",
       "1  1400000US36005000200  36005000200   Census Tract 2, Bronx County, New York   \n",
       "2  1400000US36005000400  36005000400   Census Tract 4, Bronx County, New York   \n",
       "3  1400000US36005001600  36005001600  Census Tract 16, Bronx County, New York   \n",
       "4  1400000US36005001900  36005001900  Census Tract 19, Bronx County, New York   \n",
       "5  1400000US36005002000  36005002000  Census Tract 20, Bronx County, New York   \n",
       "\n",
       "  Borough  Total_Housing_unit  n_ct  Total Low-Income Units:   perc_pc  \n",
       "1   BRONX                1492   2.0                      0.0  0.000000  \n",
       "2   BRONX                2129   4.0                      0.0  0.000000  \n",
       "3   BRONX                2046  16.0                      0.0  0.000000  \n",
       "4   BRONX                 947  19.0                    671.0  0.708553  \n",
       "5   BRONX                3170  20.0                      0.0  0.000000  "
      ]
     },
     "execution_count": 70,
     "metadata": {},
     "output_type": "execute_result"
    }
   ],
   "source": [
    "df_.head()"
   ]
  },
  {
   "cell_type": "code",
   "execution_count": 71,
   "metadata": {
    "collapsed": true
   },
   "outputs": [],
   "source": [
    "#save the cleaned data into a csv.\n",
    "df_.to_csv('pc_density.csv')"
   ]
  }
 ],
 "metadata": {
  "kernelspec": {
   "display_name": "Python 3",
   "language": "python",
   "name": "python3"
  },
  "language_info": {
   "codemirror_mode": {
    "name": "ipython",
    "version": 3
   },
   "file_extension": ".py",
   "mimetype": "text/x-python",
   "name": "python",
   "nbconvert_exporter": "python",
   "pygments_lexer": "ipython3",
   "version": "3.6.1"
  }
 },
 "nbformat": 4,
 "nbformat_minor": 2
}
