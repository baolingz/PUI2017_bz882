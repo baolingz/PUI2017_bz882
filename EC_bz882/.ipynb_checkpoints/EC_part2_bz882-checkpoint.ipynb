{
 "cells": [
  {
   "cell_type": "code",
   "execution_count": 2,
   "metadata": {},
   "outputs": [
    {
     "name": "stdout",
     "output_type": "stream",
     "text": [
      "Populating the interactive namespace from numpy and matplotlib\n"
     ]
    },
    {
     "name": "stderr",
     "output_type": "stream",
     "text": [
      "/Users/zhoubaoling/anaconda/lib/python3.6/site-packages/IPython/core/magics/pylab.py:161: UserWarning: pylab import has clobbered these variables: ['plt']\n",
      "`%matplotlib` prevents importing * from pylab and numpy\n",
      "  \"\\n`%matplotlib` prevents importing * from pylab and numpy\"\n"
     ]
    }
   ],
   "source": [
    "import pandas as pd\n",
    "import numpy as np\n",
    "import math\n",
    "import pylab as plt\n",
    "import statsmodels.formula.api as smf\n",
    "%pylab inline"
   ]
  },
  {
   "cell_type": "markdown",
   "metadata": {},
   "source": [
    "## Download the Census Data from Social Explorer at census tract level for New York City"
   ]
  },
  {
   "cell_type": "code",
   "execution_count": 4,
   "metadata": {
    "collapsed": true
   },
   "outputs": [],
   "source": [
    "#The data for demographic and housing features was extracted from Social Explorer through the ACS neighborhood feature table by census tract, \n",
    "#and the number of low-income housing units in each census tract were extracted from the LIHTC Database Access. \n",
    "#The data analysis is from 2009 to 2015. \n",
    "df_15 = pd.read_csv('https://raw.githubusercontent.com/baolingz/PUI2017_bz882/master/Extra_Credit/df15%20copy.csv')\n",
    "df_14 = pd.read_csv('https://raw.githubusercontent.com/baolingz/PUI2017_bz882/master/Extra_Credit/df14%20copy.csv')\n",
    "df_13 = pd.read_csv('https://raw.githubusercontent.com/baolingz/PUI2017_bz882/master/Extra_Credit/df13%20copy.csv')\n",
    "df_12 = pd.read_csv('https://raw.githubusercontent.com/baolingz/PUI2017_bz882/master/Extra_Credit/df12%20copy.csv')\n",
    "df_11 = pd.read_csv('https://raw.githubusercontent.com/baolingz/PUI2017_bz882/master/Extra_Credit/df11%20copy.csv')\n",
    "df_10 = pd.read_csv('https://raw.githubusercontent.com/baolingz/PUI2017_bz882/master/Extra_Credit/df10%20copy.csv')\n",
    "df_09 = pd.read_csv('https://raw.githubusercontent.com/baolingz/PUI2017_bz882/master/Extra_Credit/df09%20copy.csv')"
   ]
  },
  {
   "cell_type": "code",
   "execution_count": 5,
   "metadata": {},
   "outputs": [
    {
     "data": {
      "text/plain": [
       "Index(['Unnamed: 0', 'Statistics', 'Population Density (Per Sq. Mile)',\n",
       "       'Total Population:', 'White Alone', 'Black or African American Alone',\n",
       "       'Asian Alone', 'Hispanic or Latino Alone', 'Less than High School',\n",
       "       'Bachelor's Degree or More',\n",
       "       'Median Household Income (In 2015 Inflation Adjusted Dollars)',\n",
       "       'Per Capita Income (In 2015 Inflation Adjusted Dollars)', 'Gini Index',\n",
       "       'Occupied', 'Median Year Structure Built', 'Median Value',\n",
       "       'Median Gross Rent', 'Under 2.00 (Poor or Struggling)',\n",
       "       '2.00 and Over (Doing Ok)', 'Foreign Born:',\n",
       "       'Population 25 Years and Over:', 'Housing Units:',\n",
       "       'Population for Whom Poverty Status Is Determined:', 'year'],\n",
       "      dtype='object')"
      ]
     },
     "execution_count": 5,
     "metadata": {},
     "output_type": "execute_result"
    }
   ],
   "source": [
    "df_15.columns"
   ]
  },
  {
   "cell_type": "code",
   "execution_count": 6,
   "metadata": {},
   "outputs": [
    {
     "data": {
      "text/plain": [
       "0    2015\n",
       "1    2015\n",
       "2    2015\n",
       "3    2015\n",
       "4    2015\n",
       "Name: year, dtype: int64"
      ]
     },
     "execution_count": 6,
     "metadata": {},
     "output_type": "execute_result"
    }
   ],
   "source": [
    "df_15.year.head()"
   ]
  },
  {
   "cell_type": "code",
   "execution_count": 7,
   "metadata": {
    "collapsed": true
   },
   "outputs": [],
   "source": [
    "del df_15['Unnamed: 0']\n",
    "del df_14['Unnamed: 0']\n",
    "del df_13['Unnamed: 0']\n",
    "del df_12['Unnamed: 0']\n",
    "del df_11['Unnamed: 0']\n",
    "del df_10['Unnamed: 0']\n",
    "del df_09['Unnamed: 0']"
   ]
  },
  {
   "cell_type": "code",
   "execution_count": 8,
   "metadata": {},
   "outputs": [
    {
     "data": {
      "text/plain": [
       "0    2015\n",
       "1    2015\n",
       "2    2015\n",
       "3    2015\n",
       "4    2015\n",
       "Name: year, dtype: int64"
      ]
     },
     "execution_count": 8,
     "metadata": {},
     "output_type": "execute_result"
    }
   ],
   "source": [
    "df_15.year.head()"
   ]
  },
  {
   "cell_type": "code",
   "execution_count": 9,
   "metadata": {
    "collapsed": true
   },
   "outputs": [],
   "source": [
    "#rename the column\n",
    "df_15.columns = ['ct_index', 'Population_density', 'Total_pop',\n",
    "       'perc_white', 'perc_black', 'perc_asian',\n",
    "       'perc_hispanic', 'high_school_below',\n",
    "       'bachelor_up',\n",
    "       'Median_hhs_Income',\n",
    "       'Per_Capita_Income', 'Gini_Index',\n",
    "       'Occupied_rate', 'Median_Year_Built', 'Median_Value',\n",
    "       'Median_Rent', 'inc_to_poverty_under2',\n",
    "       'inc_to_poverty_above2', 'Foreign_born','pop_25up','h_unit','pop_pvty', 'year']\n",
    "\n",
    "df_14.columns = ['ct_index', 'Population_density', 'Total_pop',\n",
    "       'perc_white', 'perc_black', 'perc_asian',\n",
    "       'perc_hispanic', 'high_school_below',\n",
    "       'bachelor_up',\n",
    "       'Median_hhs_Income',\n",
    "       'Per_Capita_Income', 'Gini_Index',\n",
    "       'Occupied_rate', 'Median_Year_Built', 'Median_Value',\n",
    "       'Median_Rent', 'inc_to_poverty_under2',\n",
    "       'inc_to_poverty_above2', 'Foreign_born','pop_25up','h_unit','pop_pvty', 'year']\n",
    "\n",
    "df_13.columns = ['ct_index', 'Population_density', 'Total_pop',\n",
    "       'perc_white', 'perc_black', 'perc_asian',\n",
    "       'perc_hispanic', 'high_school_below',\n",
    "       'bachelor_up',\n",
    "       'Median_hhs_Income',\n",
    "       'Per_Capita_Income', 'Gini_Index',\n",
    "       'Occupied_rate', 'Median_Year_Built', 'Median_Value',\n",
    "       'Median_Rent', 'inc_to_poverty_under2',\n",
    "       'inc_to_poverty_above2', 'Foreign_born','pop_25up','h_unit','pop_pvty', 'year']\n",
    "\n",
    "df_12.columns = ['ct_index', 'Population_density', 'Total_pop',\n",
    "       'perc_white', 'perc_black', 'perc_asian',\n",
    "       'perc_hispanic', 'high_school_below',\n",
    "       'bachelor_up',\n",
    "       'Median_hhs_Income',\n",
    "       'Per_Capita_Income', 'Gini_Index',\n",
    "       'Occupied_rate', 'Median_Year_Built', 'Median_Value',\n",
    "       'Median_Rent', 'inc_to_poverty_under2',\n",
    "       'inc_to_poverty_above2', 'Foreign_born','pop_25up','h_unit','pop_pvty', 'year']\n",
    "\n",
    "df_11.columns = ['ct_index', 'Population_density', 'Total_pop',\n",
    "       'perc_white', 'perc_black', 'perc_asian',\n",
    "       'perc_hispanic', 'high_school_below',\n",
    "       'bachelor_up',\n",
    "       'Median_hhs_Income',\n",
    "       'Per_Capita_Income', 'Gini_Index',\n",
    "       'Occupied_rate', 'Median_Year_Built', 'Median_Value',\n",
    "       'Median_Rent', 'inc_to_poverty_under2',\n",
    "       'inc_to_poverty_above2', 'Foreign_born','pop_25up','h_unit','pop_pvty', 'year']\n",
    "\n",
    "df_10.columns = ['ct_index', 'Population_density', 'Total_pop',\n",
    "       'perc_white', 'perc_black', 'perc_asian',\n",
    "       'perc_hispanic', 'high_school_below',\n",
    "       'bachelor_up',\n",
    "       'Median_hhs_Income',\n",
    "       'Per_Capita_Income', 'Gini_Index',\n",
    "       'Occupied_rate', 'Median_Year_Built', 'Median_Value',\n",
    "       'Median_Rent', 'inc_to_poverty_under2',\n",
    "       'inc_to_poverty_above2', 'Foreign_born', 'pop_25up','h_unit','pop_pvty', 'year']\n",
    "\n",
    "df_09.columns = ['ct_index', 'Population_density', 'Total_pop',\n",
    "       'perc_white', 'perc_black', 'perc_asian',\n",
    "       'perc_hispanic', 'high_school_below',\n",
    "       'bachelor_up',\n",
    "       'Median_hhs_Income',\n",
    "       'Per_Capita_Income', 'Gini_Index',\n",
    "       'Occupied_rate', 'Median_Year_Built', 'Median_Value',\n",
    "       'Median_Rent', 'inc_to_poverty_under2',\n",
    "       'inc_to_poverty_above2', 'Foreign_born', 'pop_25up','h_unit','pop_pvty', 'year']"
   ]
  },
  {
   "cell_type": "code",
   "execution_count": 10,
   "metadata": {
    "collapsed": true
   },
   "outputs": [],
   "source": [
    "# merge the 7 year dataset together \n",
    "df1 = df_15.append([df_14, df_13, df_12, df_11, df_10, df_09])"
   ]
  },
  {
   "cell_type": "code",
   "execution_count": 11,
   "metadata": {},
   "outputs": [
    {
     "data": {
      "text/plain": [
       "(30454, 23)"
      ]
     },
     "execution_count": 11,
     "metadata": {},
     "output_type": "execute_result"
    }
   ],
   "source": [
    "df1.shape"
   ]
  },
  {
   "cell_type": "code",
   "execution_count": 12,
   "metadata": {},
   "outputs": [
    {
     "data": {
      "text/plain": [
       "15227.0"
      ]
     },
     "execution_count": 12,
     "metadata": {},
     "output_type": "execute_result"
    }
   ],
   "source": [
    "30454/2"
   ]
  },
  {
   "cell_type": "code",
   "execution_count": 13,
   "metadata": {},
   "outputs": [
    {
     "data": {
      "text/plain": [
       "Index(['ct_index', 'Population_density', 'Total_pop', 'perc_white',\n",
       "       'perc_black', 'perc_asian', 'perc_hispanic', 'high_school_below',\n",
       "       'bachelor_up', 'Median_hhs_Income', 'Per_Capita_Income', 'Gini_Index',\n",
       "       'Occupied_rate', 'Median_Year_Built', 'Median_Value', 'Median_Rent',\n",
       "       'inc_to_poverty_under2', 'inc_to_poverty_above2', 'Foreign_born',\n",
       "       'pop_25up', 'h_unit', 'pop_pvty', 'year'],\n",
       "      dtype='object')"
      ]
     },
     "execution_count": 13,
     "metadata": {},
     "output_type": "execute_result"
    }
   ],
   "source": [
    "df1.columns"
   ]
  },
  {
   "cell_type": "code",
   "execution_count": 14,
   "metadata": {},
   "outputs": [
    {
     "data": {
      "text/plain": [
       "0    2015\n",
       "1    2015\n",
       "2    2015\n",
       "3    2015\n",
       "4    2015\n",
       "Name: year, dtype: int64"
      ]
     },
     "execution_count": 14,
     "metadata": {},
     "output_type": "execute_result"
    }
   ],
   "source": [
    "df1.year.head()"
   ]
  },
  {
   "cell_type": "code",
   "execution_count": 27,
   "metadata": {},
   "outputs": [],
   "source": [
    "df1.to_csv('df1.csv')"
   ]
  },
  {
   "cell_type": "markdown",
   "metadata": {},
   "source": [
    "## Saving point 2"
   ]
  },
  {
   "cell_type": "code",
   "execution_count": 28,
   "metadata": {
    "collapsed": true
   },
   "outputs": [],
   "source": [
    "df2 = pd.read_csv('df1.csv')"
   ]
  },
  {
   "cell_type": "code",
   "execution_count": 29,
   "metadata": {},
   "outputs": [
    {
     "data": {
      "text/plain": [
       "0    2015\n",
       "1    2015\n",
       "2    2015\n",
       "3    2015\n",
       "4    2015\n",
       "Name: year, dtype: int64"
      ]
     },
     "execution_count": 29,
     "metadata": {},
     "output_type": "execute_result"
    }
   ],
   "source": [
    "df2.year.head()"
   ]
  },
  {
   "cell_type": "code",
   "execution_count": 30,
   "metadata": {
    "collapsed": true
   },
   "outputs": [],
   "source": [
    "del df2['Unnamed: 0']"
   ]
  },
  {
   "cell_type": "code",
   "execution_count": 31,
   "metadata": {
    "collapsed": true
   },
   "outputs": [],
   "source": [
    "#df2 = df2.T"
   ]
  },
  {
   "cell_type": "code",
   "execution_count": 32,
   "metadata": {},
   "outputs": [
    {
     "data": {
      "text/plain": [
       "11"
      ]
     },
     "execution_count": 32,
     "metadata": {},
     "output_type": "execute_result"
    }
   ],
   "source": [
    "int(len(df2.columns)/2)"
   ]
  },
  {
   "cell_type": "code",
   "execution_count": 33,
   "metadata": {},
   "outputs": [
    {
     "data": {
      "text/plain": [
       "Index(['ct_index', 'Population_density', 'Total_pop', 'perc_white',\n",
       "       'perc_black', 'perc_asian', 'perc_hispanic', 'high_school_below',\n",
       "       'bachelor_up', 'Median_hhs_Income', 'Per_Capita_Income', 'Gini_Index',\n",
       "       'Occupied_rate', 'Median_Year_Built', 'Median_Value', 'Median_Rent',\n",
       "       'inc_to_poverty_under2', 'inc_to_poverty_above2', 'Foreign_born',\n",
       "       'pop_25up', 'h_unit', 'pop_pvty', 'year'],\n",
       "      dtype='object')"
      ]
     },
     "execution_count": 33,
     "metadata": {},
     "output_type": "execute_result"
    }
   ],
   "source": [
    "df2.columns"
   ]
  },
  {
   "cell_type": "code",
   "execution_count": 34,
   "metadata": {},
   "outputs": [],
   "source": [
    "# calculate the propotion value for each variables\n",
    "df2.perc_white = df2.perc_white/df2.Total_pop\n",
    "df2.perc_black = df2.perc_black/df2.Total_pop\n",
    "df2.perc_asian = df2.perc_white/df2.Total_pop\n",
    "df2.perc_hispanic = df2.perc_hispanic/df2.Total_pop\n",
    "df2.high_school_below = df2.high_school_below/df2.pop_25up\n",
    "df2.bachelor_up = df2.bachelor_up/df2.pop_25up\n",
    "df2.Occupied_rate = df2.Occupied_rate/df2.h_unit\n",
    "df2.inc_to_poverty_under2 = df2.inc_to_poverty_under2/df2.pop_pvty\n",
    "df2.inc_to_poverty_above2 = df2.inc_to_poverty_above2/df2.pop_pvty\n",
    "df2.Foreign_born = df2.Foreign_born/df2.Total_pop"
   ]
  },
  {
   "cell_type": "code",
   "execution_count": 35,
   "metadata": {},
   "outputs": [
    {
     "data": {
      "text/plain": [
       "array([2015, 2014, 2013, 2012, 2011, 2010, 2009])"
      ]
     },
     "execution_count": 35,
     "metadata": {},
     "output_type": "execute_result"
    }
   ],
   "source": [
    "df2.year.unique()"
   ]
  },
  {
   "cell_type": "code",
   "execution_count": 37,
   "metadata": {},
   "outputs": [],
   "source": [
    "df2.to_csv('df2.csv')"
   ]
  },
  {
   "cell_type": "markdown",
   "metadata": {
    "collapsed": true
   },
   "source": [
    "## Saving point 3"
   ]
  },
  {
   "cell_type": "code",
   "execution_count": 172,
   "metadata": {},
   "outputs": [],
   "source": [
    "df3 = pd.read_csv('df2.csv')"
   ]
  },
  {
   "cell_type": "code",
   "execution_count": 173,
   "metadata": {},
   "outputs": [],
   "source": [
    "del df3['Unnamed: 0']"
   ]
  },
  {
   "cell_type": "code",
   "execution_count": 174,
   "metadata": {},
   "outputs": [],
   "source": [
    "# read the clean file regarding low-income housing density\n",
    "df_pc = pd.read_csv('pc_density.csv')"
   ]
  },
  {
   "cell_type": "code",
   "execution_count": 175,
   "metadata": {},
   "outputs": [],
   "source": [
    "del df_pc['Unnamed: 0']"
   ]
  },
  {
   "cell_type": "code",
   "execution_count": 176,
   "metadata": {},
   "outputs": [
    {
     "data": {
      "text/plain": [
       "(30454, 23)"
      ]
     },
     "execution_count": 176,
     "metadata": {},
     "output_type": "execute_result"
    }
   ],
   "source": [
    "df3.shape"
   ]
  },
  {
   "cell_type": "code",
   "execution_count": 177,
   "metadata": {},
   "outputs": [
    {
     "data": {
      "text/plain": [
       "(2122, 8)"
      ]
     },
     "execution_count": 177,
     "metadata": {},
     "output_type": "execute_result"
    }
   ],
   "source": [
    "df_pc.shape"
   ]
  },
  {
   "cell_type": "code",
   "execution_count": 178,
   "metadata": {},
   "outputs": [
    {
     "data": {
      "text/html": [
       "<div>\n",
       "<style>\n",
       "    .dataframe thead tr:only-child th {\n",
       "        text-align: right;\n",
       "    }\n",
       "\n",
       "    .dataframe thead th {\n",
       "        text-align: left;\n",
       "    }\n",
       "\n",
       "    .dataframe tbody tr th {\n",
       "        vertical-align: top;\n",
       "    }\n",
       "</style>\n",
       "<table border=\"1\" class=\"dataframe\">\n",
       "  <thead>\n",
       "    <tr style=\"text-align: right;\">\n",
       "      <th></th>\n",
       "      <th>GEO.id</th>\n",
       "      <th>GEO.id2</th>\n",
       "      <th>GEO.display-label</th>\n",
       "      <th>Borough</th>\n",
       "      <th>Total_Housing_unit</th>\n",
       "      <th>n_ct</th>\n",
       "      <th>Total Low-Income Units:</th>\n",
       "      <th>perc_pc</th>\n",
       "    </tr>\n",
       "  </thead>\n",
       "  <tbody>\n",
       "    <tr>\n",
       "      <th>0</th>\n",
       "      <td>1400000US36005000200</td>\n",
       "      <td>36005000200</td>\n",
       "      <td>Census Tract 2, Bronx County, New York</td>\n",
       "      <td>BRONX</td>\n",
       "      <td>1492</td>\n",
       "      <td>2.0</td>\n",
       "      <td>0.0</td>\n",
       "      <td>0.000000</td>\n",
       "    </tr>\n",
       "    <tr>\n",
       "      <th>1</th>\n",
       "      <td>1400000US36005000400</td>\n",
       "      <td>36005000400</td>\n",
       "      <td>Census Tract 4, Bronx County, New York</td>\n",
       "      <td>BRONX</td>\n",
       "      <td>2129</td>\n",
       "      <td>4.0</td>\n",
       "      <td>0.0</td>\n",
       "      <td>0.000000</td>\n",
       "    </tr>\n",
       "    <tr>\n",
       "      <th>2</th>\n",
       "      <td>1400000US36005001600</td>\n",
       "      <td>36005001600</td>\n",
       "      <td>Census Tract 16, Bronx County, New York</td>\n",
       "      <td>BRONX</td>\n",
       "      <td>2046</td>\n",
       "      <td>16.0</td>\n",
       "      <td>0.0</td>\n",
       "      <td>0.000000</td>\n",
       "    </tr>\n",
       "    <tr>\n",
       "      <th>3</th>\n",
       "      <td>1400000US36005001900</td>\n",
       "      <td>36005001900</td>\n",
       "      <td>Census Tract 19, Bronx County, New York</td>\n",
       "      <td>BRONX</td>\n",
       "      <td>947</td>\n",
       "      <td>19.0</td>\n",
       "      <td>671.0</td>\n",
       "      <td>0.708553</td>\n",
       "    </tr>\n",
       "    <tr>\n",
       "      <th>4</th>\n",
       "      <td>1400000US36005002000</td>\n",
       "      <td>36005002000</td>\n",
       "      <td>Census Tract 20, Bronx County, New York</td>\n",
       "      <td>BRONX</td>\n",
       "      <td>3170</td>\n",
       "      <td>20.0</td>\n",
       "      <td>0.0</td>\n",
       "      <td>0.000000</td>\n",
       "    </tr>\n",
       "  </tbody>\n",
       "</table>\n",
       "</div>"
      ],
      "text/plain": [
       "                 GEO.id      GEO.id2                        GEO.display-label  \\\n",
       "0  1400000US36005000200  36005000200   Census Tract 2, Bronx County, New York   \n",
       "1  1400000US36005000400  36005000400   Census Tract 4, Bronx County, New York   \n",
       "2  1400000US36005001600  36005001600  Census Tract 16, Bronx County, New York   \n",
       "3  1400000US36005001900  36005001900  Census Tract 19, Bronx County, New York   \n",
       "4  1400000US36005002000  36005002000  Census Tract 20, Bronx County, New York   \n",
       "\n",
       "  Borough  Total_Housing_unit  n_ct  Total Low-Income Units:   perc_pc  \n",
       "0   BRONX                1492   2.0                      0.0  0.000000  \n",
       "1   BRONX                2129   4.0                      0.0  0.000000  \n",
       "2   BRONX                2046  16.0                      0.0  0.000000  \n",
       "3   BRONX                 947  19.0                    671.0  0.708553  \n",
       "4   BRONX                3170  20.0                      0.0  0.000000  "
      ]
     },
     "execution_count": 178,
     "metadata": {},
     "output_type": "execute_result"
    }
   ],
   "source": [
    "df_pc.head()"
   ]
  },
  {
   "cell_type": "code",
   "execution_count": 179,
   "metadata": {},
   "outputs": [
    {
     "data": {
      "text/plain": [
       "array([2015, 2014, 2013, 2012, 2011, 2010, 2009])"
      ]
     },
     "execution_count": 179,
     "metadata": {},
     "output_type": "execute_result"
    }
   ],
   "source": [
    "df3.year.unique()"
   ]
  },
  {
   "cell_type": "code",
   "execution_count": 180,
   "metadata": {
    "collapsed": true
   },
   "outputs": [],
   "source": [
    "# merge the low-income housing density data with census data\n",
    "df3 = pd.merge(df3, df_pc, how='inner', on=None, left_on='ct_index', right_on='GEO.display-label')"
   ]
  },
  {
   "cell_type": "code",
   "execution_count": 181,
   "metadata": {},
   "outputs": [
    {
     "data": {
      "text/plain": [
       "array([2015, 2014, 2013, 2010, 2009])"
      ]
     },
     "execution_count": 181,
     "metadata": {},
     "output_type": "execute_result"
    }
   ],
   "source": [
    "df3.year.unique()"
   ]
  },
  {
   "cell_type": "code",
   "execution_count": 182,
   "metadata": {},
   "outputs": [
    {
     "data": {
      "text/plain": [
       "Index(['ct_index', 'Population_density', 'Total_pop', 'perc_white',\n",
       "       'perc_black', 'perc_asian', 'perc_hispanic', 'high_school_below',\n",
       "       'bachelor_up', 'Median_hhs_Income', 'Per_Capita_Income', 'Gini_Index',\n",
       "       'Occupied_rate', 'Median_Year_Built', 'Median_Value', 'Median_Rent',\n",
       "       'inc_to_poverty_under2', 'inc_to_poverty_above2', 'Foreign_born',\n",
       "       'pop_25up', 'h_unit', 'pop_pvty', 'year', 'GEO.id', 'GEO.id2',\n",
       "       'GEO.display-label', 'Borough', 'Total_Housing_unit', 'n_ct',\n",
       "       'Total Low-Income Units:', 'perc_pc'],\n",
       "      dtype='object')"
      ]
     },
     "execution_count": 182,
     "metadata": {},
     "output_type": "execute_result"
    }
   ],
   "source": [
    "df3.columns"
   ]
  },
  {
   "cell_type": "code",
   "execution_count": 183,
   "metadata": {},
   "outputs": [
    {
     "data": {
      "text/plain": [
       "(10062, 31)"
      ]
     },
     "execution_count": 183,
     "metadata": {},
     "output_type": "execute_result"
    }
   ],
   "source": [
    "df3.shape"
   ]
  },
  {
   "cell_type": "code",
   "execution_count": 184,
   "metadata": {
    "collapsed": true
   },
   "outputs": [],
   "source": [
    "#df3[df3['GEO.id2'] == 36005000200]"
   ]
  },
  {
   "cell_type": "code",
   "execution_count": 185,
   "metadata": {},
   "outputs": [],
   "source": [
    "#I found total housing units is also available in Census data, so I recalculate the low-income housing and leave it \n",
    "# as a second option\n",
    "df3['perc_pc_'] = df3['Total Low-Income Units:']/df3.h_unit"
   ]
  },
  {
   "cell_type": "code",
   "execution_count": 186,
   "metadata": {
    "collapsed": true
   },
   "outputs": [],
   "source": [
    "# turn year built into building age\n",
    "df3['building_age'] = 2017 - df3.Median_Year_Built"
   ]
  },
  {
   "cell_type": "code",
   "execution_count": 187,
   "metadata": {
    "collapsed": true
   },
   "outputs": [],
   "source": [
    "# drop the columns that won't be used in regression analysis\n",
    "df3 = df3.drop(['Median_Year_Built', 'pop_25up', 'h_unit', 'pop_pvty', 'GEO.id', 'GEO.display-label', 'Borough'], axis=1)"
   ]
  },
  {
   "cell_type": "code",
   "execution_count": 188,
   "metadata": {},
   "outputs": [
    {
     "name": "stderr",
     "output_type": "stream",
     "text": [
      "/Users/zhoubaoling/anaconda/lib/python3.6/site-packages/ipykernel_launcher.py:1: RuntimeWarning: divide by zero encountered in log\n",
      "  \"\"\"Entry point for launching an IPython kernel.\n"
     ]
    }
   ],
   "source": [
    "# calulate the entropy index (racial diversity index) for each census tract\n",
    "# https://www.census.gov/hhes/www/housing/resseg/pdf/app_b.pdf\n",
    "df3['entropy_index'] = -(df3.perc_white * np.log(df3.perc_white) + df3.perc_black * np.log(df3.perc_black) \\\n",
    "  + df3.perc_asian * np.log(df3.perc_asian) + df3.perc_hispanic * np.log(df3.perc_hispanic))"
   ]
  },
  {
   "cell_type": "code",
   "execution_count": 189,
   "metadata": {
    "collapsed": true
   },
   "outputs": [],
   "source": [
    "# drop the records without all 7 years value\n",
    "df3 = df3.iloc[0:9997]"
   ]
  },
  {
   "cell_type": "code",
   "execution_count": 190,
   "metadata": {},
   "outputs": [
    {
     "data": {
      "text/plain": [
       "array([2015, 2014, 2013, 2010, 2009])"
      ]
     },
     "execution_count": 190,
     "metadata": {},
     "output_type": "execute_result"
    }
   ],
   "source": [
    "# only 5 years column left since too many missing values in year 2011 and 2012\n",
    "df3.year.unique()"
   ]
  },
  {
   "cell_type": "code",
   "execution_count": 191,
   "metadata": {
    "collapsed": true
   },
   "outputs": [],
   "source": [
    "df3 = df3.dropna(axis=0, how='any')"
   ]
  },
  {
   "cell_type": "code",
   "execution_count": 192,
   "metadata": {},
   "outputs": [
    {
     "data": {
      "text/plain": [
       "(8090, 27)"
      ]
     },
     "execution_count": 192,
     "metadata": {},
     "output_type": "execute_result"
    }
   ],
   "source": [
    "df3.shape"
   ]
  },
  {
   "cell_type": "code",
   "execution_count": 193,
   "metadata": {},
   "outputs": [],
   "source": [
    "df3.to_csv('df3.csv')"
   ]
  },
  {
   "cell_type": "markdown",
   "metadata": {},
   "source": [
    "## Saving point 4"
   ]
  },
  {
   "cell_type": "code",
   "execution_count": 194,
   "metadata": {
    "collapsed": true
   },
   "outputs": [],
   "source": [
    "df4 = pd.read_csv('df3.csv')"
   ]
  },
  {
   "cell_type": "code",
   "execution_count": 195,
   "metadata": {
    "collapsed": true
   },
   "outputs": [],
   "source": [
    "del df4['Unnamed: 0']"
   ]
  },
  {
   "cell_type": "code",
   "execution_count": 196,
   "metadata": {},
   "outputs": [
    {
     "data": {
      "text/plain": [
       "(8090, 27)"
      ]
     },
     "execution_count": 196,
     "metadata": {},
     "output_type": "execute_result"
    }
   ],
   "source": [
    "df4.shape"
   ]
  },
  {
   "cell_type": "code",
   "execution_count": 197,
   "metadata": {
    "collapsed": true
   },
   "outputs": [],
   "source": [
    "df4.dropna(inplace =True, axis=0)"
   ]
  },
  {
   "cell_type": "code",
   "execution_count": 198,
   "metadata": {},
   "outputs": [
    {
     "data": {
      "text/plain": [
       "8090"
      ]
     },
     "execution_count": 198,
     "metadata": {},
     "output_type": "execute_result"
    }
   ],
   "source": [
    "len(df4)"
   ]
  },
  {
   "cell_type": "code",
   "execution_count": 199,
   "metadata": {},
   "outputs": [
    {
     "data": {
      "text/plain": [
       "Index(['ct_index', 'Population_density', 'Total_pop', 'perc_white',\n",
       "       'perc_black', 'perc_asian', 'perc_hispanic', 'high_school_below',\n",
       "       'bachelor_up', 'Median_hhs_Income', 'Per_Capita_Income', 'Gini_Index',\n",
       "       'Occupied_rate', 'Median_Value', 'Median_Rent', 'inc_to_poverty_under2',\n",
       "       'inc_to_poverty_above2', 'Foreign_born', 'year', 'GEO.id2',\n",
       "       'Total_Housing_unit', 'n_ct', 'Total Low-Income Units:', 'perc_pc',\n",
       "       'perc_pc_', 'building_age', 'entropy_index'],\n",
       "      dtype='object')"
      ]
     },
     "execution_count": 199,
     "metadata": {},
     "output_type": "execute_result"
    }
   ],
   "source": [
    "df4.columns"
   ]
  },
  {
   "cell_type": "code",
   "execution_count": 200,
   "metadata": {},
   "outputs": [
    {
     "data": {
      "text/plain": [
       "array([2015, 2014, 2013, 2010, 2009])"
      ]
     },
     "execution_count": 200,
     "metadata": {},
     "output_type": "execute_result"
    }
   ],
   "source": [
    "df4.year.unique()"
   ]
  },
  {
   "cell_type": "code",
   "execution_count": 208,
   "metadata": {},
   "outputs": [
    {
     "data": {
      "text/plain": [
       "count    8082.000000\n",
       "mean        0.027017\n",
       "std         0.084440\n",
       "min         0.000000\n",
       "25%         0.000000\n",
       "50%         0.000000\n",
       "75%         0.004138\n",
       "max         0.997175\n",
       "Name: perc_pc, dtype: float64"
      ]
     },
     "execution_count": 208,
     "metadata": {},
     "output_type": "execute_result"
    }
   ],
   "source": [
    "df4.perc_pc.describe()"
   ]
  },
  {
   "cell_type": "code",
   "execution_count": 206,
   "metadata": {
    "collapsed": true
   },
   "outputs": [],
   "source": [
    "# drop records with low-income housing density more than 100%\n",
    "df4 = df4[(df4.perc_pc <=1) & (df4.perc_pc_<=1)]"
   ]
  },
  {
   "cell_type": "code",
   "execution_count": 207,
   "metadata": {},
   "outputs": [
    {
     "data": {
      "text/plain": [
       "Index(['ct_index', 'Population_density', 'Total_pop', 'perc_white',\n",
       "       'perc_black', 'perc_asian', 'perc_hispanic', 'high_school_below',\n",
       "       'bachelor_up', 'Median_hhs_Income', 'Per_Capita_Income', 'Gini_Index',\n",
       "       'Occupied_rate', 'Median_Value', 'Median_Rent', 'inc_to_poverty_under2',\n",
       "       'inc_to_poverty_above2', 'Foreign_born', 'year', 'GEO.id2',\n",
       "       'Total_Housing_unit', 'n_ct', 'Total Low-Income Units:', 'perc_pc',\n",
       "       'perc_pc_', 'building_age', 'entropy_index'],\n",
       "      dtype='object')"
      ]
     },
     "execution_count": 207,
     "metadata": {},
     "output_type": "execute_result"
    }
   ],
   "source": [
    "df4.columns"
   ]
  },
  {
   "cell_type": "code",
   "execution_count": 209,
   "metadata": {},
   "outputs": [
    {
     "data": {
      "text/plain": [
       "0    $1,358\n",
       "1    $1,282\n",
       "2    $1,264\n",
       "3    $1,273\n",
       "4    $1,328\n",
       "Name: Median_Rent, dtype: object"
      ]
     },
     "execution_count": 209,
     "metadata": {},
     "output_type": "execute_result"
    }
   ],
   "source": [
    "df4.Median_Rent.head()"
   ]
  },
  {
   "cell_type": "code",
   "execution_count": 234,
   "metadata": {},
   "outputs": [
    {
     "name": "stdout",
     "output_type": "stream",
     "text": [
      "<class 'pandas.core.frame.DataFrame'>\n",
      "RangeIndex: 1888 entries, 0 to 1887\n",
      "Data columns (total 32 columns):\n",
      "ct_index                   1888 non-null object\n",
      "Population_density         1888 non-null float64\n",
      "Total_pop                  1888 non-null float64\n",
      "perc_white                 1888 non-null float64\n",
      "perc_black                 1888 non-null float64\n",
      "perc_asian                 1888 non-null float64\n",
      "perc_hispanic              1888 non-null float64\n",
      "high_school_below          1888 non-null float64\n",
      "bachelor_up                1888 non-null float64\n",
      "Median_hhs_Income          1888 non-null float64\n",
      "Per_Capita_Income          1888 non-null float64\n",
      "Gini_Index                 1888 non-null float64\n",
      "Occupied_rate              1888 non-null float64\n",
      "Median_Value               1888 non-null float64\n",
      "Median_Rent                1888 non-null float64\n",
      "inc_to_poverty_under2      1888 non-null float64\n",
      "inc_to_poverty_above2      1888 non-null float64\n",
      "Foreign_born               1888 non-null float64\n",
      "year                       1888 non-null float64\n",
      "GEO.id2                    1888 non-null float64\n",
      "Total_Housing_unit         1888 non-null float64\n",
      "n_ct                       1888 non-null float64\n",
      "Total Low-Income Units:    1888 non-null float64\n",
      "perc_pc                    1888 non-null float64\n",
      "perc_pc_                   1888 non-null float64\n",
      "building_age               1888 non-null float64\n",
      "entropy_index              1888 non-null float64\n",
      "log_pop                    1888 non-null float64\n",
      "log_pop_density            1888 non-null float64\n",
      "log_h_unit                 1888 non-null float64\n",
      "log_income                 1888 non-null float64\n",
      "log_inc_p                  1888 non-null float64\n",
      "dtypes: float64(31), object(1)\n",
      "memory usage: 472.1+ KB\n"
     ]
    }
   ],
   "source": [
    "df4.info()"
   ]
  },
  {
   "cell_type": "code",
   "execution_count": 211,
   "metadata": {
    "collapsed": true
   },
   "outputs": [],
   "source": [
    "# turn string value into float\n",
    "df4['Median_hhs_Income'] = df4.Median_hhs_Income.apply(lambda x:float(x[1:].replace(\",\",\"\")))\n",
    "df4['Per_Capita_Income'] = df4.Per_Capita_Income.apply(lambda x:float(x[1:].replace(\",\",\"\")))\n",
    "df4['Median_Value'] = df4.Median_Value.apply(lambda x:float(x[1:].replace(\",\",\"\")))\n",
    "df4['Median_Rent'] = df4.Median_Rent.apply(lambda x:float(x[1:].replace(\",\",\"\")))"
   ]
  },
  {
   "cell_type": "code",
   "execution_count": 212,
   "metadata": {
    "collapsed": true
   },
   "outputs": [],
   "source": [
    "df4 = df4.groupby('ct_index').mean()"
   ]
  },
  {
   "cell_type": "code",
   "execution_count": 213,
   "metadata": {
    "collapsed": true
   },
   "outputs": [],
   "source": [
    "#df4 = df4.groupby('GEO.id2').mean()\n"
   ]
  },
  {
   "cell_type": "code",
   "execution_count": 214,
   "metadata": {
    "collapsed": true
   },
   "outputs": [],
   "source": [
    "df4.reset_index(inplace=True)"
   ]
  },
  {
   "cell_type": "code",
   "execution_count": 215,
   "metadata": {},
   "outputs": [
    {
     "data": {
      "text/plain": [
       "(1888, 27)"
      ]
     },
     "execution_count": 215,
     "metadata": {},
     "output_type": "execute_result"
    }
   ],
   "source": [
    "df4.shape"
   ]
  },
  {
   "cell_type": "code",
   "execution_count": 216,
   "metadata": {},
   "outputs": [
    {
     "data": {
      "text/plain": [
       "Index(['ct_index', 'Population_density', 'Total_pop', 'perc_white',\n",
       "       'perc_black', 'perc_asian', 'perc_hispanic', 'high_school_below',\n",
       "       'bachelor_up', 'Median_hhs_Income', 'Per_Capita_Income', 'Gini_Index',\n",
       "       'Occupied_rate', 'Median_Value', 'Median_Rent', 'inc_to_poverty_under2',\n",
       "       'inc_to_poverty_above2', 'Foreign_born', 'year', 'GEO.id2',\n",
       "       'Total_Housing_unit', 'n_ct', 'Total Low-Income Units:', 'perc_pc',\n",
       "       'perc_pc_', 'building_age', 'entropy_index'],\n",
       "      dtype='object')"
      ]
     },
     "execution_count": 216,
     "metadata": {},
     "output_type": "execute_result"
    }
   ],
   "source": [
    "df4.columns"
   ]
  },
  {
   "cell_type": "code",
   "execution_count": 217,
   "metadata": {},
   "outputs": [
    {
     "data": {
      "text/plain": [
       "Index(['ct_index', 'Population_density', 'Total_pop', 'perc_white',\n",
       "       'perc_black', 'perc_asian', 'perc_hispanic', 'high_school_below',\n",
       "       'bachelor_up', 'Median_hhs_Income', 'Per_Capita_Income', 'Gini_Index',\n",
       "       'Occupied_rate', 'Median_Value', 'Median_Rent', 'inc_to_poverty_under2',\n",
       "       'inc_to_poverty_above2', 'Foreign_born', 'year', 'GEO.id2',\n",
       "       'Total_Housing_unit', 'n_ct', 'Total Low-Income Units:', 'perc_pc',\n",
       "       'perc_pc_', 'building_age', 'entropy_index'],\n",
       "      dtype='object')"
      ]
     },
     "execution_count": 217,
     "metadata": {},
     "output_type": "execute_result"
    }
   ],
   "source": [
    "df4.columns"
   ]
  },
  {
   "cell_type": "code",
   "execution_count": 223,
   "metadata": {
    "collapsed": true
   },
   "outputs": [],
   "source": [
    "# turn variable in a large scale into log value\n",
    "df4['log_pop'] = np.log(df4.Total_pop)\n",
    "df4['log_pop_density'] = np.log(df4.Population_density)\n",
    "df4['log_h_unit'] = np.log(df4.Total_Housing_unit) \n",
    "df4['log_income'] =np.log(df4.Median_hhs_Income)\n",
    "df4['log_inc_p'] = np.log(df4.Per_Capita_Income)\n",
    "df4['Median_Value'] = np.log(df4.Median_Value)\n",
    "df4['Median_Rent'] = np.log(df4.Median_Rent)"
   ]
  },
  {
   "cell_type": "code",
   "execution_count": 224,
   "metadata": {
    "collapsed": true
   },
   "outputs": [],
   "source": [
    "df4.to_csv('df4.csv')"
   ]
  },
  {
   "cell_type": "markdown",
   "metadata": {},
   "source": [
    "## Saving point 5"
   ]
  },
  {
   "cell_type": "code",
   "execution_count": 228,
   "metadata": {
    "collapsed": true
   },
   "outputs": [],
   "source": [
    "df5 = pd.read_csv('df4.csv')"
   ]
  },
  {
   "cell_type": "code",
   "execution_count": 242,
   "metadata": {},
   "outputs": [
    {
     "data": {
      "text/html": [
       "<table class=\"simpletable\">\n",
       "<caption>OLS Regression Results</caption>\n",
       "<tr>\n",
       "  <th>Dep. Variable:</th>        <td>perc_pc_</td>     <th>  R-squared:         </th> <td>   0.248</td> \n",
       "</tr>\n",
       "<tr>\n",
       "  <th>Model:</th>                   <td>OLS</td>       <th>  Adj. R-squared:    </th> <td>   0.241</td> \n",
       "</tr>\n",
       "<tr>\n",
       "  <th>Method:</th>             <td>Least Squares</td>  <th>  F-statistic:       </th> <td>   36.27</td> \n",
       "</tr>\n",
       "<tr>\n",
       "  <th>Date:</th>             <td>Thu, 14 Dec 2017</td> <th>  Prob (F-statistic):</th> <td>8.00e-103</td>\n",
       "</tr>\n",
       "<tr>\n",
       "  <th>Time:</th>                 <td>00:37:19</td>     <th>  Log-Likelihood:    </th> <td>  2047.3</td> \n",
       "</tr>\n",
       "<tr>\n",
       "  <th>No. Observations:</th>      <td>  1888</td>      <th>  AIC:               </th> <td>  -4059.</td> \n",
       "</tr>\n",
       "<tr>\n",
       "  <th>Df Residuals:</th>          <td>  1870</td>      <th>  BIC:               </th> <td>  -3959.</td> \n",
       "</tr>\n",
       "<tr>\n",
       "  <th>Df Model:</th>              <td>    17</td>      <th>                     </th>     <td> </td>    \n",
       "</tr>\n",
       "<tr>\n",
       "  <th>Covariance Type:</th>      <td>nonrobust</td>    <th>                     </th>     <td> </td>    \n",
       "</tr>\n",
       "</table>\n",
       "<table class=\"simpletable\">\n",
       "<tr>\n",
       "            <td></td>               <th>coef</th>     <th>std err</th>      <th>t</th>      <th>P>|t|</th>  <th>[0.025</th>    <th>0.975]</th>  \n",
       "</tr>\n",
       "<tr>\n",
       "  <th>Intercept</th>             <td>    1.1360</td> <td>    0.192</td> <td>    5.928</td> <td> 0.000</td> <td>    0.760</td> <td>    1.512</td>\n",
       "</tr>\n",
       "<tr>\n",
       "  <th>perc_white</th>            <td>   -0.0484</td> <td>    0.021</td> <td>   -2.264</td> <td> 0.024</td> <td>   -0.090</td> <td>   -0.006</td>\n",
       "</tr>\n",
       "<tr>\n",
       "  <th>perc_black</th>            <td>    0.0116</td> <td>    0.018</td> <td>    0.654</td> <td> 0.513</td> <td>   -0.023</td> <td>    0.046</td>\n",
       "</tr>\n",
       "<tr>\n",
       "  <th>perc_asian</th>            <td>  -15.1488</td> <td>   22.277</td> <td>   -0.680</td> <td> 0.497</td> <td>  -58.840</td> <td>   28.542</td>\n",
       "</tr>\n",
       "<tr>\n",
       "  <th>perc_hispanic</th>         <td>    0.1145</td> <td>    0.024</td> <td>    4.769</td> <td> 0.000</td> <td>    0.067</td> <td>    0.162</td>\n",
       "</tr>\n",
       "<tr>\n",
       "  <th>high_school_below</th>     <td>    0.1304</td> <td>    0.039</td> <td>    3.329</td> <td> 0.001</td> <td>    0.054</td> <td>    0.207</td>\n",
       "</tr>\n",
       "<tr>\n",
       "  <th>bachelor_up</th>           <td>    0.1577</td> <td>    0.029</td> <td>    5.518</td> <td> 0.000</td> <td>    0.102</td> <td>    0.214</td>\n",
       "</tr>\n",
       "<tr>\n",
       "  <th>Gini_Index</th>            <td>    0.1210</td> <td>    0.072</td> <td>    1.681</td> <td> 0.093</td> <td>   -0.020</td> <td>    0.262</td>\n",
       "</tr>\n",
       "<tr>\n",
       "  <th>Occupied_rate</th>         <td>    0.0080</td> <td>    0.053</td> <td>    0.150</td> <td> 0.881</td> <td>   -0.097</td> <td>    0.113</td>\n",
       "</tr>\n",
       "<tr>\n",
       "  <th>inc_to_poverty_under2</th> <td>   -0.0091</td> <td>    0.037</td> <td>   -0.244</td> <td> 0.807</td> <td>   -0.082</td> <td>    0.064</td>\n",
       "</tr>\n",
       "<tr>\n",
       "  <th>Foreign_born</th>          <td>   -0.1069</td> <td>    0.019</td> <td>   -5.629</td> <td> 0.000</td> <td>   -0.144</td> <td>   -0.070</td>\n",
       "</tr>\n",
       "<tr>\n",
       "  <th>building_age</th>          <td>   -0.0014</td> <td>    0.000</td> <td>   -8.152</td> <td> 0.000</td> <td>   -0.002</td> <td>   -0.001</td>\n",
       "</tr>\n",
       "<tr>\n",
       "  <th>entropy_index</th>         <td>   -0.0300</td> <td>    0.012</td> <td>   -2.562</td> <td> 0.010</td> <td>   -0.053</td> <td>   -0.007</td>\n",
       "</tr>\n",
       "<tr>\n",
       "  <th>log_pop</th>               <td>   -0.0643</td> <td>    0.022</td> <td>   -2.923</td> <td> 0.004</td> <td>   -0.107</td> <td>   -0.021</td>\n",
       "</tr>\n",
       "<tr>\n",
       "  <th>log_pop_density</th>       <td>   -0.0079</td> <td>    0.004</td> <td>   -2.070</td> <td> 0.039</td> <td>   -0.015</td> <td>   -0.000</td>\n",
       "</tr>\n",
       "<tr>\n",
       "  <th>log_h_unit</th>            <td>    0.0531</td> <td>    0.021</td> <td>    2.511</td> <td> 0.012</td> <td>    0.012</td> <td>    0.095</td>\n",
       "</tr>\n",
       "<tr>\n",
       "  <th>log_income</th>            <td>   -0.0387</td> <td>    0.022</td> <td>   -1.729</td> <td> 0.084</td> <td>   -0.083</td> <td>    0.005</td>\n",
       "</tr>\n",
       "<tr>\n",
       "  <th>log_inc_p</th>             <td>   -0.0435</td> <td>    0.026</td> <td>   -1.689</td> <td> 0.091</td> <td>   -0.094</td> <td>    0.007</td>\n",
       "</tr>\n",
       "</table>\n",
       "<table class=\"simpletable\">\n",
       "<tr>\n",
       "  <th>Omnibus:</th>       <td>1840.312</td> <th>  Durbin-Watson:     </th> <td>   1.930</td> \n",
       "</tr>\n",
       "<tr>\n",
       "  <th>Prob(Omnibus):</th>  <td> 0.000</td>  <th>  Jarque-Bera (JB):  </th> <td>91460.242</td>\n",
       "</tr>\n",
       "<tr>\n",
       "  <th>Skew:</th>           <td> 4.652</td>  <th>  Prob(JB):          </th> <td>    0.00</td> \n",
       "</tr>\n",
       "<tr>\n",
       "  <th>Kurtosis:</th>       <td>35.803</td>  <th>  Cond. No.          </th> <td>8.47e+05</td> \n",
       "</tr>\n",
       "</table>"
      ],
      "text/plain": [
       "<class 'statsmodels.iolib.summary.Summary'>\n",
       "\"\"\"\n",
       "                            OLS Regression Results                            \n",
       "==============================================================================\n",
       "Dep. Variable:               perc_pc_   R-squared:                       0.248\n",
       "Model:                            OLS   Adj. R-squared:                  0.241\n",
       "Method:                 Least Squares   F-statistic:                     36.27\n",
       "Date:                Thu, 14 Dec 2017   Prob (F-statistic):          8.00e-103\n",
       "Time:                        00:37:19   Log-Likelihood:                 2047.3\n",
       "No. Observations:                1888   AIC:                            -4059.\n",
       "Df Residuals:                    1870   BIC:                            -3959.\n",
       "Df Model:                          17                                         \n",
       "Covariance Type:            nonrobust                                         \n",
       "=========================================================================================\n",
       "                            coef    std err          t      P>|t|      [0.025      0.975]\n",
       "-----------------------------------------------------------------------------------------\n",
       "Intercept                 1.1360      0.192      5.928      0.000       0.760       1.512\n",
       "perc_white               -0.0484      0.021     -2.264      0.024      -0.090      -0.006\n",
       "perc_black                0.0116      0.018      0.654      0.513      -0.023       0.046\n",
       "perc_asian              -15.1488     22.277     -0.680      0.497     -58.840      28.542\n",
       "perc_hispanic             0.1145      0.024      4.769      0.000       0.067       0.162\n",
       "high_school_below         0.1304      0.039      3.329      0.001       0.054       0.207\n",
       "bachelor_up               0.1577      0.029      5.518      0.000       0.102       0.214\n",
       "Gini_Index                0.1210      0.072      1.681      0.093      -0.020       0.262\n",
       "Occupied_rate             0.0080      0.053      0.150      0.881      -0.097       0.113\n",
       "inc_to_poverty_under2    -0.0091      0.037     -0.244      0.807      -0.082       0.064\n",
       "Foreign_born             -0.1069      0.019     -5.629      0.000      -0.144      -0.070\n",
       "building_age             -0.0014      0.000     -8.152      0.000      -0.002      -0.001\n",
       "entropy_index            -0.0300      0.012     -2.562      0.010      -0.053      -0.007\n",
       "log_pop                  -0.0643      0.022     -2.923      0.004      -0.107      -0.021\n",
       "log_pop_density          -0.0079      0.004     -2.070      0.039      -0.015      -0.000\n",
       "log_h_unit                0.0531      0.021      2.511      0.012       0.012       0.095\n",
       "log_income               -0.0387      0.022     -1.729      0.084      -0.083       0.005\n",
       "log_inc_p                -0.0435      0.026     -1.689      0.091      -0.094       0.007\n",
       "==============================================================================\n",
       "Omnibus:                     1840.312   Durbin-Watson:                   1.930\n",
       "Prob(Omnibus):                  0.000   Jarque-Bera (JB):            91460.242\n",
       "Skew:                           4.652   Prob(JB):                         0.00\n",
       "Kurtosis:                      35.803   Cond. No.                     8.47e+05\n",
       "==============================================================================\n",
       "\n",
       "Warnings:\n",
       "[1] Standard Errors assume that the covariance matrix of the errors is correctly specified.\n",
       "[2] The condition number is large, 8.47e+05. This might indicate that there are\n",
       "strong multicollinearity or other numerical problems.\n",
       "\"\"\""
      ]
     },
     "execution_count": 242,
     "metadata": {},
     "output_type": "execute_result"
    }
   ],
   "source": [
    "# include all available neighborhood features as independent variables and predict low-income housing density\n",
    "lm1 = smf.ols('perc_pc_ ~ perc_white + perc_black + perc_asian + perc_hispanic + \\\n",
    "       high_school_below + bachelor_up + Gini_Index + Occupied_rate + \\\n",
    "       inc_to_poverty_under2 + Foreign_born + \\\n",
    "       building_age + \\\n",
    "       entropy_index + log_pop + log_pop_density + log_h_unit + \\\n",
    "       log_income + log_inc_p'\n",
    "              ,data=df5).fit()\n",
    "lm1.summary()"
   ]
  },
  {
   "cell_type": "code",
   "execution_count": 248,
   "metadata": {},
   "outputs": [
    {
     "data": {
      "text/html": [
       "<table class=\"simpletable\">\n",
       "<caption>OLS Regression Results</caption>\n",
       "<tr>\n",
       "  <th>Dep. Variable:</th>        <td>perc_pc_</td>     <th>  R-squared:         </th> <td>   0.248</td> \n",
       "</tr>\n",
       "<tr>\n",
       "  <th>Model:</th>                   <td>OLS</td>       <th>  Adj. R-squared:    </th> <td>   0.242</td> \n",
       "</tr>\n",
       "<tr>\n",
       "  <th>Method:</th>             <td>Least Squares</td>  <th>  F-statistic:       </th> <td>   44.02</td> \n",
       "</tr>\n",
       "<tr>\n",
       "  <th>Date:</th>             <td>Thu, 14 Dec 2017</td> <th>  Prob (F-statistic):</th> <td>4.48e-105</td>\n",
       "</tr>\n",
       "<tr>\n",
       "  <th>Time:</th>                 <td>00:43:16</td>     <th>  Log-Likelihood:    </th> <td>  2046.8</td> \n",
       "</tr>\n",
       "<tr>\n",
       "  <th>No. Observations:</th>      <td>  1888</td>      <th>  AIC:               </th> <td>  -4064.</td> \n",
       "</tr>\n",
       "<tr>\n",
       "  <th>Df Residuals:</th>          <td>  1873</td>      <th>  BIC:               </th> <td>  -3980.</td> \n",
       "</tr>\n",
       "<tr>\n",
       "  <th>Df Model:</th>              <td>    14</td>      <th>                     </th>     <td> </td>    \n",
       "</tr>\n",
       "<tr>\n",
       "  <th>Covariance Type:</th>      <td>nonrobust</td>    <th>                     </th>     <td> </td>    \n",
       "</tr>\n",
       "</table>\n",
       "<table class=\"simpletable\">\n",
       "<tr>\n",
       "            <td></td>               <th>coef</th>     <th>std err</th>      <th>t</th>      <th>P>|t|</th>  <th>[0.025</th>    <th>0.975]</th>  \n",
       "</tr>\n",
       "<tr>\n",
       "  <th>Intercept</th>             <td>    1.1458</td> <td>    0.166</td> <td>    6.910</td> <td> 0.000</td> <td>    0.821</td> <td>    1.471</td>\n",
       "</tr>\n",
       "<tr>\n",
       "  <th>perc_white</th>            <td>   -0.0653</td> <td>    0.009</td> <td>   -7.638</td> <td> 0.000</td> <td>   -0.082</td> <td>   -0.049</td>\n",
       "</tr>\n",
       "<tr>\n",
       "  <th>perc_hispanic</th>         <td>    0.1080</td> <td>    0.022</td> <td>    4.909</td> <td> 0.000</td> <td>    0.065</td> <td>    0.151</td>\n",
       "</tr>\n",
       "<tr>\n",
       "  <th>high_school_below</th>     <td>    0.1208</td> <td>    0.037</td> <td>    3.272</td> <td> 0.001</td> <td>    0.048</td> <td>    0.193</td>\n",
       "</tr>\n",
       "<tr>\n",
       "  <th>bachelor_up</th>           <td>    0.1519</td> <td>    0.028</td> <td>    5.515</td> <td> 0.000</td> <td>    0.098</td> <td>    0.206</td>\n",
       "</tr>\n",
       "<tr>\n",
       "  <th>Gini_Index</th>            <td>    0.1200</td> <td>    0.067</td> <td>    1.794</td> <td> 0.073</td> <td>   -0.011</td> <td>    0.251</td>\n",
       "</tr>\n",
       "<tr>\n",
       "  <th>inc_to_poverty_under2</th> <td>   -0.0114</td> <td>    0.037</td> <td>   -0.311</td> <td> 0.756</td> <td>   -0.083</td> <td>    0.060</td>\n",
       "</tr>\n",
       "<tr>\n",
       "  <th>Foreign_born</th>          <td>   -0.1146</td> <td>    0.015</td> <td>   -7.643</td> <td> 0.000</td> <td>   -0.144</td> <td>   -0.085</td>\n",
       "</tr>\n",
       "<tr>\n",
       "  <th>building_age</th>          <td>   -0.0014</td> <td>    0.000</td> <td>   -8.223</td> <td> 0.000</td> <td>   -0.002</td> <td>   -0.001</td>\n",
       "</tr>\n",
       "<tr>\n",
       "  <th>entropy_index</th>         <td>   -0.0322</td> <td>    0.011</td> <td>   -2.855</td> <td> 0.004</td> <td>   -0.054</td> <td>   -0.010</td>\n",
       "</tr>\n",
       "<tr>\n",
       "  <th>log_pop</th>               <td>   -0.0616</td> <td>    0.019</td> <td>   -3.308</td> <td> 0.001</td> <td>   -0.098</td> <td>   -0.025</td>\n",
       "</tr>\n",
       "<tr>\n",
       "  <th>log_pop_density</th>       <td>   -0.0071</td> <td>    0.004</td> <td>   -1.916</td> <td> 0.055</td> <td>   -0.014</td> <td>    0.000</td>\n",
       "</tr>\n",
       "<tr>\n",
       "  <th>log_h_unit</th>            <td>    0.0527</td> <td>    0.018</td> <td>    2.871</td> <td> 0.004</td> <td>    0.017</td> <td>    0.089</td>\n",
       "</tr>\n",
       "<tr>\n",
       "  <th>log_income</th>            <td>   -0.0392</td> <td>    0.020</td> <td>   -1.962</td> <td> 0.050</td> <td>   -0.078</td> <td>-2.44e-05</td>\n",
       "</tr>\n",
       "<tr>\n",
       "  <th>log_inc_p</th>             <td>   -0.0439</td> <td>    0.025</td> <td>   -1.774</td> <td> 0.076</td> <td>   -0.092</td> <td>    0.005</td>\n",
       "</tr>\n",
       "</table>\n",
       "<table class=\"simpletable\">\n",
       "<tr>\n",
       "  <th>Omnibus:</th>       <td>1841.092</td> <th>  Durbin-Watson:     </th> <td>   1.931</td> \n",
       "</tr>\n",
       "<tr>\n",
       "  <th>Prob(Omnibus):</th>  <td> 0.000</td>  <th>  Jarque-Bera (JB):  </th> <td>91645.236</td>\n",
       "</tr>\n",
       "<tr>\n",
       "  <th>Skew:</th>           <td> 4.655</td>  <th>  Prob(JB):          </th> <td>    0.00</td> \n",
       "</tr>\n",
       "<tr>\n",
       "  <th>Kurtosis:</th>       <td>35.837</td>  <th>  Cond. No.          </th> <td>6.45e+03</td> \n",
       "</tr>\n",
       "</table>"
      ],
      "text/plain": [
       "<class 'statsmodels.iolib.summary.Summary'>\n",
       "\"\"\"\n",
       "                            OLS Regression Results                            \n",
       "==============================================================================\n",
       "Dep. Variable:               perc_pc_   R-squared:                       0.248\n",
       "Model:                            OLS   Adj. R-squared:                  0.242\n",
       "Method:                 Least Squares   F-statistic:                     44.02\n",
       "Date:                Thu, 14 Dec 2017   Prob (F-statistic):          4.48e-105\n",
       "Time:                        00:43:16   Log-Likelihood:                 2046.8\n",
       "No. Observations:                1888   AIC:                            -4064.\n",
       "Df Residuals:                    1873   BIC:                            -3980.\n",
       "Df Model:                          14                                         \n",
       "Covariance Type:            nonrobust                                         \n",
       "=========================================================================================\n",
       "                            coef    std err          t      P>|t|      [0.025      0.975]\n",
       "-----------------------------------------------------------------------------------------\n",
       "Intercept                 1.1458      0.166      6.910      0.000       0.821       1.471\n",
       "perc_white               -0.0653      0.009     -7.638      0.000      -0.082      -0.049\n",
       "perc_hispanic             0.1080      0.022      4.909      0.000       0.065       0.151\n",
       "high_school_below         0.1208      0.037      3.272      0.001       0.048       0.193\n",
       "bachelor_up               0.1519      0.028      5.515      0.000       0.098       0.206\n",
       "Gini_Index                0.1200      0.067      1.794      0.073      -0.011       0.251\n",
       "inc_to_poverty_under2    -0.0114      0.037     -0.311      0.756      -0.083       0.060\n",
       "Foreign_born             -0.1146      0.015     -7.643      0.000      -0.144      -0.085\n",
       "building_age             -0.0014      0.000     -8.223      0.000      -0.002      -0.001\n",
       "entropy_index            -0.0322      0.011     -2.855      0.004      -0.054      -0.010\n",
       "log_pop                  -0.0616      0.019     -3.308      0.001      -0.098      -0.025\n",
       "log_pop_density          -0.0071      0.004     -1.916      0.055      -0.014       0.000\n",
       "log_h_unit                0.0527      0.018      2.871      0.004       0.017       0.089\n",
       "log_income               -0.0392      0.020     -1.962      0.050      -0.078   -2.44e-05\n",
       "log_inc_p                -0.0439      0.025     -1.774      0.076      -0.092       0.005\n",
       "==============================================================================\n",
       "Omnibus:                     1841.092   Durbin-Watson:                   1.931\n",
       "Prob(Omnibus):                  0.000   Jarque-Bera (JB):            91645.236\n",
       "Skew:                           4.655   Prob(JB):                         0.00\n",
       "Kurtosis:                      35.837   Cond. No.                     6.45e+03\n",
       "==============================================================================\n",
       "\n",
       "Warnings:\n",
       "[1] Standard Errors assume that the covariance matrix of the errors is correctly specified.\n",
       "[2] The condition number is large, 6.45e+03. This might indicate that there are\n",
       "strong multicollinearity or other numerical problems.\n",
       "\"\"\""
      ]
     },
     "execution_count": 248,
     "metadata": {},
     "output_type": "execute_result"
    }
   ],
   "source": [
    "# delete the varaibles with highest p-value one by one until Adj R-Squared cannot be improved any more.\n",
    "lm2 = smf.ols('perc_pc_ ~ perc_white + perc_hispanic + \\\n",
    "       high_school_below + bachelor_up + Gini_Index  + \\\n",
    "       inc_to_poverty_under2 + Foreign_born + \\\n",
    "       building_age + \\\n",
    "       entropy_index + log_pop + log_pop_density + log_h_unit + \\\n",
    "       log_income + log_inc_p'\n",
    "              ,data=df5).fit()\n",
    "lm2.summary()"
   ]
  },
  {
   "cell_type": "markdown",
   "metadata": {},
   "source": [
    "### R-squared is kind of low but gives us significant results for most of variables. \n",
    "### For example, we can see a positive relationship between % of Hispanic and low-income housing density.\n",
    "### On the other hand, there is a negative relationship between entropy index and low-income housing density, but I cannot really tell which is the cause. As a result, I did another regression analysis and set the entropy index as dependent variable this time."
   ]
  },
  {
   "cell_type": "code",
   "execution_count": 249,
   "metadata": {},
   "outputs": [
    {
     "data": {
      "text/html": [
       "<table class=\"simpletable\">\n",
       "<caption>OLS Regression Results</caption>\n",
       "<tr>\n",
       "  <th>Dep. Variable:</th>      <td>entropy_index</td>  <th>  R-squared:         </th> <td>   0.603</td>\n",
       "</tr>\n",
       "<tr>\n",
       "  <th>Model:</th>                   <td>OLS</td>       <th>  Adj. R-squared:    </th> <td>   0.601</td>\n",
       "</tr>\n",
       "<tr>\n",
       "  <th>Method:</th>             <td>Least Squares</td>  <th>  F-statistic:       </th> <td>   258.9</td>\n",
       "</tr>\n",
       "<tr>\n",
       "  <th>Date:</th>             <td>Thu, 14 Dec 2017</td> <th>  Prob (F-statistic):</th>  <td>  0.00</td> \n",
       "</tr>\n",
       "<tr>\n",
       "  <th>Time:</th>                 <td>00:44:28</td>     <th>  Log-Likelihood:    </th> <td>  696.44</td>\n",
       "</tr>\n",
       "<tr>\n",
       "  <th>No. Observations:</th>      <td>  1888</td>      <th>  AIC:               </th> <td>  -1369.</td>\n",
       "</tr>\n",
       "<tr>\n",
       "  <th>Df Residuals:</th>          <td>  1876</td>      <th>  BIC:               </th> <td>  -1302.</td>\n",
       "</tr>\n",
       "<tr>\n",
       "  <th>Df Model:</th>              <td>    11</td>      <th>                     </th>     <td> </td>   \n",
       "</tr>\n",
       "<tr>\n",
       "  <th>Covariance Type:</th>      <td>nonrobust</td>    <th>                     </th>     <td> </td>   \n",
       "</tr>\n",
       "</table>\n",
       "<table class=\"simpletable\">\n",
       "<tr>\n",
       "          <td></td>             <th>coef</th>     <th>std err</th>      <th>t</th>      <th>P>|t|</th>  <th>[0.025</th>    <th>0.975]</th>  \n",
       "</tr>\n",
       "<tr>\n",
       "  <th>Intercept</th>         <td>    2.0919</td> <td>    0.241</td> <td>    8.668</td> <td> 0.000</td> <td>    1.619</td> <td>    2.565</td>\n",
       "</tr>\n",
       "<tr>\n",
       "  <th>perc_white</th>        <td>   -0.1854</td> <td>    0.017</td> <td>  -11.042</td> <td> 0.000</td> <td>   -0.218</td> <td>   -0.152</td>\n",
       "</tr>\n",
       "<tr>\n",
       "  <th>perc_hispanic</th>     <td>    1.0961</td> <td>    0.037</td> <td>   29.902</td> <td> 0.000</td> <td>    1.024</td> <td>    1.168</td>\n",
       "</tr>\n",
       "<tr>\n",
       "  <th>high_school_below</th> <td>    0.3144</td> <td>    0.068</td> <td>    4.618</td> <td> 0.000</td> <td>    0.181</td> <td>    0.448</td>\n",
       "</tr>\n",
       "<tr>\n",
       "  <th>bachelor_up</th>       <td>    0.5128</td> <td>    0.054</td> <td>    9.582</td> <td> 0.000</td> <td>    0.408</td> <td>    0.618</td>\n",
       "</tr>\n",
       "<tr>\n",
       "  <th>Gini_Index</th>        <td>    0.5811</td> <td>    0.120</td> <td>    4.852</td> <td> 0.000</td> <td>    0.346</td> <td>    0.816</td>\n",
       "</tr>\n",
       "<tr>\n",
       "  <th>perc_pc_</th>          <td>   -0.1202</td> <td>    0.045</td> <td>   -2.644</td> <td> 0.008</td> <td>   -0.209</td> <td>   -0.031</td>\n",
       "</tr>\n",
       "<tr>\n",
       "  <th>log_pop</th>           <td>   -0.1362</td> <td>    0.037</td> <td>   -3.679</td> <td> 0.000</td> <td>   -0.209</td> <td>   -0.064</td>\n",
       "</tr>\n",
       "<tr>\n",
       "  <th>log_pop_density</th>   <td>   -0.0453</td> <td>    0.007</td> <td>   -6.500</td> <td> 0.000</td> <td>   -0.059</td> <td>   -0.032</td>\n",
       "</tr>\n",
       "<tr>\n",
       "  <th>log_h_unit</th>        <td>    0.1604</td> <td>    0.036</td> <td>    4.431</td> <td> 0.000</td> <td>    0.089</td> <td>    0.231</td>\n",
       "</tr>\n",
       "<tr>\n",
       "  <th>log_income</th>        <td>    0.1369</td> <td>    0.041</td> <td>    3.359</td> <td> 0.001</td> <td>    0.057</td> <td>    0.217</td>\n",
       "</tr>\n",
       "<tr>\n",
       "  <th>log_inc_p</th>         <td>   -0.3031</td> <td>    0.044</td> <td>   -6.825</td> <td> 0.000</td> <td>   -0.390</td> <td>   -0.216</td>\n",
       "</tr>\n",
       "</table>\n",
       "<table class=\"simpletable\">\n",
       "<tr>\n",
       "  <th>Omnibus:</th>       <td> 6.726</td> <th>  Durbin-Watson:     </th> <td>   1.805</td>\n",
       "</tr>\n",
       "<tr>\n",
       "  <th>Prob(Omnibus):</th> <td> 0.035</td> <th>  Jarque-Bera (JB):  </th> <td>   5.431</td>\n",
       "</tr>\n",
       "<tr>\n",
       "  <th>Skew:</th>          <td>-0.029</td> <th>  Prob(JB):          </th> <td>  0.0662</td>\n",
       "</tr>\n",
       "<tr>\n",
       "  <th>Kurtosis:</th>      <td> 2.744</td> <th>  Cond. No.          </th> <td>1.36e+03</td>\n",
       "</tr>\n",
       "</table>"
      ],
      "text/plain": [
       "<class 'statsmodels.iolib.summary.Summary'>\n",
       "\"\"\"\n",
       "                            OLS Regression Results                            \n",
       "==============================================================================\n",
       "Dep. Variable:          entropy_index   R-squared:                       0.603\n",
       "Model:                            OLS   Adj. R-squared:                  0.601\n",
       "Method:                 Least Squares   F-statistic:                     258.9\n",
       "Date:                Thu, 14 Dec 2017   Prob (F-statistic):               0.00\n",
       "Time:                        00:44:28   Log-Likelihood:                 696.44\n",
       "No. Observations:                1888   AIC:                            -1369.\n",
       "Df Residuals:                    1876   BIC:                            -1302.\n",
       "Df Model:                          11                                         \n",
       "Covariance Type:            nonrobust                                         \n",
       "=====================================================================================\n",
       "                        coef    std err          t      P>|t|      [0.025      0.975]\n",
       "-------------------------------------------------------------------------------------\n",
       "Intercept             2.0919      0.241      8.668      0.000       1.619       2.565\n",
       "perc_white           -0.1854      0.017    -11.042      0.000      -0.218      -0.152\n",
       "perc_hispanic         1.0961      0.037     29.902      0.000       1.024       1.168\n",
       "high_school_below     0.3144      0.068      4.618      0.000       0.181       0.448\n",
       "bachelor_up           0.5128      0.054      9.582      0.000       0.408       0.618\n",
       "Gini_Index            0.5811      0.120      4.852      0.000       0.346       0.816\n",
       "perc_pc_             -0.1202      0.045     -2.644      0.008      -0.209      -0.031\n",
       "log_pop              -0.1362      0.037     -3.679      0.000      -0.209      -0.064\n",
       "log_pop_density      -0.0453      0.007     -6.500      0.000      -0.059      -0.032\n",
       "log_h_unit            0.1604      0.036      4.431      0.000       0.089       0.231\n",
       "log_income            0.1369      0.041      3.359      0.001       0.057       0.217\n",
       "log_inc_p            -0.3031      0.044     -6.825      0.000      -0.390      -0.216\n",
       "==============================================================================\n",
       "Omnibus:                        6.726   Durbin-Watson:                   1.805\n",
       "Prob(Omnibus):                  0.035   Jarque-Bera (JB):                5.431\n",
       "Skew:                          -0.029   Prob(JB):                       0.0662\n",
       "Kurtosis:                       2.744   Cond. No.                     1.36e+03\n",
       "==============================================================================\n",
       "\n",
       "Warnings:\n",
       "[1] Standard Errors assume that the covariance matrix of the errors is correctly specified.\n",
       "[2] The condition number is large, 1.36e+03. This might indicate that there are\n",
       "strong multicollinearity or other numerical problems.\n",
       "\"\"\""
      ]
     },
     "execution_count": 249,
     "metadata": {},
     "output_type": "execute_result"
    }
   ],
   "source": [
    "lm3 = smf.ols('entropy_index ~ perc_white + perc_hispanic + \\\n",
    "       high_school_below + bachelor_up + Gini_Index  + \\\n",
    "       perc_pc_ + log_pop + log_pop_density + log_h_unit + \\\n",
    "       log_income + log_inc_p'\n",
    "              ,data=df5).fit()\n",
    "lm3.summary()"
   ]
  },
  {
   "cell_type": "markdown",
   "metadata": {},
   "source": [
    "### R-Squared turned out to be much higher after setting entropy index as dependent variable. It kind of tells that low-income housing can affect a census tract's racial diversity in a negative way. Based on the model, it shows that a 1% increase in affordable housing density will decrease the entropy index by 0.12%\n",
    "### also, it is interesting to see that there is a positive relationship between gini index and entropy index. It says that a census tract with racial segregation issues can also have income inequity issues"
   ]
  }
 ],
 "metadata": {
  "kernelspec": {
   "display_name": "Python 3",
   "language": "python",
   "name": "python3"
  }
 },
 "nbformat": 4,
 "nbformat_minor": 2
}
