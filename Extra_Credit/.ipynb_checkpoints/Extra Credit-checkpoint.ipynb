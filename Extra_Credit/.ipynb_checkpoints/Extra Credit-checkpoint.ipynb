{
 "cells": [
  {
   "cell_type": "code",
   "execution_count": 4,
   "metadata": {},
   "outputs": [
    {
     "name": "stdout",
     "output_type": "stream",
     "text": [
      "Populating the interactive namespace from numpy and matplotlib\n"
     ]
    },
    {
     "name": "stderr",
     "output_type": "stream",
     "text": [
      "/Users/zhoubaoling/anaconda/lib/python3.6/site-packages/IPython/core/magics/pylab.py:161: UserWarning: pylab import has clobbered these variables: ['plt']\n",
      "`%matplotlib` prevents importing * from pylab and numpy\n",
      "  \"\\n`%matplotlib` prevents importing * from pylab and numpy\"\n"
     ]
    }
   ],
   "source": [
    "import pandas as pd\n",
    "import numpy as np\n",
    "import math\n",
    "import pylab as plt\n",
    "import statsmodels.formula.api as smf\n",
    "%pylab inline"
   ]
  },
  {
   "cell_type": "code",
   "execution_count": 2,
   "metadata": {
    "collapsed": true
   },
   "outputs": [],
   "source": [
    "df_xls1 = pd.read_excel(r'ct_2015.xlsx')\n",
    "\n",
    "# Convert to .csv\n",
    "df_xls1.T.to_csv(r'ct_2015.csv', encoding='utf-8')\n",
    "df15 = pd.read_csv(r'ct_2015.csv', header = 1)"
   ]
  },
  {
   "cell_type": "code",
   "execution_count": 3,
   "metadata": {
    "collapsed": true
   },
   "outputs": [],
   "source": [
    "df_xls2 = pd.read_excel(r'ct_2014.xlsx')\n",
    "\n",
    "# Convert to .csv\n",
    "df_xls2.T.to_csv(r'ct_2014.csv', encoding='utf-8')\n",
    "df14 = pd.read_csv(r'ct_2014.csv', header = 1)"
   ]
  },
  {
   "cell_type": "code",
   "execution_count": 4,
   "metadata": {
    "collapsed": true
   },
   "outputs": [],
   "source": [
    "df_xls3 = pd.read_excel(r'ct_2013.xlsx')\n",
    "\n",
    "# Convert to .csv\n",
    "df_xls3.T.to_csv(r'ct_2013.csv', encoding='utf-8')\n",
    "df13 = pd.read_csv(r'ct_2013.csv', header = 1)"
   ]
  },
  {
   "cell_type": "code",
   "execution_count": 5,
   "metadata": {
    "collapsed": true
   },
   "outputs": [],
   "source": [
    "df_xls4 = pd.read_excel(r'ct_2012.xlsx')\n",
    "\n",
    "# Convert to .csv\n",
    "df_xls4.T.to_csv(r'ct_2012.csv', encoding='utf-8')\n",
    "df12 = pd.read_csv(r'ct_2012.csv', header = 1)"
   ]
  },
  {
   "cell_type": "code",
   "execution_count": 6,
   "metadata": {
    "collapsed": true
   },
   "outputs": [],
   "source": [
    "df_xls5 = pd.read_excel(r'ct_2011.xlsx')\n",
    "\n",
    "# Convert to .csv\n",
    "df_xls5.T.to_csv(r'ct_2011.csv', encoding='utf-8')\n",
    "df11 = pd.read_csv(r'ct_2011.csv', header = 1)"
   ]
  },
  {
   "cell_type": "code",
   "execution_count": 7,
   "metadata": {
    "collapsed": true
   },
   "outputs": [],
   "source": [
    "df_xls6 = pd.read_excel(r'ct_2010.xlsx')\n",
    "\n",
    "# Convert to .csv\n",
    "df_xls6.T.to_csv(r'ct_2010.csv', encoding='utf-8')\n",
    "df10 = pd.read_csv(r'ct_2010.csv', header = 1)"
   ]
  },
  {
   "cell_type": "code",
   "execution_count": 8,
   "metadata": {
    "collapsed": true
   },
   "outputs": [],
   "source": [
    "df_xls7 = pd.read_excel(r'ct_2009.xlsx')\n",
    "\n",
    "# Convert to .csv\n",
    "df_xls7.T.to_csv(r'ct_2009.csv', encoding='utf-8')\n",
    "df09 = pd.read_csv(r'ct_2009.csv', header = 1)"
   ]
  },
  {
   "cell_type": "code",
   "execution_count": 9,
   "metadata": {
    "collapsed": true
   },
   "outputs": [],
   "source": [
    "#set year for each observation\n",
    "df15['year'] = 2015\n",
    "df14['year'] = 2014\n",
    "df13['year'] = 2013\n",
    "df12['year'] = 2012\n",
    "df11['year'] = 2011\n",
    "df10['year'] = 2010\n",
    "df09['year'] = 2009"
   ]
  },
  {
   "cell_type": "code",
   "execution_count": 10,
   "metadata": {},
   "outputs": [
    {
     "data": {
      "text/html": [
       "<div>\n",
       "<style>\n",
       "    .dataframe thead tr:only-child th {\n",
       "        text-align: right;\n",
       "    }\n",
       "\n",
       "    .dataframe thead th {\n",
       "        text-align: left;\n",
       "    }\n",
       "\n",
       "    .dataframe tbody tr th {\n",
       "        vertical-align: top;\n",
       "    }\n",
       "</style>\n",
       "<table border=\"1\" class=\"dataframe\">\n",
       "  <thead>\n",
       "    <tr style=\"text-align: right;\">\n",
       "      <th></th>\n",
       "      <th>Statistics</th>\n",
       "      <th>Population Density (per sq. mile)</th>\n",
       "      <th>Total Population:</th>\n",
       "      <th>White Alone</th>\n",
       "      <th>Black or African American Alone</th>\n",
       "      <th>Asian Alone</th>\n",
       "      <th>Hispanic or Latino Alone</th>\n",
       "      <th>Less than High School</th>\n",
       "      <th>Bachelor's degree or More</th>\n",
       "      <th>Median household income (In 2009 Inflation Adjusted Dollars)</th>\n",
       "      <th>...</th>\n",
       "      <th>Median year structure built</th>\n",
       "      <th>Median value</th>\n",
       "      <th>Median Gross Rent</th>\n",
       "      <th>Under 2.00 (Poor or struggling)</th>\n",
       "      <th>2.00 and Over (Doing ok)</th>\n",
       "      <th>Foreign Born:</th>\n",
       "      <th>Population 25 Years and Over:</th>\n",
       "      <th>Housing units:</th>\n",
       "      <th>Population for whom poverty status Is determined:</th>\n",
       "      <th>year</th>\n",
       "    </tr>\n",
       "  </thead>\n",
       "  <tbody>\n",
       "    <tr>\n",
       "      <th>0</th>\n",
       "      <td>Census Tract 1, Bronx County, New York</td>\n",
       "      <td>17588.8</td>\n",
       "      <td>11355.0</td>\n",
       "      <td>1524.000</td>\n",
       "      <td>6458.000</td>\n",
       "      <td>204.000</td>\n",
       "      <td>2655.000</td>\n",
       "      <td>5516.000</td>\n",
       "      <td>171.000</td>\n",
       "      <td>NaN</td>\n",
       "      <td>...</td>\n",
       "      <td>NaN</td>\n",
       "      <td>NaN</td>\n",
       "      <td>NaN</td>\n",
       "      <td>0.000</td>\n",
       "      <td>0.000</td>\n",
       "      <td>1665.000</td>\n",
       "      <td>8043.0</td>\n",
       "      <td>0.0</td>\n",
       "      <td>0.0</td>\n",
       "      <td>2009</td>\n",
       "    </tr>\n",
       "    <tr>\n",
       "      <th>1</th>\n",
       "      <td>Unnamed: 2</td>\n",
       "      <td>NaN</td>\n",
       "      <td>NaN</td>\n",
       "      <td>0.134</td>\n",
       "      <td>0.569</td>\n",
       "      <td>0.018</td>\n",
       "      <td>0.234</td>\n",
       "      <td>0.686</td>\n",
       "      <td>0.021</td>\n",
       "      <td>NaN</td>\n",
       "      <td>...</td>\n",
       "      <td>NaN</td>\n",
       "      <td>NaN</td>\n",
       "      <td>NaN</td>\n",
       "      <td>NaN</td>\n",
       "      <td>NaN</td>\n",
       "      <td>0.147</td>\n",
       "      <td>NaN</td>\n",
       "      <td>NaN</td>\n",
       "      <td>NaN</td>\n",
       "      <td>2009</td>\n",
       "    </tr>\n",
       "    <tr>\n",
       "      <th>2</th>\n",
       "      <td>Census Tract 2, Bronx County, New York</td>\n",
       "      <td>24460.3</td>\n",
       "      <td>4257.0</td>\n",
       "      <td>584.000</td>\n",
       "      <td>1153.000</td>\n",
       "      <td>0.000</td>\n",
       "      <td>2417.000</td>\n",
       "      <td>483.000</td>\n",
       "      <td>284.000</td>\n",
       "      <td>$55,797</td>\n",
       "      <td>...</td>\n",
       "      <td>1947.0</td>\n",
       "      <td>$380,300</td>\n",
       "      <td>$1,328</td>\n",
       "      <td>1178.000</td>\n",
       "      <td>3068.000</td>\n",
       "      <td>936.000</td>\n",
       "      <td>2421.0</td>\n",
       "      <td>1398.0</td>\n",
       "      <td>4246.0</td>\n",
       "      <td>2009</td>\n",
       "    </tr>\n",
       "    <tr>\n",
       "      <th>3</th>\n",
       "      <td>Unnamed: 4</td>\n",
       "      <td>NaN</td>\n",
       "      <td>NaN</td>\n",
       "      <td>0.137</td>\n",
       "      <td>0.271</td>\n",
       "      <td>0.000</td>\n",
       "      <td>0.568</td>\n",
       "      <td>0.200</td>\n",
       "      <td>0.117</td>\n",
       "      <td>NaN</td>\n",
       "      <td>...</td>\n",
       "      <td>NaN</td>\n",
       "      <td>NaN</td>\n",
       "      <td>NaN</td>\n",
       "      <td>0.277</td>\n",
       "      <td>0.723</td>\n",
       "      <td>0.220</td>\n",
       "      <td>NaN</td>\n",
       "      <td>NaN</td>\n",
       "      <td>NaN</td>\n",
       "      <td>2009</td>\n",
       "    </tr>\n",
       "    <tr>\n",
       "      <th>4</th>\n",
       "      <td>Census Tract 4, Bronx County, New York</td>\n",
       "      <td>16518.5</td>\n",
       "      <td>4625.0</td>\n",
       "      <td>735.000</td>\n",
       "      <td>844.000</td>\n",
       "      <td>97.000</td>\n",
       "      <td>2686.000</td>\n",
       "      <td>649.000</td>\n",
       "      <td>702.000</td>\n",
       "      <td>$70,486</td>\n",
       "      <td>...</td>\n",
       "      <td>1973.0</td>\n",
       "      <td>$373,000</td>\n",
       "      <td>$1,430</td>\n",
       "      <td>1078.000</td>\n",
       "      <td>3515.000</td>\n",
       "      <td>897.000</td>\n",
       "      <td>2983.0</td>\n",
       "      <td>1470.0</td>\n",
       "      <td>4593.0</td>\n",
       "      <td>2009</td>\n",
       "    </tr>\n",
       "  </tbody>\n",
       "</table>\n",
       "<p>5 rows × 23 columns</p>\n",
       "</div>"
      ],
      "text/plain": [
       "                               Statistics  Population Density (per sq. mile)  \\\n",
       "0  Census Tract 1, Bronx County, New York                            17588.8   \n",
       "1                              Unnamed: 2                                NaN   \n",
       "2  Census Tract 2, Bronx County, New York                            24460.3   \n",
       "3                              Unnamed: 4                                NaN   \n",
       "4  Census Tract 4, Bronx County, New York                            16518.5   \n",
       "\n",
       "   Total Population:  White Alone  Black or African American Alone  \\\n",
       "0            11355.0     1524.000                         6458.000   \n",
       "1                NaN        0.134                            0.569   \n",
       "2             4257.0      584.000                         1153.000   \n",
       "3                NaN        0.137                            0.271   \n",
       "4             4625.0      735.000                          844.000   \n",
       "\n",
       "   Asian Alone  Hispanic or Latino Alone  Less than High School  \\\n",
       "0      204.000                  2655.000               5516.000   \n",
       "1        0.018                     0.234                  0.686   \n",
       "2        0.000                  2417.000                483.000   \n",
       "3        0.000                     0.568                  0.200   \n",
       "4       97.000                  2686.000                649.000   \n",
       "\n",
       "   Bachelor's degree or More  \\\n",
       "0                    171.000   \n",
       "1                      0.021   \n",
       "2                    284.000   \n",
       "3                      0.117   \n",
       "4                    702.000   \n",
       "\n",
       "  Median household income (In 2009 Inflation Adjusted Dollars)  ...   \\\n",
       "0                                                NaN            ...    \n",
       "1                                                NaN            ...    \n",
       "2                                            $55,797            ...    \n",
       "3                                                NaN            ...    \n",
       "4                                            $70,486            ...    \n",
       "\n",
       "  Median year structure built  Median value  Median Gross Rent  \\\n",
       "0                         NaN           NaN                NaN   \n",
       "1                         NaN           NaN                NaN   \n",
       "2                      1947.0      $380,300             $1,328   \n",
       "3                         NaN           NaN                NaN   \n",
       "4                      1973.0      $373,000             $1,430   \n",
       "\n",
       "   Under 2.00 (Poor or struggling) 2.00 and Over (Doing ok) Foreign Born:  \\\n",
       "0                            0.000                    0.000      1665.000   \n",
       "1                              NaN                      NaN         0.147   \n",
       "2                         1178.000                 3068.000       936.000   \n",
       "3                            0.277                    0.723         0.220   \n",
       "4                         1078.000                 3515.000       897.000   \n",
       "\n",
       "   Population 25 Years and Over:  Housing units:  \\\n",
       "0                         8043.0             0.0   \n",
       "1                            NaN             NaN   \n",
       "2                         2421.0          1398.0   \n",
       "3                            NaN             NaN   \n",
       "4                         2983.0          1470.0   \n",
       "\n",
       "   Population for whom poverty status Is determined:  year  \n",
       "0                                                0.0  2009  \n",
       "1                                                NaN  2009  \n",
       "2                                             4246.0  2009  \n",
       "3                                                NaN  2009  \n",
       "4                                             4593.0  2009  \n",
       "\n",
       "[5 rows x 23 columns]"
      ]
     },
     "execution_count": 10,
     "metadata": {},
     "output_type": "execute_result"
    }
   ],
   "source": [
    "df09.head()"
   ]
  },
  {
   "cell_type": "code",
   "execution_count": 11,
   "metadata": {
    "collapsed": true
   },
   "outputs": [],
   "source": [
    "df15.to_csv('data/df15.csv')\n",
    "df14.to_csv('data/df14.csv')\n",
    "df13.to_csv('data/df13.csv')\n",
    "df12.to_csv('data/df12.csv')\n",
    "df11.to_csv('data/df11.csv')\n",
    "df10.to_csv('data/df10.csv')\n",
    "df09.to_csv('data/df09.csv')"
   ]
  },
  {
   "cell_type": "markdown",
   "metadata": {},
   "source": [
    "## Saving poing 1"
   ]
  },
  {
   "cell_type": "code",
   "execution_count": 172,
   "metadata": {
    "collapsed": true
   },
   "outputs": [],
   "source": [
    "df_15 = pd.read_csv('data/df15.csv')\n",
    "df_14 = pd.read_csv('data/df14.csv')\n",
    "df_13 = pd.read_csv('data/df13.csv')\n",
    "df_12 = pd.read_csv('data/df12.csv')\n",
    "df_11 = pd.read_csv('data/df11.csv')\n",
    "df_10 = pd.read_csv('data/df10.csv')\n",
    "df_09 = pd.read_csv('data/df09.csv')"
   ]
  },
  {
   "cell_type": "code",
   "execution_count": null,
   "metadata": {
    "collapsed": true
   },
   "outputs": [],
   "source": [
    "df_09 = pd.read_csv('https://raw.githubusercontent.com/baolingz/PUI2017_bz882/master/Extra_Credit/df09%20copy.csv')"
   ]
  },
  {
   "cell_type": "code",
   "execution_count": 173,
   "metadata": {},
   "outputs": [
    {
     "data": {
      "text/plain": [
       "Index(['Unnamed: 0', 'Statistics', 'Population Density (Per Sq. Mile)',\n",
       "       'Total Population:', 'White Alone', 'Black or African American Alone',\n",
       "       'Asian Alone', 'Hispanic or Latino Alone', 'Less than High School',\n",
       "       'Bachelor's Degree or More',\n",
       "       'Median Household Income (In 2015 Inflation Adjusted Dollars)',\n",
       "       'Per Capita Income (In 2015 Inflation Adjusted Dollars)', 'Gini Index',\n",
       "       'Occupied', 'Median Year Structure Built', 'Median Value',\n",
       "       'Median Gross Rent', 'Under 2.00 (Poor or Struggling)',\n",
       "       '2.00 and Over (Doing Ok)', 'Foreign Born:',\n",
       "       'Population 25 Years and Over:', 'Housing Units:',\n",
       "       'Population for Whom Poverty Status Is Determined:', 'year'],\n",
       "      dtype='object')"
      ]
     },
     "execution_count": 173,
     "metadata": {},
     "output_type": "execute_result"
    }
   ],
   "source": [
    "df_15.columns"
   ]
  },
  {
   "cell_type": "code",
   "execution_count": 175,
   "metadata": {},
   "outputs": [
    {
     "data": {
      "text/plain": [
       "0    2015\n",
       "1    2015\n",
       "2    2015\n",
       "3    2015\n",
       "4    2015\n",
       "Name: year, dtype: int64"
      ]
     },
     "execution_count": 175,
     "metadata": {},
     "output_type": "execute_result"
    }
   ],
   "source": [
    "df_15.year.head()"
   ]
  },
  {
   "cell_type": "code",
   "execution_count": 176,
   "metadata": {
    "collapsed": true
   },
   "outputs": [],
   "source": [
    "del df_15['Unnamed: 0']\n",
    "del df_14['Unnamed: 0']\n",
    "del df_13['Unnamed: 0']\n",
    "del df_12['Unnamed: 0']\n",
    "del df_11['Unnamed: 0']\n",
    "del df_10['Unnamed: 0']\n",
    "del df_09['Unnamed: 0']"
   ]
  },
  {
   "cell_type": "code",
   "execution_count": 177,
   "metadata": {},
   "outputs": [
    {
     "data": {
      "text/plain": [
       "0    2015\n",
       "1    2015\n",
       "2    2015\n",
       "3    2015\n",
       "4    2015\n",
       "Name: year, dtype: int64"
      ]
     },
     "execution_count": 177,
     "metadata": {},
     "output_type": "execute_result"
    }
   ],
   "source": [
    "df_15.year.head()"
   ]
  },
  {
   "cell_type": "code",
   "execution_count": 178,
   "metadata": {
    "collapsed": true
   },
   "outputs": [],
   "source": [
    "#rename the column\n",
    "df_15.columns = ['ct_index', 'Population_density', 'Total_pop',\n",
    "       'perc_white', 'perc_black', 'perc_asian',\n",
    "       'perc_hispanic', 'high_school_below',\n",
    "       'bachelor_up',\n",
    "       'Median_hhs_Income',\n",
    "       'Per_Capita_Income', 'Gini_Index',\n",
    "       'Occupied_rate', 'Median_Year_Built', 'Median_Value',\n",
    "       'Median_Rent', 'inc_to_poverty_under2',\n",
    "       'inc_to_poverty_above2', 'Foreign_born','pop_25up','h_unit','pop_pvty', 'year']\n",
    "\n",
    "df_14.columns = ['ct_index', 'Population_density', 'Total_pop',\n",
    "       'perc_white', 'perc_black', 'perc_asian',\n",
    "       'perc_hispanic', 'high_school_below',\n",
    "       'bachelor_up',\n",
    "       'Median_hhs_Income',\n",
    "       'Per_Capita_Income', 'Gini_Index',\n",
    "       'Occupied_rate', 'Median_Year_Built', 'Median_Value',\n",
    "       'Median_Rent', 'inc_to_poverty_under2',\n",
    "       'inc_to_poverty_above2', 'Foreign_born','pop_25up','h_unit','pop_pvty', 'year']\n",
    "\n",
    "df_13.columns = ['ct_index', 'Population_density', 'Total_pop',\n",
    "       'perc_white', 'perc_black', 'perc_asian',\n",
    "       'perc_hispanic', 'high_school_below',\n",
    "       'bachelor_up',\n",
    "       'Median_hhs_Income',\n",
    "       'Per_Capita_Income', 'Gini_Index',\n",
    "       'Occupied_rate', 'Median_Year_Built', 'Median_Value',\n",
    "       'Median_Rent', 'inc_to_poverty_under2',\n",
    "       'inc_to_poverty_above2', 'Foreign_born','pop_25up','h_unit','pop_pvty', 'year']\n",
    "\n",
    "df_12.columns = ['ct_index', 'Population_density', 'Total_pop',\n",
    "       'perc_white', 'perc_black', 'perc_asian',\n",
    "       'perc_hispanic', 'high_school_below',\n",
    "       'bachelor_up',\n",
    "       'Median_hhs_Income',\n",
    "       'Per_Capita_Income', 'Gini_Index',\n",
    "       'Occupied_rate', 'Median_Year_Built', 'Median_Value',\n",
    "       'Median_Rent', 'inc_to_poverty_under2',\n",
    "       'inc_to_poverty_above2', 'Foreign_born','pop_25up','h_unit','pop_pvty', 'year']\n",
    "\n",
    "df_11.columns = ['ct_index', 'Population_density', 'Total_pop',\n",
    "       'perc_white', 'perc_black', 'perc_asian',\n",
    "       'perc_hispanic', 'high_school_below',\n",
    "       'bachelor_up',\n",
    "       'Median_hhs_Income',\n",
    "       'Per_Capita_Income', 'Gini_Index',\n",
    "       'Occupied_rate', 'Median_Year_Built', 'Median_Value',\n",
    "       'Median_Rent', 'inc_to_poverty_under2',\n",
    "       'inc_to_poverty_above2', 'Foreign_born','pop_25up','h_unit','pop_pvty', 'year']\n",
    "\n",
    "df_10.columns = ['ct_index', 'Population_density', 'Total_pop',\n",
    "       'perc_white', 'perc_black', 'perc_asian',\n",
    "       'perc_hispanic', 'high_school_below',\n",
    "       'bachelor_up',\n",
    "       'Median_hhs_Income',\n",
    "       'Per_Capita_Income', 'Gini_Index',\n",
    "       'Occupied_rate', 'Median_Year_Built', 'Median_Value',\n",
    "       'Median_Rent', 'inc_to_poverty_under2',\n",
    "       'inc_to_poverty_above2', 'Foreign_born', 'pop_25up','h_unit','pop_pvty', 'year']\n",
    "\n",
    "df_09.columns = ['ct_index', 'Population_density', 'Total_pop',\n",
    "       'perc_white', 'perc_black', 'perc_asian',\n",
    "       'perc_hispanic', 'high_school_below',\n",
    "       'bachelor_up',\n",
    "       'Median_hhs_Income',\n",
    "       'Per_Capita_Income', 'Gini_Index',\n",
    "       'Occupied_rate', 'Median_Year_Built', 'Median_Value',\n",
    "       'Median_Rent', 'inc_to_poverty_under2',\n",
    "       'inc_to_poverty_above2', 'Foreign_born', 'pop_25up','h_unit','pop_pvty', 'year']"
   ]
  },
  {
   "cell_type": "code",
   "execution_count": 180,
   "metadata": {
    "collapsed": true
   },
   "outputs": [],
   "source": [
    "df1 = df_15.append([df_14, df_13, df_12, df_11, df_10, df_09])"
   ]
  },
  {
   "cell_type": "code",
   "execution_count": 181,
   "metadata": {},
   "outputs": [
    {
     "data": {
      "text/plain": [
       "(30454, 23)"
      ]
     },
     "execution_count": 181,
     "metadata": {},
     "output_type": "execute_result"
    }
   ],
   "source": [
    "df1.shape"
   ]
  },
  {
   "cell_type": "code",
   "execution_count": 1242,
   "metadata": {},
   "outputs": [
    {
     "data": {
      "text/plain": [
       "15227.0"
      ]
     },
     "execution_count": 1242,
     "metadata": {},
     "output_type": "execute_result"
    }
   ],
   "source": [
    "30454/2"
   ]
  },
  {
   "cell_type": "code",
   "execution_count": 182,
   "metadata": {},
   "outputs": [
    {
     "data": {
      "text/plain": [
       "Index(['ct_index', 'Population_density', 'Total_pop', 'perc_white',\n",
       "       'perc_black', 'perc_asian', 'perc_hispanic', 'high_school_below',\n",
       "       'bachelor_up', 'Median_hhs_Income', 'Per_Capita_Income', 'Gini_Index',\n",
       "       'Occupied_rate', 'Median_Year_Built', 'Median_Value', 'Median_Rent',\n",
       "       'inc_to_poverty_under2', 'inc_to_poverty_above2', 'Foreign_born',\n",
       "       'pop_25up', 'h_unit', 'pop_pvty', 'year'],\n",
       "      dtype='object')"
      ]
     },
     "execution_count": 182,
     "metadata": {},
     "output_type": "execute_result"
    }
   ],
   "source": [
    "df1.columns"
   ]
  },
  {
   "cell_type": "code",
   "execution_count": 203,
   "metadata": {},
   "outputs": [
    {
     "data": {
      "text/plain": [
       "0    2015\n",
       "1    2015\n",
       "2    2015\n",
       "3    2015\n",
       "4    2015\n",
       "Name: year, dtype: int64"
      ]
     },
     "execution_count": 203,
     "metadata": {},
     "output_type": "execute_result"
    }
   ],
   "source": [
    "df1.year.head()"
   ]
  },
  {
   "cell_type": "code",
   "execution_count": 206,
   "metadata": {
    "collapsed": true
   },
   "outputs": [],
   "source": [
    "df1.to_csv('data/df1.csv')"
   ]
  },
  {
   "cell_type": "markdown",
   "metadata": {},
   "source": [
    "## Saving point 2"
   ]
  },
  {
   "cell_type": "code",
   "execution_count": 209,
   "metadata": {
    "collapsed": true
   },
   "outputs": [],
   "source": [
    "df2 = pd.read_csv('data/df1.csv')"
   ]
  },
  {
   "cell_type": "code",
   "execution_count": 210,
   "metadata": {},
   "outputs": [
    {
     "data": {
      "text/plain": [
       "0    2015\n",
       "1    2015\n",
       "2    2015\n",
       "3    2015\n",
       "4    2015\n",
       "Name: year, dtype: int64"
      ]
     },
     "execution_count": 210,
     "metadata": {},
     "output_type": "execute_result"
    }
   ],
   "source": [
    "df2.year.head()"
   ]
  },
  {
   "cell_type": "code",
   "execution_count": 211,
   "metadata": {
    "collapsed": true
   },
   "outputs": [],
   "source": [
    "del df2['Unnamed: 0']"
   ]
  },
  {
   "cell_type": "code",
   "execution_count": 212,
   "metadata": {
    "collapsed": true
   },
   "outputs": [],
   "source": [
    "#df2 = df2.T"
   ]
  },
  {
   "cell_type": "code",
   "execution_count": 213,
   "metadata": {},
   "outputs": [
    {
     "data": {
      "text/plain": [
       "11"
      ]
     },
     "execution_count": 213,
     "metadata": {},
     "output_type": "execute_result"
    }
   ],
   "source": [
    "int(len(df2.columns)/2)"
   ]
  },
  {
   "cell_type": "code",
   "execution_count": 214,
   "metadata": {},
   "outputs": [
    {
     "data": {
      "text/plain": [
       "Index(['ct_index', 'Population_density', 'Total_pop', 'perc_white',\n",
       "       'perc_black', 'perc_asian', 'perc_hispanic', 'high_school_below',\n",
       "       'bachelor_up', 'Median_hhs_Income', 'Per_Capita_Income', 'Gini_Index',\n",
       "       'Occupied_rate', 'Median_Year_Built', 'Median_Value', 'Median_Rent',\n",
       "       'inc_to_poverty_under2', 'inc_to_poverty_above2', 'Foreign_born',\n",
       "       'pop_25up', 'h_unit', 'pop_pvty', 'year'],\n",
       "      dtype='object')"
      ]
     },
     "execution_count": 214,
     "metadata": {},
     "output_type": "execute_result"
    }
   ],
   "source": [
    "df2.columns"
   ]
  },
  {
   "cell_type": "code",
   "execution_count": 215,
   "metadata": {
    "collapsed": true
   },
   "outputs": [],
   "source": [
    "df2.perc_white = df2.perc_white/df2.Total_pop\n",
    "df2.perc_black = df2.perc_black/df2.Total_pop\n",
    "df2.perc_asian = df2.perc_white/df2.Total_pop\n",
    "df2.perc_hispanic = df2.perc_hispanic/df2.Total_pop\n",
    "df2.high_school_below = df2.high_school_below/df2.pop_25up\n",
    "df2.bachelor_up = df2.bachelor_up/df2.pop_25up\n",
    "df2.Occupied_rate = df2.Occupied_rate/df2.h_unit\n",
    "df2.inc_to_poverty_under2 = df2.inc_to_poverty_under2/df2.pop_pvty\n",
    "df2.inc_to_poverty_above2 = df2.inc_to_poverty_above2/df2.pop_pvty\n",
    "df2.Foreign_born = df2.Foreign_born/df2.Total_pop"
   ]
  },
  {
   "cell_type": "code",
   "execution_count": 357,
   "metadata": {},
   "outputs": [
    {
     "data": {
      "text/plain": [
       "array([2015, 2014, 2013, 2012, 2011, 2010, 2009])"
      ]
     },
     "execution_count": 357,
     "metadata": {},
     "output_type": "execute_result"
    }
   ],
   "source": [
    "df2.year.unique()"
   ]
  },
  {
   "cell_type": "code",
   "execution_count": 217,
   "metadata": {
    "collapsed": true
   },
   "outputs": [],
   "source": [
    "df2.to_csv('data/df2.csv')"
   ]
  },
  {
   "cell_type": "markdown",
   "metadata": {
    "collapsed": true
   },
   "source": [
    "## Saving point 3"
   ]
  },
  {
   "cell_type": "code",
   "execution_count": 469,
   "metadata": {
    "collapsed": true
   },
   "outputs": [],
   "source": [
    "df3 = pd.read_csv('data/df2.csv')"
   ]
  },
  {
   "cell_type": "code",
   "execution_count": 470,
   "metadata": {
    "collapsed": true
   },
   "outputs": [],
   "source": [
    "del df3['Unnamed: 0']"
   ]
  },
  {
   "cell_type": "code",
   "execution_count": 471,
   "metadata": {
    "collapsed": true
   },
   "outputs": [],
   "source": [
    "df_pc = pd.read_csv('pc_density.csv')"
   ]
  },
  {
   "cell_type": "code",
   "execution_count": 472,
   "metadata": {
    "collapsed": true
   },
   "outputs": [],
   "source": [
    "del df_pc['Unnamed: 0']"
   ]
  },
  {
   "cell_type": "code",
   "execution_count": 473,
   "metadata": {},
   "outputs": [
    {
     "data": {
      "text/plain": [
       "(30454, 23)"
      ]
     },
     "execution_count": 473,
     "metadata": {},
     "output_type": "execute_result"
    }
   ],
   "source": [
    "df3.shape"
   ]
  },
  {
   "cell_type": "code",
   "execution_count": 474,
   "metadata": {},
   "outputs": [
    {
     "data": {
      "text/plain": [
       "(2122, 10)"
      ]
     },
     "execution_count": 474,
     "metadata": {},
     "output_type": "execute_result"
    }
   ],
   "source": [
    "df_pc.shape"
   ]
  },
  {
   "cell_type": "code",
   "execution_count": 475,
   "metadata": {},
   "outputs": [
    {
     "data": {
      "text/html": [
       "<div>\n",
       "<style>\n",
       "    .dataframe thead tr:only-child th {\n",
       "        text-align: right;\n",
       "    }\n",
       "\n",
       "    .dataframe thead th {\n",
       "        text-align: left;\n",
       "    }\n",
       "\n",
       "    .dataframe tbody tr th {\n",
       "        vertical-align: top;\n",
       "    }\n",
       "</style>\n",
       "<table border=\"1\" class=\"dataframe\">\n",
       "  <thead>\n",
       "    <tr style=\"text-align: right;\">\n",
       "      <th></th>\n",
       "      <th>GEO.id</th>\n",
       "      <th>GEO.id2</th>\n",
       "      <th>GEO.display-label</th>\n",
       "      <th>Borough</th>\n",
       "      <th>Total_Housing_unit</th>\n",
       "      <th>n_ct</th>\n",
       "      <th>Total Low-Income Units:</th>\n",
       "      <th>perc_pc</th>\n",
       "      <th>pc10</th>\n",
       "      <th>pc5</th>\n",
       "    </tr>\n",
       "  </thead>\n",
       "  <tbody>\n",
       "    <tr>\n",
       "      <th>0</th>\n",
       "      <td>1400000US36005000200</td>\n",
       "      <td>36005000200</td>\n",
       "      <td>Census Tract 2, Bronx County, New York</td>\n",
       "      <td>BRONX</td>\n",
       "      <td>1492</td>\n",
       "      <td>2.0</td>\n",
       "      <td>0.0</td>\n",
       "      <td>0.000000</td>\n",
       "      <td>0</td>\n",
       "      <td>0</td>\n",
       "    </tr>\n",
       "    <tr>\n",
       "      <th>1</th>\n",
       "      <td>1400000US36005000400</td>\n",
       "      <td>36005000400</td>\n",
       "      <td>Census Tract 4, Bronx County, New York</td>\n",
       "      <td>BRONX</td>\n",
       "      <td>2129</td>\n",
       "      <td>4.0</td>\n",
       "      <td>0.0</td>\n",
       "      <td>0.000000</td>\n",
       "      <td>0</td>\n",
       "      <td>0</td>\n",
       "    </tr>\n",
       "    <tr>\n",
       "      <th>2</th>\n",
       "      <td>1400000US36005001600</td>\n",
       "      <td>36005001600</td>\n",
       "      <td>Census Tract 16, Bronx County, New York</td>\n",
       "      <td>BRONX</td>\n",
       "      <td>2046</td>\n",
       "      <td>16.0</td>\n",
       "      <td>0.0</td>\n",
       "      <td>0.000000</td>\n",
       "      <td>0</td>\n",
       "      <td>0</td>\n",
       "    </tr>\n",
       "    <tr>\n",
       "      <th>3</th>\n",
       "      <td>1400000US36005001900</td>\n",
       "      <td>36005001900</td>\n",
       "      <td>Census Tract 19, Bronx County, New York</td>\n",
       "      <td>BRONX</td>\n",
       "      <td>947</td>\n",
       "      <td>19.0</td>\n",
       "      <td>671.0</td>\n",
       "      <td>0.708553</td>\n",
       "      <td>1</td>\n",
       "      <td>1</td>\n",
       "    </tr>\n",
       "    <tr>\n",
       "      <th>4</th>\n",
       "      <td>1400000US36005002000</td>\n",
       "      <td>36005002000</td>\n",
       "      <td>Census Tract 20, Bronx County, New York</td>\n",
       "      <td>BRONX</td>\n",
       "      <td>3170</td>\n",
       "      <td>20.0</td>\n",
       "      <td>0.0</td>\n",
       "      <td>0.000000</td>\n",
       "      <td>0</td>\n",
       "      <td>0</td>\n",
       "    </tr>\n",
       "  </tbody>\n",
       "</table>\n",
       "</div>"
      ],
      "text/plain": [
       "                 GEO.id      GEO.id2                        GEO.display-label  \\\n",
       "0  1400000US36005000200  36005000200   Census Tract 2, Bronx County, New York   \n",
       "1  1400000US36005000400  36005000400   Census Tract 4, Bronx County, New York   \n",
       "2  1400000US36005001600  36005001600  Census Tract 16, Bronx County, New York   \n",
       "3  1400000US36005001900  36005001900  Census Tract 19, Bronx County, New York   \n",
       "4  1400000US36005002000  36005002000  Census Tract 20, Bronx County, New York   \n",
       "\n",
       "  Borough  Total_Housing_unit  n_ct  Total Low-Income Units:   perc_pc  pc10  \\\n",
       "0   BRONX                1492   2.0                      0.0  0.000000     0   \n",
       "1   BRONX                2129   4.0                      0.0  0.000000     0   \n",
       "2   BRONX                2046  16.0                      0.0  0.000000     0   \n",
       "3   BRONX                 947  19.0                    671.0  0.708553     1   \n",
       "4   BRONX                3170  20.0                      0.0  0.000000     0   \n",
       "\n",
       "   pc5  \n",
       "0    0  \n",
       "1    0  \n",
       "2    0  \n",
       "3    1  \n",
       "4    0  "
      ]
     },
     "execution_count": 475,
     "metadata": {},
     "output_type": "execute_result"
    }
   ],
   "source": [
    "df_pc.head()"
   ]
  },
  {
   "cell_type": "code",
   "execution_count": 476,
   "metadata": {},
   "outputs": [
    {
     "data": {
      "text/plain": [
       "array([2015, 2014, 2013, 2012, 2011, 2010, 2009])"
      ]
     },
     "execution_count": 476,
     "metadata": {},
     "output_type": "execute_result"
    }
   ],
   "source": [
    "df3.year.unique()"
   ]
  },
  {
   "cell_type": "code",
   "execution_count": 477,
   "metadata": {
    "collapsed": true
   },
   "outputs": [],
   "source": [
    "df3 = pd.merge(df3, df_pc, how='inner', on=None, left_on='ct_index', right_on='GEO.display-label')"
   ]
  },
  {
   "cell_type": "code",
   "execution_count": 478,
   "metadata": {},
   "outputs": [
    {
     "data": {
      "text/plain": [
       "array([2015, 2014, 2013, 2010, 2009])"
      ]
     },
     "execution_count": 478,
     "metadata": {},
     "output_type": "execute_result"
    }
   ],
   "source": [
    "df3.year.unique()"
   ]
  },
  {
   "cell_type": "code",
   "execution_count": 479,
   "metadata": {},
   "outputs": [
    {
     "data": {
      "text/plain": [
       "Index(['ct_index', 'Population_density', 'Total_pop', 'perc_white',\n",
       "       'perc_black', 'perc_asian', 'perc_hispanic', 'high_school_below',\n",
       "       'bachelor_up', 'Median_hhs_Income', 'Per_Capita_Income', 'Gini_Index',\n",
       "       'Occupied_rate', 'Median_Year_Built', 'Median_Value', 'Median_Rent',\n",
       "       'inc_to_poverty_under2', 'inc_to_poverty_above2', 'Foreign_born',\n",
       "       'pop_25up', 'h_unit', 'pop_pvty', 'year', 'GEO.id', 'GEO.id2',\n",
       "       'GEO.display-label', 'Borough', 'Total_Housing_unit', 'n_ct',\n",
       "       'Total Low-Income Units:', 'perc_pc', 'pc10', 'pc5'],\n",
       "      dtype='object')"
      ]
     },
     "execution_count": 479,
     "metadata": {},
     "output_type": "execute_result"
    }
   ],
   "source": [
    "df3.columns"
   ]
  },
  {
   "cell_type": "code",
   "execution_count": 480,
   "metadata": {},
   "outputs": [
    {
     "data": {
      "text/plain": [
       "(10062, 33)"
      ]
     },
     "execution_count": 480,
     "metadata": {},
     "output_type": "execute_result"
    }
   ],
   "source": [
    "df3.shape"
   ]
  },
  {
   "cell_type": "code",
   "execution_count": 481,
   "metadata": {
    "collapsed": true
   },
   "outputs": [],
   "source": [
    "#df3[df3['GEO.id2'] == 36005000200]"
   ]
  },
  {
   "cell_type": "code",
   "execution_count": 482,
   "metadata": {
    "collapsed": true
   },
   "outputs": [],
   "source": [
    "df3['perc_pc_'] = df3['Total Low-Income Units:']/df3.h_unit"
   ]
  },
  {
   "cell_type": "code",
   "execution_count": 483,
   "metadata": {
    "collapsed": true
   },
   "outputs": [],
   "source": [
    "def pc_10(x):\n",
    "    if x >=0.1:\n",
    "        return 1\n",
    "    else:\n",
    "        return 0"
   ]
  },
  {
   "cell_type": "code",
   "execution_count": 484,
   "metadata": {
    "collapsed": true
   },
   "outputs": [],
   "source": [
    "def pc_5(x):\n",
    "    if x >=0.05:\n",
    "        return 1\n",
    "    else:\n",
    "        return 0"
   ]
  },
  {
   "cell_type": "code",
   "execution_count": 485,
   "metadata": {
    "collapsed": true
   },
   "outputs": [],
   "source": [
    "df3['pc10_'] = df3.perc_pc_.apply(lambda x:pc_10(x))\n",
    "df3['pc5_'] = df3.perc_pc_.apply(lambda x:pc_5(x))"
   ]
  },
  {
   "cell_type": "code",
   "execution_count": 486,
   "metadata": {
    "collapsed": true
   },
   "outputs": [],
   "source": [
    "df3['building_age'] = 2017 - df3.Median_Year_Built"
   ]
  },
  {
   "cell_type": "code",
   "execution_count": 487,
   "metadata": {
    "collapsed": true
   },
   "outputs": [],
   "source": [
    "df3 = df3.drop(['Median_Year_Built', 'pop_25up', 'h_unit', 'pop_pvty', 'GEO.id', 'GEO.display-label', 'Borough'], axis=1)"
   ]
  },
  {
   "cell_type": "code",
   "execution_count": 488,
   "metadata": {},
   "outputs": [
    {
     "name": "stderr",
     "output_type": "stream",
     "text": [
      "/Users/zhoubaoling/anaconda/lib/python3.6/site-packages/ipykernel_launcher.py:1: RuntimeWarning: divide by zero encountered in log\n",
      "  \"\"\"Entry point for launching an IPython kernel.\n"
     ]
    }
   ],
   "source": [
    "df3['entropy_index'] = -(df3.perc_white * np.log(df3.perc_white) + df3.perc_black * np.log(df3.perc_black) \\\n",
    "  + df3.perc_asian * np.log(df3.perc_asian) + df3.perc_hispanic * np.log(df3.perc_hispanic))"
   ]
  },
  {
   "cell_type": "code",
   "execution_count": 491,
   "metadata": {
    "collapsed": true
   },
   "outputs": [],
   "source": [
    "df3 = df3.iloc[0:9997]"
   ]
  },
  {
   "cell_type": "code",
   "execution_count": 492,
   "metadata": {},
   "outputs": [
    {
     "data": {
      "text/plain": [
       "array([2015, 2014, 2013, 2010, 2009])"
      ]
     },
     "execution_count": 492,
     "metadata": {},
     "output_type": "execute_result"
    }
   ],
   "source": [
    "df3.year.unique()"
   ]
  },
  {
   "cell_type": "code",
   "execution_count": 493,
   "metadata": {
    "collapsed": true
   },
   "outputs": [],
   "source": [
    "df3 = df3.dropna(axis=0, how='any')"
   ]
  },
  {
   "cell_type": "code",
   "execution_count": 494,
   "metadata": {},
   "outputs": [
    {
     "data": {
      "text/plain": [
       "(8090, 31)"
      ]
     },
     "execution_count": 494,
     "metadata": {},
     "output_type": "execute_result"
    }
   ],
   "source": [
    "df3.shape"
   ]
  },
  {
   "cell_type": "code",
   "execution_count": 495,
   "metadata": {
    "collapsed": true
   },
   "outputs": [],
   "source": [
    "df3.to_csv('data/df3.csv')"
   ]
  },
  {
   "cell_type": "markdown",
   "metadata": {},
   "source": [
    "## Saving point 4"
   ]
  },
  {
   "cell_type": "code",
   "execution_count": 795,
   "metadata": {
    "collapsed": true
   },
   "outputs": [],
   "source": [
    "df4 = pd.read_csv('data/df3.csv')"
   ]
  },
  {
   "cell_type": "code",
   "execution_count": 796,
   "metadata": {
    "collapsed": true
   },
   "outputs": [],
   "source": [
    "del df4['Unnamed: 0']"
   ]
  },
  {
   "cell_type": "code",
   "execution_count": 797,
   "metadata": {},
   "outputs": [
    {
     "data": {
      "text/plain": [
       "(8090, 31)"
      ]
     },
     "execution_count": 797,
     "metadata": {},
     "output_type": "execute_result"
    }
   ],
   "source": [
    "df4.shape"
   ]
  },
  {
   "cell_type": "code",
   "execution_count": 798,
   "metadata": {
    "collapsed": true
   },
   "outputs": [],
   "source": [
    "df4.dropna(inplace =True, axis=0)"
   ]
  },
  {
   "cell_type": "code",
   "execution_count": 799,
   "metadata": {},
   "outputs": [
    {
     "data": {
      "text/plain": [
       "8090"
      ]
     },
     "execution_count": 799,
     "metadata": {},
     "output_type": "execute_result"
    }
   ],
   "source": [
    "len(df4)"
   ]
  },
  {
   "cell_type": "code",
   "execution_count": 800,
   "metadata": {},
   "outputs": [
    {
     "data": {
      "text/plain": [
       "Index(['ct_index', 'Population_density', 'Total_pop', 'perc_white',\n",
       "       'perc_black', 'perc_asian', 'perc_hispanic', 'high_school_below',\n",
       "       'bachelor_up', 'Median_hhs_Income', 'Per_Capita_Income', 'Gini_Index',\n",
       "       'Occupied_rate', 'Median_Value', 'Median_Rent', 'inc_to_poverty_under2',\n",
       "       'inc_to_poverty_above2', 'Foreign_born', 'year', 'GEO.id2',\n",
       "       'Total_Housing_unit', 'n_ct', 'Total Low-Income Units:', 'perc_pc',\n",
       "       'pc10', 'pc5', 'perc_pc_', 'pc10_', 'pc5_', 'building_age',\n",
       "       'entropy_index'],\n",
       "      dtype='object')"
      ]
     },
     "execution_count": 800,
     "metadata": {},
     "output_type": "execute_result"
    }
   ],
   "source": [
    "df4.columns"
   ]
  },
  {
   "cell_type": "code",
   "execution_count": 801,
   "metadata": {},
   "outputs": [
    {
     "data": {
      "text/plain": [
       "array([2015, 2014, 2013, 2010, 2009])"
      ]
     },
     "execution_count": 801,
     "metadata": {},
     "output_type": "execute_result"
    }
   ],
   "source": [
    "df4.year.unique()"
   ]
  },
  {
   "cell_type": "code",
   "execution_count": 802,
   "metadata": {
    "collapsed": true
   },
   "outputs": [],
   "source": [
    "df_entropy = df4.pivot(index='GEO.id2', columns='year', values='entropy_index').dropna(axis = 0, how='any')"
   ]
  },
  {
   "cell_type": "code",
   "execution_count": 803,
   "metadata": {},
   "outputs": [
    {
     "data": {
      "text/html": [
       "<div>\n",
       "<style>\n",
       "    .dataframe thead tr:only-child th {\n",
       "        text-align: right;\n",
       "    }\n",
       "\n",
       "    .dataframe thead th {\n",
       "        text-align: left;\n",
       "    }\n",
       "\n",
       "    .dataframe tbody tr th {\n",
       "        vertical-align: top;\n",
       "    }\n",
       "</style>\n",
       "<table border=\"1\" class=\"dataframe\">\n",
       "  <thead>\n",
       "    <tr style=\"text-align: right;\">\n",
       "      <th>year</th>\n",
       "      <th>2009</th>\n",
       "      <th>2010</th>\n",
       "      <th>2013</th>\n",
       "      <th>2014</th>\n",
       "      <th>2015</th>\n",
       "    </tr>\n",
       "    <tr>\n",
       "      <th>GEO.id2</th>\n",
       "      <th></th>\n",
       "      <th></th>\n",
       "      <th></th>\n",
       "      <th></th>\n",
       "      <th></th>\n",
       "    </tr>\n",
       "  </thead>\n",
       "  <tbody>\n",
       "    <tr>\n",
       "      <th>36005000200</th>\n",
       "      <td>0.948002</td>\n",
       "      <td>0.993661</td>\n",
       "      <td>1.086079</td>\n",
       "      <td>1.082318</td>\n",
       "      <td>1.046724</td>\n",
       "    </tr>\n",
       "    <tr>\n",
       "      <th>36005000400</th>\n",
       "      <td>0.918683</td>\n",
       "      <td>0.901944</td>\n",
       "      <td>1.071566</td>\n",
       "      <td>1.094590</td>\n",
       "      <td>1.087721</td>\n",
       "    </tr>\n",
       "    <tr>\n",
       "      <th>36005001600</th>\n",
       "      <td>1.050760</td>\n",
       "      <td>1.047898</td>\n",
       "      <td>1.093940</td>\n",
       "      <td>1.096343</td>\n",
       "      <td>1.069998</td>\n",
       "    </tr>\n",
       "    <tr>\n",
       "      <th>36005002000</th>\n",
       "      <td>1.001515</td>\n",
       "      <td>0.944145</td>\n",
       "      <td>1.049985</td>\n",
       "      <td>1.038436</td>\n",
       "      <td>1.035574</td>\n",
       "    </tr>\n",
       "    <tr>\n",
       "      <th>36005002800</th>\n",
       "      <td>0.534859</td>\n",
       "      <td>0.688671</td>\n",
       "      <td>0.721219</td>\n",
       "      <td>0.577174</td>\n",
       "      <td>0.542097</td>\n",
       "    </tr>\n",
       "  </tbody>\n",
       "</table>\n",
       "</div>"
      ],
      "text/plain": [
       "year             2009      2010      2013      2014      2015\n",
       "GEO.id2                                                      \n",
       "36005000200  0.948002  0.993661  1.086079  1.082318  1.046724\n",
       "36005000400  0.918683  0.901944  1.071566  1.094590  1.087721\n",
       "36005001600  1.050760  1.047898  1.093940  1.096343  1.069998\n",
       "36005002000  1.001515  0.944145  1.049985  1.038436  1.035574\n",
       "36005002800  0.534859  0.688671  0.721219  0.577174  0.542097"
      ]
     },
     "execution_count": 803,
     "metadata": {},
     "output_type": "execute_result"
    }
   ],
   "source": [
    "df_entropy.head()"
   ]
  },
  {
   "cell_type": "code",
   "execution_count": 804,
   "metadata": {
    "collapsed": true
   },
   "outputs": [],
   "source": [
    "df_entropy['entropy_inc'] = (df_entropy[2015]/df_entropy[2014] + df_entropy[2014]/df_entropy[2013] + \\\n",
    "                            np.cbrt(df_entropy[2013]/df_entropy[2010]) + df_entropy[2010]/df_entropy[2009] - 4)/4"
   ]
  },
  {
   "cell_type": "code",
   "execution_count": 805,
   "metadata": {
    "collapsed": true
   },
   "outputs": [],
   "source": [
    "# try to figure out a way to solve the gap\n",
    "x09 = 1.1\n",
    "x10 = 1.1**2\n",
    "x11 = 1.1**3\n",
    "x12 = 1.1**4\n",
    "x13 = 1.1**5\n",
    "x14 = 1.1**6\n",
    "x15 = 1.1**7"
   ]
  },
  {
   "cell_type": "code",
   "execution_count": 806,
   "metadata": {},
   "outputs": [
    {
     "data": {
      "text/plain": [
       "0.10000000000000009"
      ]
     },
     "execution_count": 806,
     "metadata": {},
     "output_type": "execute_result"
    }
   ],
   "source": [
    "np.cbrt(x13/x10)-1"
   ]
  },
  {
   "cell_type": "code",
   "execution_count": 807,
   "metadata": {
    "collapsed": true
   },
   "outputs": [],
   "source": [
    "df_entropy.to_csv('data/df_entropy.csv')"
   ]
  },
  {
   "cell_type": "markdown",
   "metadata": {},
   "source": [
    "# Saving point (Entropy_inc)"
   ]
  },
  {
   "cell_type": "code",
   "execution_count": 808,
   "metadata": {
    "collapsed": true
   },
   "outputs": [],
   "source": [
    "df_entpy = pd.read_csv('data/df_entropy.csv')"
   ]
  },
  {
   "cell_type": "code",
   "execution_count": 809,
   "metadata": {},
   "outputs": [
    {
     "name": "stderr",
     "output_type": "stream",
     "text": [
      "/Users/zhoubaoling/anaconda/lib/python3.6/site-packages/matplotlib/axes/_axes.py:545: UserWarning: No labelled objects found. Use label='...' kwarg on individual plots.\n",
      "  warnings.warn(\"No labelled objects found. \"\n"
     ]
    },
    {
     "data": {
      "image/png": "[encoded data removed]",
      "text/plain": [
       "<matplotlib.figure.Figure at 0x128007ac8>"
      ]
     },
     "metadata": {},
     "output_type": "display_data"
    }
   ],
   "source": [
    "fig = plt.figure(figsize=(6,6))\n",
    "plt.hist(df_entpy.entropy_inc)\n",
    "plt.legend(fontsize = 15)\n",
    "plt.title('Histogram of entropy annual increase', fontsize = 20)\n",
    "plt.xlabel('% annual change in entropy index',fontsize = 18)\n",
    "plt.ylabel('Frequency',fontsize = 18)\n",
    "fig.savefig('data/graph/fig1.jpg')"
   ]
  },
  {
   "cell_type": "code",
   "execution_count": 810,
   "metadata": {},
   "outputs": [
    {
     "data": {
      "text/plain": [
       "Index(['ct_index', 'Population_density', 'Total_pop', 'perc_white',\n",
       "       'perc_black', 'perc_asian', 'perc_hispanic', 'high_school_below',\n",
       "       'bachelor_up', 'Median_hhs_Income', 'Per_Capita_Income', 'Gini_Index',\n",
       "       'Occupied_rate', 'Median_Value', 'Median_Rent', 'inc_to_poverty_under2',\n",
       "       'inc_to_poverty_above2', 'Foreign_born', 'year', 'GEO.id2',\n",
       "       'Total_Housing_unit', 'n_ct', 'Total Low-Income Units:', 'perc_pc',\n",
       "       'pc10', 'pc5', 'perc_pc_', 'pc10_', 'pc5_', 'building_age',\n",
       "       'entropy_index'],\n",
       "      dtype='object')"
      ]
     },
     "execution_count": 810,
     "metadata": {},
     "output_type": "execute_result"
    }
   ],
   "source": [
    "df4.columns"
   ]
  },
  {
   "cell_type": "code",
   "execution_count": 811,
   "metadata": {},
   "outputs": [
    {
     "data": {
      "text/plain": [
       "0    $1,358\n",
       "1    $1,282\n",
       "2    $1,264\n",
       "3    $1,273\n",
       "4    $1,328\n",
       "Name: Median_Rent, dtype: object"
      ]
     },
     "execution_count": 811,
     "metadata": {},
     "output_type": "execute_result"
    }
   ],
   "source": [
    "df4.Median_Rent.head()"
   ]
  },
  {
   "cell_type": "code",
   "execution_count": 812,
   "metadata": {},
   "outputs": [
    {
     "name": "stdout",
     "output_type": "stream",
     "text": [
      "<class 'pandas.core.frame.DataFrame'>\n",
      "Int64Index: 8090 entries, 0 to 8089\n",
      "Data columns (total 31 columns):\n",
      "ct_index                   8090 non-null object\n",
      "Population_density         8090 non-null float64\n",
      "Total_pop                  8090 non-null float64\n",
      "perc_white                 8090 non-null float64\n",
      "perc_black                 8090 non-null float64\n",
      "perc_asian                 8090 non-null float64\n",
      "perc_hispanic              8090 non-null float64\n",
      "high_school_below          8090 non-null float64\n",
      "bachelor_up                8090 non-null float64\n",
      "Median_hhs_Income          8090 non-null object\n",
      "Per_Capita_Income          8090 non-null object\n",
      "Gini_Index                 8090 non-null float64\n",
      "Occupied_rate              8090 non-null float64\n",
      "Median_Value               8090 non-null object\n",
      "Median_Rent                8090 non-null object\n",
      "inc_to_poverty_under2      8090 non-null float64\n",
      "inc_to_poverty_above2      8090 non-null float64\n",
      "Foreign_born               8090 non-null float64\n",
      "year                       8090 non-null int64\n",
      "GEO.id2                    8090 non-null int64\n",
      "Total_Housing_unit         8090 non-null int64\n",
      "n_ct                       8090 non-null float64\n",
      "Total Low-Income Units:    8090 non-null float64\n",
      "perc_pc                    8090 non-null float64\n",
      "pc10                       8090 non-null int64\n",
      "pc5                        8090 non-null int64\n",
      "perc_pc_                   8090 non-null float64\n",
      "pc10_                      8090 non-null int64\n",
      "pc5_                       8090 non-null int64\n",
      "building_age               8090 non-null float64\n",
      "entropy_index              8090 non-null float64\n",
      "dtypes: float64(19), int64(7), object(5)\n",
      "memory usage: 2.0+ MB\n"
     ]
    }
   ],
   "source": [
    "df4.info()"
   ]
  },
  {
   "cell_type": "code",
   "execution_count": 813,
   "metadata": {
    "collapsed": true
   },
   "outputs": [],
   "source": [
    "df4['Median_hhs_Income'] = df4.Median_hhs_Income.apply(lambda x:float(x[1:].replace(\",\",\"\")))\n",
    "df4['Per_Capita_Income'] = df4.Per_Capita_Income.apply(lambda x:float(x[1:].replace(\",\",\"\")))\n",
    "df4['Median_Value'] = df4.Median_Value.apply(lambda x:float(x[1:].replace(\",\",\"\")))\n",
    "df4['Median_Rent'] = df4.Median_Rent.apply(lambda x:float(x[1:].replace(\",\",\"\")))"
   ]
  },
  {
   "cell_type": "code",
   "execution_count": 814,
   "metadata": {
    "collapsed": true
   },
   "outputs": [],
   "source": [
    "df4 = df4.groupby('ct_index').mean()"
   ]
  },
  {
   "cell_type": "code",
   "execution_count": 815,
   "metadata": {
    "collapsed": true
   },
   "outputs": [],
   "source": [
    "#df4 = df4.groupby('GEO.id2').mean()\n"
   ]
  },
  {
   "cell_type": "code",
   "execution_count": 816,
   "metadata": {
    "collapsed": true
   },
   "outputs": [],
   "source": [
    "df4.reset_index(inplace=True)"
   ]
  },
  {
   "cell_type": "code",
   "execution_count": 817,
   "metadata": {},
   "outputs": [
    {
     "data": {
      "text/plain": [
       "(1890, 31)"
      ]
     },
     "execution_count": 817,
     "metadata": {},
     "output_type": "execute_result"
    }
   ],
   "source": [
    "df4.shape"
   ]
  },
  {
   "cell_type": "code",
   "execution_count": 818,
   "metadata": {},
   "outputs": [
    {
     "data": {
      "text/plain": [
       "Index(['ct_index', 'Population_density', 'Total_pop', 'perc_white',\n",
       "       'perc_black', 'perc_asian', 'perc_hispanic', 'high_school_below',\n",
       "       'bachelor_up', 'Median_hhs_Income', 'Per_Capita_Income', 'Gini_Index',\n",
       "       'Occupied_rate', 'Median_Value', 'Median_Rent', 'inc_to_poverty_under2',\n",
       "       'inc_to_poverty_above2', 'Foreign_born', 'year', 'GEO.id2',\n",
       "       'Total_Housing_unit', 'n_ct', 'Total Low-Income Units:', 'perc_pc',\n",
       "       'pc10', 'pc5', 'perc_pc_', 'pc10_', 'pc5_', 'building_age',\n",
       "       'entropy_index'],\n",
       "      dtype='object')"
      ]
     },
     "execution_count": 818,
     "metadata": {},
     "output_type": "execute_result"
    }
   ],
   "source": [
    "df4.columns"
   ]
  },
  {
   "cell_type": "code",
   "execution_count": 819,
   "metadata": {
    "collapsed": true
   },
   "outputs": [],
   "source": [
    "df_entpy = df_entpy[['GEO.id2', 'entropy_inc']]"
   ]
  },
  {
   "cell_type": "code",
   "execution_count": 820,
   "metadata": {},
   "outputs": [
    {
     "data": {
      "text/html": [
       "<div>\n",
       "<style>\n",
       "    .dataframe thead tr:only-child th {\n",
       "        text-align: right;\n",
       "    }\n",
       "\n",
       "    .dataframe thead th {\n",
       "        text-align: left;\n",
       "    }\n",
       "\n",
       "    .dataframe tbody tr th {\n",
       "        vertical-align: top;\n",
       "    }\n",
       "</style>\n",
       "<table border=\"1\" class=\"dataframe\">\n",
       "  <thead>\n",
       "    <tr style=\"text-align: right;\">\n",
       "      <th></th>\n",
       "      <th>GEO.id2</th>\n",
       "      <th>entropy_inc</th>\n",
       "    </tr>\n",
       "  </thead>\n",
       "  <tbody>\n",
       "    <tr>\n",
       "      <th>0</th>\n",
       "      <td>36005000200</td>\n",
       "      <td>0.010475</td>\n",
       "    </tr>\n",
       "    <tr>\n",
       "      <th>1</th>\n",
       "      <td>36005000400</td>\n",
       "      <td>0.014028</td>\n",
       "    </tr>\n",
       "    <tr>\n",
       "      <th>2</th>\n",
       "      <td>36005001600</td>\n",
       "      <td>-0.002530</td>\n",
       "    </tr>\n",
       "    <tr>\n",
       "      <th>3</th>\n",
       "      <td>36005002000</td>\n",
       "      <td>-0.008747</td>\n",
       "    </tr>\n",
       "    <tr>\n",
       "      <th>4</th>\n",
       "      <td>36005002800</td>\n",
       "      <td>0.010647</td>\n",
       "    </tr>\n",
       "  </tbody>\n",
       "</table>\n",
       "</div>"
      ],
      "text/plain": [
       "       GEO.id2  entropy_inc\n",
       "0  36005000200     0.010475\n",
       "1  36005000400     0.014028\n",
       "2  36005001600    -0.002530\n",
       "3  36005002000    -0.008747\n",
       "4  36005002800     0.010647"
      ]
     },
     "execution_count": 820,
     "metadata": {},
     "output_type": "execute_result"
    }
   ],
   "source": [
    "df_entpy.head()"
   ]
  },
  {
   "cell_type": "code",
   "execution_count": 821,
   "metadata": {
    "collapsed": true
   },
   "outputs": [],
   "source": [
    "df4 = pd.merge(df4, df_entpy, how='inner', on='GEO.id2')"
   ]
  },
  {
   "cell_type": "code",
   "execution_count": 822,
   "metadata": {},
   "outputs": [
    {
     "data": {
      "text/plain": [
       "Index(['ct_index', 'Population_density', 'Total_pop', 'perc_white',\n",
       "       'perc_black', 'perc_asian', 'perc_hispanic', 'high_school_below',\n",
       "       'bachelor_up', 'Median_hhs_Income', 'Per_Capita_Income', 'Gini_Index',\n",
       "       'Occupied_rate', 'Median_Value', 'Median_Rent', 'inc_to_poverty_under2',\n",
       "       'inc_to_poverty_above2', 'Foreign_born', 'year', 'GEO.id2',\n",
       "       'Total_Housing_unit', 'n_ct', 'Total Low-Income Units:', 'perc_pc',\n",
       "       'pc10', 'pc5', 'perc_pc_', 'pc10_', 'pc5_', 'building_age',\n",
       "       'entropy_index', 'entropy_inc'],\n",
       "      dtype='object')"
      ]
     },
     "execution_count": 822,
     "metadata": {},
     "output_type": "execute_result"
    }
   ],
   "source": [
    "df4.columns"
   ]
  },
  {
   "cell_type": "code",
   "execution_count": 823,
   "metadata": {},
   "outputs": [
    {
     "name": "stderr",
     "output_type": "stream",
     "text": [
      "/Users/zhoubaoling/anaconda/lib/python3.6/site-packages/matplotlib/axes/_axes.py:545: UserWarning: No labelled objects found. Use label='...' kwarg on individual plots.\n",
      "  warnings.warn(\"No labelled objects found. \"\n"
     ]
    },
    {
     "data": {
      "image/png": "[encoded data removed]",
      "text/plain": [
       "<matplotlib.figure.Figure at 0x1298945f8>"
      ]
     },
     "metadata": {},
     "output_type": "display_data"
    }
   ],
   "source": [
    "fig = plt.figure(figsize=(6,6))\n",
    "plt.hist(df4.entropy_index,bins = 30)\n",
    "plt.legend(fontsize = 15)\n",
    "plt.title('Histogram of entropy index', fontsize = 20)\n",
    "plt.xlabel('entropy index',fontsize = 18)\n",
    "plt.ylabel('Frequency',fontsize = 18)\n",
    "fig.savefig('data/graph/fig2.jpg')"
   ]
  },
  {
   "cell_type": "code",
   "execution_count": null,
   "metadata": {
    "collapsed": true
   },
   "outputs": [],
   "source": []
  },
  {
   "cell_type": "code",
   "execution_count": 824,
   "metadata": {},
   "outputs": [
    {
     "data": {
      "text/plain": [
       "Index(['ct_index', 'Population_density', 'Total_pop', 'perc_white',\n",
       "       'perc_black', 'perc_asian', 'perc_hispanic', 'high_school_below',\n",
       "       'bachelor_up', 'Median_hhs_Income', 'Per_Capita_Income', 'Gini_Index',\n",
       "       'Occupied_rate', 'Median_Value', 'Median_Rent', 'inc_to_poverty_under2',\n",
       "       'inc_to_poverty_above2', 'Foreign_born', 'year', 'GEO.id2',\n",
       "       'Total_Housing_unit', 'n_ct', 'Total Low-Income Units:', 'perc_pc',\n",
       "       'pc10', 'pc5', 'perc_pc_', 'pc10_', 'pc5_', 'building_age',\n",
       "       'entropy_index', 'entropy_inc'],\n",
       "      dtype='object')"
      ]
     },
     "execution_count": 824,
     "metadata": {},
     "output_type": "execute_result"
    }
   ],
   "source": [
    "df4.columns"
   ]
  },
  {
   "cell_type": "code",
   "execution_count": 825,
   "metadata": {
    "collapsed": true
   },
   "outputs": [],
   "source": [
    "df4['log_pop'] = np.log(df4.Total_pop)\n",
    "df4['log_pop_density'] = np.log(df4.Population_density)\n",
    "df4['log_h_unit'] = np.log(df4.Total_Housing_unit) \n",
    "df4['log_income'] =np.log(df4.Median_hhs_Income)\n",
    "df4['log_inc_p'] = np.log(df4.Per_Capita_Income)\n",
    "df4['Median_Value'] = np.log(df4.Median_Value)\n",
    "df4['Median_Rent'] = np.log(df4.Median_Rent)"
   ]
  },
  {
   "cell_type": "code",
   "execution_count": 826,
   "metadata": {
    "collapsed": true
   },
   "outputs": [],
   "source": [
    "def pc_2(x):\n",
    "    if x >=0.025:\n",
    "        return 1\n",
    "    else:\n",
    "        return 0"
   ]
  },
  {
   "cell_type": "code",
   "execution_count": 827,
   "metadata": {
    "collapsed": true
   },
   "outputs": [],
   "source": [
    "df4['pc2'] = df4.perc_pc.apply(lambda x:pc_2(x))\n",
    "df4['pc2_'] = df4.perc_pc_.apply(lambda x:pc_2(x))"
   ]
  },
  {
   "cell_type": "code",
   "execution_count": 828,
   "metadata": {
    "collapsed": true
   },
   "outputs": [],
   "source": [
    "df4.to_csv('data/df4.csv')"
   ]
  },
  {
   "cell_type": "markdown",
   "metadata": {},
   "source": [
    "## Saving point 5"
   ]
  },
  {
   "cell_type": "code",
   "execution_count": 85,
   "metadata": {
    "collapsed": true
   },
   "outputs": [],
   "source": [
    "df5 = pd.read_csv('data/df4.csv')"
   ]
  },
  {
   "cell_type": "code",
   "execution_count": 34,
   "metadata": {},
   "outputs": [
    {
     "data": {
      "text/plain": [
       "(1140, 40)"
      ]
     },
     "execution_count": 34,
     "metadata": {},
     "output_type": "execute_result"
    }
   ],
   "source": [
    "df5.shape"
   ]
  },
  {
   "cell_type": "code",
   "execution_count": null,
   "metadata": {
    "collapsed": true
   },
   "outputs": [],
   "source": [
    "'entropy_inc ~ Population_density + Total_pop + \\\n",
    "       + perc_white + perc_black + perc_asian + perc_hispanic + \\\n",
    "       high_school_below + bachelor_up + Gini_Index + Occupied_rate + \\\n",
    "       inc_to_poverty_under2 + inc_to_poverty_above2 + Foreign_born + \\\n",
    "       year + Total_Housing_unit + n_ct + \\\n",
    "       perc_pc + pc10 + pc5 + perc_pc_ + pc10_ + pc5_ + building_age + \\\n",
    "       entropy_index + entropy_inc'"
   ]
  },
  {
   "cell_type": "code",
   "execution_count": null,
   "metadata": {
    "collapsed": true
   },
   "outputs": [],
   "source": [
    "'entropy_inc ~ Population_density + Total_pop + \\\n",
    "       + perc_white + perc_black + perc_asian + perc_hispanic + \\\n",
    "       high_school_below + bachelor_up + Gini_Index + Occupied_rate + \\\n",
    "       inc_to_poverty_under2 + inc_to_poverty_above2 + Foreign_born + \\\n",
    "       Total_Housing_unit + \\\n",
    "       perc_pc + pc10 + pc5 + perc_pc_ + pc10_ + pc5_ + building_age + \\\n",
    "       entropy_index + Median_hhs_Income + Per_Capita_Income +\\\n",
    "       Median_Value + Median_Rent + log_pop + log_pop_density + log_h_unit + \\\n",
    "       log_income + log_inc_p + pc2+ pc2_'\n",
    "       "
   ]
  },
  {
   "cell_type": "code",
   "execution_count": 88,
   "metadata": {},
   "outputs": [
    {
     "data": {
      "text/html": [
       "<table class=\"simpletable\">\n",
       "<caption>OLS Regression Results</caption>\n",
       "<tr>\n",
       "  <th>Dep. Variable:</th>       <td>entropy_inc</td>   <th>  R-squared:         </th> <td>   0.118</td>\n",
       "</tr>\n",
       "<tr>\n",
       "  <th>Model:</th>                   <td>OLS</td>       <th>  Adj. R-squared:    </th> <td>   0.104</td>\n",
       "</tr>\n",
       "<tr>\n",
       "  <th>Method:</th>             <td>Least Squares</td>  <th>  F-statistic:       </th> <td>   8.366</td>\n",
       "</tr>\n",
       "<tr>\n",
       "  <th>Date:</th>             <td>Mon, 04 Dec 2017</td> <th>  Prob (F-statistic):</th> <td>2.32e-21</td>\n",
       "</tr>\n",
       "<tr>\n",
       "  <th>Time:</th>                 <td>14:09:51</td>     <th>  Log-Likelihood:    </th> <td>  1786.0</td>\n",
       "</tr>\n",
       "<tr>\n",
       "  <th>No. Observations:</th>      <td>  1140</td>      <th>  AIC:               </th> <td>  -3534.</td>\n",
       "</tr>\n",
       "<tr>\n",
       "  <th>Df Residuals:</th>          <td>  1121</td>      <th>  BIC:               </th> <td>  -3438.</td>\n",
       "</tr>\n",
       "<tr>\n",
       "  <th>Df Model:</th>              <td>    18</td>      <th>                     </th>     <td> </td>   \n",
       "</tr>\n",
       "<tr>\n",
       "  <th>Covariance Type:</th>      <td>nonrobust</td>    <th>                     </th>     <td> </td>   \n",
       "</tr>\n",
       "</table>\n",
       "<table class=\"simpletable\">\n",
       "<tr>\n",
       "            <td></td>               <th>coef</th>     <th>std err</th>      <th>t</th>      <th>P>|t|</th>  <th>[0.025</th>    <th>0.975]</th>  \n",
       "</tr>\n",
       "<tr>\n",
       "  <th>Intercept</th>             <td>    0.1110</td> <td>    0.106</td> <td>    1.050</td> <td> 0.294</td> <td>   -0.096</td> <td>    0.318</td>\n",
       "</tr>\n",
       "<tr>\n",
       "  <th>perc_white</th>            <td>    0.0012</td> <td>    0.020</td> <td>    0.060</td> <td> 0.952</td> <td>   -0.038</td> <td>    0.040</td>\n",
       "</tr>\n",
       "<tr>\n",
       "  <th>perc_black</th>            <td>   -0.0032</td> <td>    0.015</td> <td>   -0.219</td> <td> 0.826</td> <td>   -0.032</td> <td>    0.026</td>\n",
       "</tr>\n",
       "<tr>\n",
       "  <th>perc_asian</th>            <td>   16.2448</td> <td>   35.787</td> <td>    0.454</td> <td> 0.650</td> <td>  -53.973</td> <td>   86.462</td>\n",
       "</tr>\n",
       "<tr>\n",
       "  <th>perc_hispanic</th>         <td>    0.0114</td> <td>    0.021</td> <td>    0.555</td> <td> 0.579</td> <td>   -0.029</td> <td>    0.052</td>\n",
       "</tr>\n",
       "<tr>\n",
       "  <th>high_school_below</th>     <td>   -0.0265</td> <td>    0.032</td> <td>   -0.827</td> <td> 0.408</td> <td>   -0.089</td> <td>    0.036</td>\n",
       "</tr>\n",
       "<tr>\n",
       "  <th>bachelor_up</th>           <td>   -0.0680</td> <td>    0.024</td> <td>   -2.827</td> <td> 0.005</td> <td>   -0.115</td> <td>   -0.021</td>\n",
       "</tr>\n",
       "<tr>\n",
       "  <th>Gini_Index</th>            <td>    0.0058</td> <td>    0.063</td> <td>    0.092</td> <td> 0.927</td> <td>   -0.119</td> <td>    0.130</td>\n",
       "</tr>\n",
       "<tr>\n",
       "  <th>Occupied_rate</th>         <td>   -0.0826</td> <td>    0.046</td> <td>   -1.781</td> <td> 0.075</td> <td>   -0.174</td> <td>    0.008</td>\n",
       "</tr>\n",
       "<tr>\n",
       "  <th>inc_to_poverty_under2</th> <td>    0.0521</td> <td>    0.047</td> <td>    1.116</td> <td> 0.265</td> <td>   -0.039</td> <td>    0.144</td>\n",
       "</tr>\n",
       "<tr>\n",
       "  <th>inc_to_poverty_above2</th> <td>    0.0589</td> <td>    0.063</td> <td>    0.940</td> <td> 0.347</td> <td>   -0.064</td> <td>    0.182</td>\n",
       "</tr>\n",
       "<tr>\n",
       "  <th>Foreign_born</th>          <td>   -0.0519</td> <td>    0.017</td> <td>   -3.108</td> <td> 0.002</td> <td>   -0.085</td> <td>   -0.019</td>\n",
       "</tr>\n",
       "<tr>\n",
       "  <th>pc5_</th>                  <td>   -0.0046</td> <td>    0.005</td> <td>   -0.862</td> <td> 0.389</td> <td>   -0.015</td> <td>    0.006</td>\n",
       "</tr>\n",
       "<tr>\n",
       "  <th>building_age</th>          <td>    0.0004</td> <td>    0.000</td> <td>    3.002</td> <td> 0.003</td> <td>    0.000</td> <td>    0.001</td>\n",
       "</tr>\n",
       "<tr>\n",
       "  <th>entropy_index</th>         <td>   -0.0741</td> <td>    0.010</td> <td>   -7.281</td> <td> 0.000</td> <td>   -0.094</td> <td>   -0.054</td>\n",
       "</tr>\n",
       "<tr>\n",
       "  <th>log_pop</th>               <td>   -0.0107</td> <td>    0.020</td> <td>   -0.533</td> <td> 0.594</td> <td>   -0.050</td> <td>    0.029</td>\n",
       "</tr>\n",
       "<tr>\n",
       "  <th>log_pop_density</th>       <td>    0.0032</td> <td>    0.004</td> <td>    0.873</td> <td> 0.383</td> <td>   -0.004</td> <td>    0.010</td>\n",
       "</tr>\n",
       "<tr>\n",
       "  <th>log_h_unit</th>            <td>    0.0108</td> <td>    0.019</td> <td>    0.566</td> <td> 0.572</td> <td>   -0.027</td> <td>    0.048</td>\n",
       "</tr>\n",
       "<tr>\n",
       "  <th>log_income</th>            <td>   -0.0007</td> <td>    0.020</td> <td>   -0.036</td> <td> 0.971</td> <td>   -0.041</td> <td>    0.039</td>\n",
       "</tr>\n",
       "<tr>\n",
       "  <th>log_inc_p</th>             <td>   -0.0031</td> <td>    0.023</td> <td>   -0.134</td> <td> 0.893</td> <td>   -0.048</td> <td>    0.042</td>\n",
       "</tr>\n",
       "</table>\n",
       "<table class=\"simpletable\">\n",
       "<tr>\n",
       "  <th>Omnibus:</th>       <td>160.071</td> <th>  Durbin-Watson:     </th> <td>   1.897</td> \n",
       "</tr>\n",
       "<tr>\n",
       "  <th>Prob(Omnibus):</th> <td> 0.000</td>  <th>  Jarque-Bera (JB):  </th> <td> 949.846</td> \n",
       "</tr>\n",
       "<tr>\n",
       "  <th>Skew:</th>          <td> 0.485</td>  <th>  Prob(JB):          </th> <td>5.54e-207</td>\n",
       "</tr>\n",
       "<tr>\n",
       "  <th>Kurtosis:</th>      <td> 7.365</td>  <th>  Cond. No.          </th> <td>9.35e+17</td> \n",
       "</tr>\n",
       "</table>"
      ],
      "text/plain": [
       "<class 'statsmodels.iolib.summary.Summary'>\n",
       "\"\"\"\n",
       "                            OLS Regression Results                            \n",
       "==============================================================================\n",
       "Dep. Variable:            entropy_inc   R-squared:                       0.118\n",
       "Model:                            OLS   Adj. R-squared:                  0.104\n",
       "Method:                 Least Squares   F-statistic:                     8.366\n",
       "Date:                Mon, 04 Dec 2017   Prob (F-statistic):           2.32e-21\n",
       "Time:                        14:09:51   Log-Likelihood:                 1786.0\n",
       "No. Observations:                1140   AIC:                            -3534.\n",
       "Df Residuals:                    1121   BIC:                            -3438.\n",
       "Df Model:                          18                                         \n",
       "Covariance Type:            nonrobust                                         \n",
       "=========================================================================================\n",
       "                            coef    std err          t      P>|t|      [0.025      0.975]\n",
       "-----------------------------------------------------------------------------------------\n",
       "Intercept                 0.1110      0.106      1.050      0.294      -0.096       0.318\n",
       "perc_white                0.0012      0.020      0.060      0.952      -0.038       0.040\n",
       "perc_black               -0.0032      0.015     -0.219      0.826      -0.032       0.026\n",
       "perc_asian               16.2448     35.787      0.454      0.650     -53.973      86.462\n",
       "perc_hispanic             0.0114      0.021      0.555      0.579      -0.029       0.052\n",
       "high_school_below        -0.0265      0.032     -0.827      0.408      -0.089       0.036\n",
       "bachelor_up              -0.0680      0.024     -2.827      0.005      -0.115      -0.021\n",
       "Gini_Index                0.0058      0.063      0.092      0.927      -0.119       0.130\n",
       "Occupied_rate            -0.0826      0.046     -1.781      0.075      -0.174       0.008\n",
       "inc_to_poverty_under2     0.0521      0.047      1.116      0.265      -0.039       0.144\n",
       "inc_to_poverty_above2     0.0589      0.063      0.940      0.347      -0.064       0.182\n",
       "Foreign_born             -0.0519      0.017     -3.108      0.002      -0.085      -0.019\n",
       "pc5_                     -0.0046      0.005     -0.862      0.389      -0.015       0.006\n",
       "building_age              0.0004      0.000      3.002      0.003       0.000       0.001\n",
       "entropy_index            -0.0741      0.010     -7.281      0.000      -0.094      -0.054\n",
       "log_pop                  -0.0107      0.020     -0.533      0.594      -0.050       0.029\n",
       "log_pop_density           0.0032      0.004      0.873      0.383      -0.004       0.010\n",
       "log_h_unit                0.0108      0.019      0.566      0.572      -0.027       0.048\n",
       "log_income               -0.0007      0.020     -0.036      0.971      -0.041       0.039\n",
       "log_inc_p                -0.0031      0.023     -0.134      0.893      -0.048       0.042\n",
       "==============================================================================\n",
       "Omnibus:                      160.071   Durbin-Watson:                   1.897\n",
       "Prob(Omnibus):                  0.000   Jarque-Bera (JB):              949.846\n",
       "Skew:                           0.485   Prob(JB):                    5.54e-207\n",
       "Kurtosis:                       7.365   Cond. No.                     9.35e+17\n",
       "==============================================================================\n",
       "\n",
       "Warnings:\n",
       "[1] Standard Errors assume that the covariance matrix of the errors is correctly specified.\n",
       "[2] The smallest eigenvalue is 6.88e-30. This might indicate that there are\n",
       "strong multicollinearity problems or that the design matrix is singular.\n",
       "\"\"\""
      ]
     },
     "execution_count": 88,
     "metadata": {},
     "output_type": "execute_result"
    }
   ],
   "source": [
    "lm1 = smf.ols('entropy_inc ~ perc_white + perc_black + perc_asian + perc_hispanic + \\\n",
    "       high_school_below + bachelor_up + Gini_Index + Occupied_rate + \\\n",
    "       inc_to_poverty_under2 + inc_to_poverty_above2 + Foreign_born + \\\n",
    "       pc5_ + building_age + \\\n",
    "       entropy_index + log_pop + log_pop_density + log_h_unit + \\\n",
    "       log_income + log_inc_p'\n",
    "              ,data=df5).fit()\n",
    "lm1.summary()"
   ]
  },
  {
   "cell_type": "code",
   "execution_count": 86,
   "metadata": {},
   "outputs": [
    {
     "data": {
      "text/html": [
       "<table class=\"simpletable\">\n",
       "<caption>OLS Regression Results</caption>\n",
       "<tr>\n",
       "  <th>Dep. Variable:</th>       <td>entropy_inc</td>   <th>  R-squared:         </th> <td>   0.117</td>\n",
       "</tr>\n",
       "<tr>\n",
       "  <th>Model:</th>                   <td>OLS</td>       <th>  Adj. R-squared:    </th> <td>   0.110</td>\n",
       "</tr>\n",
       "<tr>\n",
       "  <th>Method:</th>             <td>Least Squares</td>  <th>  F-statistic:       </th> <td>   16.57</td>\n",
       "</tr>\n",
       "<tr>\n",
       "  <th>Date:</th>             <td>Mon, 04 Dec 2017</td> <th>  Prob (F-statistic):</th> <td>8.08e-26</td>\n",
       "</tr>\n",
       "<tr>\n",
       "  <th>Time:</th>                 <td>14:09:09</td>     <th>  Log-Likelihood:    </th> <td>  1784.8</td>\n",
       "</tr>\n",
       "<tr>\n",
       "  <th>No. Observations:</th>      <td>  1140</td>      <th>  AIC:               </th> <td>  -3550.</td>\n",
       "</tr>\n",
       "<tr>\n",
       "  <th>Df Residuals:</th>          <td>  1130</td>      <th>  BIC:               </th> <td>  -3499.</td>\n",
       "</tr>\n",
       "<tr>\n",
       "  <th>Df Model:</th>              <td>     9</td>      <th>                     </th>     <td> </td>   \n",
       "</tr>\n",
       "<tr>\n",
       "  <th>Covariance Type:</th>      <td>nonrobust</td>    <th>                     </th>     <td> </td>   \n",
       "</tr>\n",
       "</table>\n",
       "<table class=\"simpletable\">\n",
       "<tr>\n",
       "            <td></td>               <th>coef</th>     <th>std err</th>      <th>t</th>      <th>P>|t|</th>  <th>[0.025</th>    <th>0.975]</th>  \n",
       "</tr>\n",
       "<tr>\n",
       "  <th>Intercept</th>             <td>    0.0779</td> <td>    0.030</td> <td>    2.607</td> <td> 0.009</td> <td>    0.019</td> <td>    0.137</td>\n",
       "</tr>\n",
       "<tr>\n",
       "  <th>perc_asian</th>            <td>   23.3172</td> <td>   17.176</td> <td>    1.358</td> <td> 0.175</td> <td>  -10.384</td> <td>   57.018</td>\n",
       "</tr>\n",
       "<tr>\n",
       "  <th>bachelor_up</th>           <td>   -0.0589</td> <td>    0.014</td> <td>   -4.243</td> <td> 0.000</td> <td>   -0.086</td> <td>   -0.032</td>\n",
       "</tr>\n",
       "<tr>\n",
       "  <th>Occupied_rate</th>         <td>   -0.0922</td> <td>    0.036</td> <td>   -2.558</td> <td> 0.011</td> <td>   -0.163</td> <td>   -0.021</td>\n",
       "</tr>\n",
       "<tr>\n",
       "  <th>inc_to_poverty_under2</th> <td>    0.0359</td> <td>    0.019</td> <td>    1.864</td> <td> 0.063</td> <td>   -0.002</td> <td>    0.074</td>\n",
       "</tr>\n",
       "<tr>\n",
       "  <th>inc_to_poverty_above2</th> <td>    0.0420</td> <td>    0.015</td> <td>    2.824</td> <td> 0.005</td> <td>    0.013</td> <td>    0.071</td>\n",
       "</tr>\n",
       "<tr>\n",
       "  <th>Foreign_born</th>          <td>   -0.0554</td> <td>    0.012</td> <td>   -4.688</td> <td> 0.000</td> <td>   -0.079</td> <td>   -0.032</td>\n",
       "</tr>\n",
       "<tr>\n",
       "  <th>pc5_</th>                  <td>   -0.0039</td> <td>    0.005</td> <td>   -0.760</td> <td> 0.447</td> <td>   -0.014</td> <td>    0.006</td>\n",
       "</tr>\n",
       "<tr>\n",
       "  <th>building_age</th>          <td>    0.0004</td> <td>    0.000</td> <td>    2.954</td> <td> 0.003</td> <td>    0.000</td> <td>    0.001</td>\n",
       "</tr>\n",
       "<tr>\n",
       "  <th>entropy_index</th>         <td>   -0.0721</td> <td>    0.007</td> <td>   -9.729</td> <td> 0.000</td> <td>   -0.087</td> <td>   -0.058</td>\n",
       "</tr>\n",
       "<tr>\n",
       "  <th>log_pop_density</th>       <td>    0.0037</td> <td>    0.003</td> <td>    1.164</td> <td> 0.245</td> <td>   -0.003</td> <td>    0.010</td>\n",
       "</tr>\n",
       "</table>\n",
       "<table class=\"simpletable\">\n",
       "<tr>\n",
       "  <th>Omnibus:</th>       <td>159.455</td> <th>  Durbin-Watson:     </th> <td>   1.895</td> \n",
       "</tr>\n",
       "<tr>\n",
       "  <th>Prob(Omnibus):</th> <td> 0.000</td>  <th>  Jarque-Bera (JB):  </th> <td> 918.397</td> \n",
       "</tr>\n",
       "<tr>\n",
       "  <th>Skew:</th>          <td> 0.493</td>  <th>  Prob(JB):          </th> <td>3.74e-200</td>\n",
       "</tr>\n",
       "<tr>\n",
       "  <th>Kurtosis:</th>      <td> 7.285</td>  <th>  Cond. No.          </th> <td>8.63e+17</td> \n",
       "</tr>\n",
       "</table>"
      ],
      "text/plain": [
       "<class 'statsmodels.iolib.summary.Summary'>\n",
       "\"\"\"\n",
       "                            OLS Regression Results                            \n",
       "==============================================================================\n",
       "Dep. Variable:            entropy_inc   R-squared:                       0.117\n",
       "Model:                            OLS   Adj. R-squared:                  0.110\n",
       "Method:                 Least Squares   F-statistic:                     16.57\n",
       "Date:                Mon, 04 Dec 2017   Prob (F-statistic):           8.08e-26\n",
       "Time:                        14:09:09   Log-Likelihood:                 1784.8\n",
       "No. Observations:                1140   AIC:                            -3550.\n",
       "Df Residuals:                    1130   BIC:                            -3499.\n",
       "Df Model:                           9                                         \n",
       "Covariance Type:            nonrobust                                         \n",
       "=========================================================================================\n",
       "                            coef    std err          t      P>|t|      [0.025      0.975]\n",
       "-----------------------------------------------------------------------------------------\n",
       "Intercept                 0.0779      0.030      2.607      0.009       0.019       0.137\n",
       "perc_asian               23.3172     17.176      1.358      0.175     -10.384      57.018\n",
       "bachelor_up              -0.0589      0.014     -4.243      0.000      -0.086      -0.032\n",
       "Occupied_rate            -0.0922      0.036     -2.558      0.011      -0.163      -0.021\n",
       "inc_to_poverty_under2     0.0359      0.019      1.864      0.063      -0.002       0.074\n",
       "inc_to_poverty_above2     0.0420      0.015      2.824      0.005       0.013       0.071\n",
       "Foreign_born             -0.0554      0.012     -4.688      0.000      -0.079      -0.032\n",
       "pc5_                     -0.0039      0.005     -0.760      0.447      -0.014       0.006\n",
       "building_age              0.0004      0.000      2.954      0.003       0.000       0.001\n",
       "entropy_index            -0.0721      0.007     -9.729      0.000      -0.087      -0.058\n",
       "log_pop_density           0.0037      0.003      1.164      0.245      -0.003       0.010\n",
       "==============================================================================\n",
       "Omnibus:                      159.455   Durbin-Watson:                   1.895\n",
       "Prob(Omnibus):                  0.000   Jarque-Bera (JB):              918.397\n",
       "Skew:                           0.493   Prob(JB):                    3.74e-200\n",
       "Kurtosis:                       7.285   Cond. No.                     8.63e+17\n",
       "==============================================================================\n",
       "\n",
       "Warnings:\n",
       "[1] Standard Errors assume that the covariance matrix of the errors is correctly specified.\n",
       "[2] The smallest eigenvalue is 7.56e-30. This might indicate that there are\n",
       "strong multicollinearity problems or that the design matrix is singular.\n",
       "\"\"\""
      ]
     },
     "execution_count": 86,
     "metadata": {},
     "output_type": "execute_result"
    }
   ],
   "source": [
    "lm2 = smf.ols('entropy_inc ~ perc_asian + \\\n",
    "       bachelor_up + Occupied_rate + \\\n",
    "       inc_to_poverty_under2 + inc_to_poverty_above2 + Foreign_born + \\\n",
    "       pc5_+ building_age + \\\n",
    "       entropy_index + log_pop_density'\n",
    "              ,data=df5).fit()\n",
    "lm2.summary()"
   ]
  },
  {
   "cell_type": "code",
   "execution_count": 87,
   "metadata": {},
   "outputs": [
    {
     "data": {
      "text/html": [
       "<table class=\"simpletable\">\n",
       "<caption>OLS Regression Results</caption>\n",
       "<tr>\n",
       "  <th>Dep. Variable:</th>       <td>entropy_inc</td>   <th>  R-squared:         </th> <td>   0.117</td>\n",
       "</tr>\n",
       "<tr>\n",
       "  <th>Model:</th>                   <td>OLS</td>       <th>  Adj. R-squared:    </th> <td>   0.110</td>\n",
       "</tr>\n",
       "<tr>\n",
       "  <th>Method:</th>             <td>Least Squares</td>  <th>  F-statistic:       </th> <td>   16.59</td>\n",
       "</tr>\n",
       "<tr>\n",
       "  <th>Date:</th>             <td>Mon, 04 Dec 2017</td> <th>  Prob (F-statistic):</th> <td>7.54e-26</td>\n",
       "</tr>\n",
       "<tr>\n",
       "  <th>Time:</th>                 <td>14:09:11</td>     <th>  Log-Likelihood:    </th> <td>  1784.9</td>\n",
       "</tr>\n",
       "<tr>\n",
       "  <th>No. Observations:</th>      <td>  1140</td>      <th>  AIC:               </th> <td>  -3550.</td>\n",
       "</tr>\n",
       "<tr>\n",
       "  <th>Df Residuals:</th>          <td>  1130</td>      <th>  BIC:               </th> <td>  -3499.</td>\n",
       "</tr>\n",
       "<tr>\n",
       "  <th>Df Model:</th>              <td>     9</td>      <th>                     </th>     <td> </td>   \n",
       "</tr>\n",
       "<tr>\n",
       "  <th>Covariance Type:</th>      <td>nonrobust</td>    <th>                     </th>     <td> </td>   \n",
       "</tr>\n",
       "</table>\n",
       "<table class=\"simpletable\">\n",
       "<tr>\n",
       "            <td></td>               <th>coef</th>     <th>std err</th>      <th>t</th>      <th>P>|t|</th>  <th>[0.025</th>    <th>0.975]</th>  \n",
       "</tr>\n",
       "<tr>\n",
       "  <th>Intercept</th>             <td>    0.0773</td> <td>    0.030</td> <td>    2.598</td> <td> 0.009</td> <td>    0.019</td> <td>    0.136</td>\n",
       "</tr>\n",
       "<tr>\n",
       "  <th>perc_asian</th>            <td>   23.1945</td> <td>   17.177</td> <td>    1.350</td> <td> 0.177</td> <td>  -10.507</td> <td>   56.896</td>\n",
       "</tr>\n",
       "<tr>\n",
       "  <th>bachelor_up</th>           <td>   -0.0593</td> <td>    0.014</td> <td>   -4.282</td> <td> 0.000</td> <td>   -0.086</td> <td>   -0.032</td>\n",
       "</tr>\n",
       "<tr>\n",
       "  <th>Occupied_rate</th>         <td>   -0.0910</td> <td>    0.036</td> <td>   -2.536</td> <td> 0.011</td> <td>   -0.161</td> <td>   -0.021</td>\n",
       "</tr>\n",
       "<tr>\n",
       "  <th>inc_to_poverty_under2</th> <td>    0.0354</td> <td>    0.019</td> <td>    1.856</td> <td> 0.064</td> <td>   -0.002</td> <td>    0.073</td>\n",
       "</tr>\n",
       "<tr>\n",
       "  <th>inc_to_poverty_above2</th> <td>    0.0419</td> <td>    0.015</td> <td>    2.816</td> <td> 0.005</td> <td>    0.013</td> <td>    0.071</td>\n",
       "</tr>\n",
       "<tr>\n",
       "  <th>Foreign_born</th>          <td>   -0.0555</td> <td>    0.012</td> <td>   -4.710</td> <td> 0.000</td> <td>   -0.079</td> <td>   -0.032</td>\n",
       "</tr>\n",
       "<tr>\n",
       "  <th>perc_pc</th>               <td>   -0.0170</td> <td>    0.020</td> <td>   -0.851</td> <td> 0.395</td> <td>   -0.056</td> <td>    0.022</td>\n",
       "</tr>\n",
       "<tr>\n",
       "  <th>building_age</th>          <td>    0.0004</td> <td>    0.000</td> <td>    2.959</td> <td> 0.003</td> <td>    0.000</td> <td>    0.001</td>\n",
       "</tr>\n",
       "<tr>\n",
       "  <th>entropy_index</th>         <td>   -0.0723</td> <td>    0.007</td> <td>   -9.753</td> <td> 0.000</td> <td>   -0.087</td> <td>   -0.058</td>\n",
       "</tr>\n",
       "<tr>\n",
       "  <th>log_pop_density</th>       <td>    0.0037</td> <td>    0.003</td> <td>    1.166</td> <td> 0.244</td> <td>   -0.003</td> <td>    0.010</td>\n",
       "</tr>\n",
       "</table>\n",
       "<table class=\"simpletable\">\n",
       "<tr>\n",
       "  <th>Omnibus:</th>       <td>159.067</td> <th>  Durbin-Watson:     </th> <td>   1.897</td> \n",
       "</tr>\n",
       "<tr>\n",
       "  <th>Prob(Omnibus):</th> <td> 0.000</td>  <th>  Jarque-Bera (JB):  </th> <td> 917.362</td> \n",
       "</tr>\n",
       "<tr>\n",
       "  <th>Skew:</th>          <td> 0.491</td>  <th>  Prob(JB):          </th> <td>6.27e-200</td>\n",
       "</tr>\n",
       "<tr>\n",
       "  <th>Kurtosis:</th>      <td> 7.284</td>  <th>  Cond. No.          </th> <td>8.46e+17</td> \n",
       "</tr>\n",
       "</table>"
      ],
      "text/plain": [
       "<class 'statsmodels.iolib.summary.Summary'>\n",
       "\"\"\"\n",
       "                            OLS Regression Results                            \n",
       "==============================================================================\n",
       "Dep. Variable:            entropy_inc   R-squared:                       0.117\n",
       "Model:                            OLS   Adj. R-squared:                  0.110\n",
       "Method:                 Least Squares   F-statistic:                     16.59\n",
       "Date:                Mon, 04 Dec 2017   Prob (F-statistic):           7.54e-26\n",
       "Time:                        14:09:11   Log-Likelihood:                 1784.9\n",
       "No. Observations:                1140   AIC:                            -3550.\n",
       "Df Residuals:                    1130   BIC:                            -3499.\n",
       "Df Model:                           9                                         \n",
       "Covariance Type:            nonrobust                                         \n",
       "=========================================================================================\n",
       "                            coef    std err          t      P>|t|      [0.025      0.975]\n",
       "-----------------------------------------------------------------------------------------\n",
       "Intercept                 0.0773      0.030      2.598      0.009       0.019       0.136\n",
       "perc_asian               23.1945     17.177      1.350      0.177     -10.507      56.896\n",
       "bachelor_up              -0.0593      0.014     -4.282      0.000      -0.086      -0.032\n",
       "Occupied_rate            -0.0910      0.036     -2.536      0.011      -0.161      -0.021\n",
       "inc_to_poverty_under2     0.0354      0.019      1.856      0.064      -0.002       0.073\n",
       "inc_to_poverty_above2     0.0419      0.015      2.816      0.005       0.013       0.071\n",
       "Foreign_born             -0.0555      0.012     -4.710      0.000      -0.079      -0.032\n",
       "perc_pc                  -0.0170      0.020     -0.851      0.395      -0.056       0.022\n",
       "building_age              0.0004      0.000      2.959      0.003       0.000       0.001\n",
       "entropy_index            -0.0723      0.007     -9.753      0.000      -0.087      -0.058\n",
       "log_pop_density           0.0037      0.003      1.166      0.244      -0.003       0.010\n",
       "==============================================================================\n",
       "Omnibus:                      159.067   Durbin-Watson:                   1.897\n",
       "Prob(Omnibus):                  0.000   Jarque-Bera (JB):              917.362\n",
       "Skew:                           0.491   Prob(JB):                    6.27e-200\n",
       "Kurtosis:                       7.284   Cond. No.                     8.46e+17\n",
       "==============================================================================\n",
       "\n",
       "Warnings:\n",
       "[1] Standard Errors assume that the covariance matrix of the errors is correctly specified.\n",
       "[2] The smallest eigenvalue is 7.87e-30. This might indicate that there are\n",
       "strong multicollinearity problems or that the design matrix is singular.\n",
       "\"\"\""
      ]
     },
     "execution_count": 87,
     "metadata": {},
     "output_type": "execute_result"
    }
   ],
   "source": [
    "lm3 = smf.ols('entropy_inc ~ perc_asian + \\\n",
    "       bachelor_up + Occupied_rate + \\\n",
    "       inc_to_poverty_under2 + inc_to_poverty_above2 + Foreign_born + \\\n",
    "       perc_pc + building_age + \\\n",
    "       entropy_index + log_pop_density'\n",
    "              ,data=df5).fit()\n",
    "lm3.summary()"
   ]
  },
  {
   "cell_type": "code",
   "execution_count": 241,
   "metadata": {},
   "outputs": [
    {
     "data": {
      "text/html": [
       "<table class=\"simpletable\">\n",
       "<caption>OLS Regression Results</caption>\n",
       "<tr>\n",
       "  <th>Dep. Variable:</th>      <td>entropy_index</td>  <th>  R-squared:         </th> <td>   0.596</td>\n",
       "</tr>\n",
       "<tr>\n",
       "  <th>Model:</th>                   <td>OLS</td>       <th>  Adj. R-squared:    </th> <td>   0.593</td>\n",
       "</tr>\n",
       "<tr>\n",
       "  <th>Method:</th>             <td>Least Squares</td>  <th>  F-statistic:       </th> <td>   192.9</td>\n",
       "</tr>\n",
       "<tr>\n",
       "  <th>Date:</th>             <td>Thu, 07 Dec 2017</td> <th>  Prob (F-statistic):</th>  <td>  0.00</td> \n",
       "</tr>\n",
       "<tr>\n",
       "  <th>Time:</th>                 <td>00:28:58</td>     <th>  Log-Likelihood:    </th> <td>  958.78</td>\n",
       "</tr>\n",
       "<tr>\n",
       "  <th>No. Observations:</th>      <td>  1978</td>      <th>  AIC:               </th> <td>  -1886.</td>\n",
       "</tr>\n",
       "<tr>\n",
       "  <th>Df Residuals:</th>          <td>  1962</td>      <th>  BIC:               </th> <td>  -1796.</td>\n",
       "</tr>\n",
       "<tr>\n",
       "  <th>Df Model:</th>              <td>    15</td>      <th>                     </th>     <td> </td>   \n",
       "</tr>\n",
       "<tr>\n",
       "  <th>Covariance Type:</th>      <td>nonrobust</td>    <th>                     </th>     <td> </td>   \n",
       "</tr>\n",
       "</table>\n",
       "<table class=\"simpletable\">\n",
       "<tr>\n",
       "            <td></td>               <th>coef</th>     <th>std err</th>      <th>t</th>      <th>P>|t|</th>  <th>[0.025</th>    <th>0.975]</th>  \n",
       "</tr>\n",
       "<tr>\n",
       "  <th>Intercept</th>             <td>    0.5677</td> <td>    0.203</td> <td>    2.803</td> <td> 0.005</td> <td>    0.170</td> <td>    0.965</td>\n",
       "</tr>\n",
       "<tr>\n",
       "  <th>C(pc5_)[T.1.0]</th>        <td>    0.0095</td> <td>    0.009</td> <td>    1.049</td> <td> 0.294</td> <td>   -0.008</td> <td>    0.027</td>\n",
       "</tr>\n",
       "<tr>\n",
       "  <th>perc_white</th>            <td>   -0.4949</td> <td>    0.045</td> <td>  -11.035</td> <td> 0.000</td> <td>   -0.583</td> <td>   -0.407</td>\n",
       "</tr>\n",
       "<tr>\n",
       "  <th>perc_black</th>            <td>   -0.3330</td> <td>    0.035</td> <td>   -9.627</td> <td> 0.000</td> <td>   -0.401</td> <td>   -0.265</td>\n",
       "</tr>\n",
       "<tr>\n",
       "  <th>perc_asian</th>            <td>  354.6847</td> <td>   81.305</td> <td>    4.362</td> <td> 0.000</td> <td>  195.231</td> <td>  514.139</td>\n",
       "</tr>\n",
       "<tr>\n",
       "  <th>perc_hispanic</th>         <td>    0.6136</td> <td>    0.041</td> <td>   14.887</td> <td> 0.000</td> <td>    0.533</td> <td>    0.694</td>\n",
       "</tr>\n",
       "<tr>\n",
       "  <th>high_school_below</th>     <td>   -0.0318</td> <td>    0.068</td> <td>   -0.468</td> <td> 0.640</td> <td>   -0.165</td> <td>    0.102</td>\n",
       "</tr>\n",
       "<tr>\n",
       "  <th>Gini_Index</th>            <td>    0.7616</td> <td>    0.117</td> <td>    6.508</td> <td> 0.000</td> <td>    0.532</td> <td>    0.991</td>\n",
       "</tr>\n",
       "<tr>\n",
       "  <th>Occupied_rate</th>         <td>    0.0374</td> <td>    0.087</td> <td>    0.431</td> <td> 0.667</td> <td>   -0.133</td> <td>    0.208</td>\n",
       "</tr>\n",
       "<tr>\n",
       "  <th>inc_to_poverty_under2</th> <td>    0.2732</td> <td>    0.090</td> <td>    3.047</td> <td> 0.002</td> <td>    0.097</td> <td>    0.449</td>\n",
       "</tr>\n",
       "<tr>\n",
       "  <th>inc_to_poverty_above2</th> <td>    0.2944</td> <td>    0.122</td> <td>    2.416</td> <td> 0.016</td> <td>    0.055</td> <td>    0.533</td>\n",
       "</tr>\n",
       "<tr>\n",
       "  <th>Foreign_born</th>          <td>   -0.3283</td> <td>    0.038</td> <td>   -8.560</td> <td> 0.000</td> <td>   -0.404</td> <td>   -0.253</td>\n",
       "</tr>\n",
       "<tr>\n",
       "  <th>entropy_inc</th>           <td>   -0.7072</td> <td>    0.069</td> <td>  -10.292</td> <td> 0.000</td> <td>   -0.842</td> <td>   -0.572</td>\n",
       "</tr>\n",
       "<tr>\n",
       "  <th>building_age</th>          <td>    0.0006</td> <td>    0.000</td> <td>    2.328</td> <td> 0.020</td> <td> 9.03e-05</td> <td>    0.001</td>\n",
       "</tr>\n",
       "<tr>\n",
       "  <th>log_pop</th>               <td>    0.0272</td> <td>    0.012</td> <td>    2.278</td> <td> 0.023</td> <td>    0.004</td> <td>    0.051</td>\n",
       "</tr>\n",
       "<tr>\n",
       "  <th>log_income</th>            <td>    0.0965</td> <td>    0.027</td> <td>    3.510</td> <td> 0.000</td> <td>    0.043</td> <td>    0.150</td>\n",
       "</tr>\n",
       "<tr>\n",
       "  <th>log_inc_p</th>             <td>   -0.1539</td> <td>    0.026</td> <td>   -5.980</td> <td> 0.000</td> <td>   -0.204</td> <td>   -0.103</td>\n",
       "</tr>\n",
       "</table>\n",
       "<table class=\"simpletable\">\n",
       "<tr>\n",
       "  <th>Omnibus:</th>       <td>39.953</td> <th>  Durbin-Watson:     </th> <td>   1.696</td>\n",
       "</tr>\n",
       "<tr>\n",
       "  <th>Prob(Omnibus):</th> <td> 0.000</td> <th>  Jarque-Bera (JB):  </th> <td>  24.029</td>\n",
       "</tr>\n",
       "<tr>\n",
       "  <th>Skew:</th>          <td>-0.106</td> <th>  Prob(JB):          </th> <td>6.06e-06</td>\n",
       "</tr>\n",
       "<tr>\n",
       "  <th>Kurtosis:</th>      <td> 2.504</td> <th>  Cond. No.          </th> <td>5.84e+17</td>\n",
       "</tr>\n",
       "</table>"
      ],
      "text/plain": [
       "<class 'statsmodels.iolib.summary.Summary'>\n",
       "\"\"\"\n",
       "                            OLS Regression Results                            \n",
       "==============================================================================\n",
       "Dep. Variable:          entropy_index   R-squared:                       0.596\n",
       "Model:                            OLS   Adj. R-squared:                  0.593\n",
       "Method:                 Least Squares   F-statistic:                     192.9\n",
       "Date:                Thu, 07 Dec 2017   Prob (F-statistic):               0.00\n",
       "Time:                        00:28:58   Log-Likelihood:                 958.78\n",
       "No. Observations:                1978   AIC:                            -1886.\n",
       "Df Residuals:                    1962   BIC:                            -1796.\n",
       "Df Model:                          15                                         \n",
       "Covariance Type:            nonrobust                                         \n",
       "=========================================================================================\n",
       "                            coef    std err          t      P>|t|      [0.025      0.975]\n",
       "-----------------------------------------------------------------------------------------\n",
       "Intercept                 0.5677      0.203      2.803      0.005       0.170       0.965\n",
       "C(pc5_)[T.1.0]            0.0095      0.009      1.049      0.294      -0.008       0.027\n",
       "perc_white               -0.4949      0.045    -11.035      0.000      -0.583      -0.407\n",
       "perc_black               -0.3330      0.035     -9.627      0.000      -0.401      -0.265\n",
       "perc_asian              354.6847     81.305      4.362      0.000     195.231     514.139\n",
       "perc_hispanic             0.6136      0.041     14.887      0.000       0.533       0.694\n",
       "high_school_below        -0.0318      0.068     -0.468      0.640      -0.165       0.102\n",
       "Gini_Index                0.7616      0.117      6.508      0.000       0.532       0.991\n",
       "Occupied_rate             0.0374      0.087      0.431      0.667      -0.133       0.208\n",
       "inc_to_poverty_under2     0.2732      0.090      3.047      0.002       0.097       0.449\n",
       "inc_to_poverty_above2     0.2944      0.122      2.416      0.016       0.055       0.533\n",
       "Foreign_born             -0.3283      0.038     -8.560      0.000      -0.404      -0.253\n",
       "entropy_inc              -0.7072      0.069    -10.292      0.000      -0.842      -0.572\n",
       "building_age              0.0006      0.000      2.328      0.020    9.03e-05       0.001\n",
       "log_pop                   0.0272      0.012      2.278      0.023       0.004       0.051\n",
       "log_income                0.0965      0.027      3.510      0.000       0.043       0.150\n",
       "log_inc_p                -0.1539      0.026     -5.980      0.000      -0.204      -0.103\n",
       "==============================================================================\n",
       "Omnibus:                       39.953   Durbin-Watson:                   1.696\n",
       "Prob(Omnibus):                  0.000   Jarque-Bera (JB):               24.029\n",
       "Skew:                          -0.106   Prob(JB):                     6.06e-06\n",
       "Kurtosis:                       2.504   Cond. No.                     5.84e+17\n",
       "==============================================================================\n",
       "\n",
       "Warnings:\n",
       "[1] Standard Errors assume that the covariance matrix of the errors is correctly specified.\n",
       "[2] The smallest eigenvalue is 2.8e-29. This might indicate that there are\n",
       "strong multicollinearity problems or that the design matrix is singular.\n",
       "\"\"\""
      ]
     },
     "execution_count": 241,
     "metadata": {},
     "output_type": "execute_result"
    }
   ],
   "source": [
    "lm4 = smf.ols('entropy_index ~ perc_white + perc_black + perc_asian + perc_hispanic + \\\n",
    "       high_school_below + Gini_Index + Occupied_rate + \\\n",
    "       inc_to_poverty_under2 + inc_to_poverty_above2 + Foreign_born + \\\n",
    "       entropy_inc + \\\n",
    "       C(pc5_) + building_age + entropy_inc + log_pop + \\\n",
    "       log_income + log_inc_p'\n",
    "              ,data=test).fit()\n",
    "lm4.summary()"
   ]
  },
  {
   "cell_type": "code",
   "execution_count": 891,
   "metadata": {
    "collapsed": true
   },
   "outputs": [],
   "source": [
    "df5['predicted_entropy_change'] = lm2.predict()"
   ]
  },
  {
   "cell_type": "code",
   "execution_count": null,
   "metadata": {
    "collapsed": true
   },
   "outputs": [],
   "source": [
    "df5['predicted_entropy_change'] = lm2.predict()\n",
    "lm_1 = smf.ols('predicted_entropy_change ~ entropy_inc', data=df5).fit()\n",
    "fig = plt.figure(figsize=(13,8))\n",
    "plt.plot(df5.entropy_inc, lm2.predict(),'.')\n",
    "plt.plot(df5.entropy_inc, lm_1.predict() ,'r-')\n",
    "plt.xlabel('Actual Entropy Index Growth Rate', fontsize=16)\n",
    "plt.ylabel('Predicted Entropy Index Growth Rate', fontsize=16)\n",
    "plt.title('Predicted Entropy Index Growth Rate \\n vs \\n Actual Entropy Growth Rate ', fontsize=20)\n",
    "fig.savefig('data/graph/fig3.jpg')"
   ]
  },
  {
   "cell_type": "code",
   "execution_count": 895,
   "metadata": {
    "collapsed": true
   },
   "outputs": [],
   "source": [
    "lm_1 = smf.ols('predicted_entropy_change ~ entropy_inc', data=df5).fit()"
   ]
  },
  {
   "cell_type": "code",
   "execution_count": 897,
   "metadata": {},
   "outputs": [
    {
     "data": {
      "image/png": "[encoded data removed]",
      "text/plain": [
       "<matplotlib.figure.Figure at 0x12983d278>"
      ]
     },
     "metadata": {},
     "output_type": "display_data"
    }
   ],
   "source": [
    "fig = plt.figure(figsize=(13,8))\n",
    "plt.plot(df5.entropy_inc, lm2.predict(),'.')\n",
    "plt.plot(df5.entropy_inc, lm_1.predict() ,'r-')\n",
    "plt.xlabel('Actual Entropy Index Growth Rate', fontsize=16)\n",
    "plt.ylabel('Predicted Entropy Index Growth Rate', fontsize=16)\n",
    "plt.title('Predicted Entropy Index Growth Rate \\n vs \\n Actual Entropy Growth Rate \\n ', fontsize=20)\n",
    "fig.savefig('data/graph/fig3.jpg')"
   ]
  },
  {
   "cell_type": "code",
   "execution_count": 898,
   "metadata": {},
   "outputs": [
    {
     "data": {
      "text/plain": [
       "Index(['Unnamed: 0', 'ct_index', 'Population_density', 'Total_pop',\n",
       "       'perc_white', 'perc_black', 'perc_asian', 'perc_hispanic',\n",
       "       'high_school_below', 'bachelor_up', 'Median_hhs_Income',\n",
       "       'Per_Capita_Income', 'Gini_Index', 'Occupied_rate', 'Median_Value',\n",
       "       'Median_Rent', 'inc_to_poverty_under2', 'inc_to_poverty_above2',\n",
       "       'Foreign_born', 'year', 'GEO.id2', 'Total_Housing_unit', 'n_ct',\n",
       "       'Total Low-Income Units:', 'perc_pc', 'pc10', 'pc5', 'perc_pc_',\n",
       "       'pc10_', 'pc5_', 'building_age', 'entropy_index', 'entropy_inc',\n",
       "       'log_pop', 'log_pop_density', 'log_h_unit', 'log_income', 'log_inc_p',\n",
       "       'pc2', 'pc2_', 'predicted_entropy_change'],\n",
       "      dtype='object')"
      ]
     },
     "execution_count": 898,
     "metadata": {},
     "output_type": "execute_result"
    }
   ],
   "source": [
    "df5.columns"
   ]
  },
  {
   "cell_type": "code",
   "execution_count": 937,
   "metadata": {
    "collapsed": true
   },
   "outputs": [],
   "source": [
    "pc = df5[(df5.perc_pc >0) & (df5.perc_pc<=1)]"
   ]
  },
  {
   "cell_type": "code",
   "execution_count": 938,
   "metadata": {
    "collapsed": true
   },
   "outputs": [],
   "source": [
    "pc_ = df5[(df5.perc_pc_ >0) & (df5.perc_pc_<=1)]"
   ]
  },
  {
   "cell_type": "code",
   "execution_count": 939,
   "metadata": {
    "collapsed": true
   },
   "outputs": [],
   "source": [
    "del pc['Unnamed: 0']\n",
    "del pc_['Unnamed: 0']"
   ]
  },
  {
   "cell_type": "code",
   "execution_count": 934,
   "metadata": {},
   "outputs": [
    {
     "data": {
      "text/plain": [
       "(306, 40)"
      ]
     },
     "execution_count": 934,
     "metadata": {},
     "output_type": "execute_result"
    }
   ],
   "source": [
    "pc_.shape"
   ]
  },
  {
   "cell_type": "code",
   "execution_count": 935,
   "metadata": {},
   "outputs": [
    {
     "data": {
      "text/plain": [
       "Index(['ct_index', 'Population_density', 'Total_pop', 'perc_white',\n",
       "       'perc_black', 'perc_asian', 'perc_hispanic', 'high_school_below',\n",
       "       'bachelor_up', 'Median_hhs_Income', 'Per_Capita_Income', 'Gini_Index',\n",
       "       'Occupied_rate', 'Median_Value', 'Median_Rent', 'inc_to_poverty_under2',\n",
       "       'inc_to_poverty_above2', 'Foreign_born', 'year', 'GEO.id2',\n",
       "       'Total_Housing_unit', 'n_ct', 'Total Low-Income Units:', 'perc_pc',\n",
       "       'pc10', 'pc5', 'perc_pc_', 'pc10_', 'pc5_', 'building_age',\n",
       "       'entropy_index', 'entropy_inc', 'log_pop', 'log_pop_density',\n",
       "       'log_h_unit', 'log_income', 'log_inc_p', 'pc2', 'pc2_',\n",
       "       'predicted_entropy_change'],\n",
       "      dtype='object')"
      ]
     },
     "execution_count": 935,
     "metadata": {},
     "output_type": "execute_result"
    }
   ],
   "source": [
    "pc.columns"
   ]
  },
  {
   "cell_type": "code",
   "execution_count": 940,
   "metadata": {
    "collapsed": true
   },
   "outputs": [],
   "source": [
    "del pc['pc10']\n",
    "del pc['pc10_']"
   ]
  },
  {
   "cell_type": "code",
   "execution_count": 941,
   "metadata": {},
   "outputs": [
    {
     "name": "stderr",
     "output_type": "stream",
     "text": [
      "/Users/zhoubaoling/anaconda/lib/python3.6/site-packages/ipykernel_launcher.py:1: SettingWithCopyWarning: \n",
      "A value is trying to be set on a copy of a slice from a DataFrame.\n",
      "Try using .loc[row_indexer,col_indexer] = value instead\n",
      "\n",
      "See the caveats in the documentation: http://pandas.pydata.org/pandas-docs/stable/indexing.html#indexing-view-versus-copy\n",
      "  \"\"\"Entry point for launching an IPython kernel.\n",
      "/Users/zhoubaoling/anaconda/lib/python3.6/site-packages/ipykernel_launcher.py:2: SettingWithCopyWarning: \n",
      "A value is trying to be set on a copy of a slice from a DataFrame.\n",
      "Try using .loc[row_indexer,col_indexer] = value instead\n",
      "\n",
      "See the caveats in the documentation: http://pandas.pydata.org/pandas-docs/stable/indexing.html#indexing-view-versus-copy\n",
      "  \n"
     ]
    }
   ],
   "source": [
    "pc['pc10'] = pc.perc_pc_.apply(lambda x:pc_10(x))\n",
    "pc['pc10_'] = pc.perc_pc_.apply(lambda x:pc_10(x))"
   ]
  },
  {
   "cell_type": "code",
   "execution_count": 993,
   "metadata": {
    "collapsed": true
   },
   "outputs": [],
   "source": [
    "def pc_0(x):\n",
    "    if x >0:\n",
    "        return 1\n",
    "    else:\n",
    "        return 0"
   ]
  },
  {
   "cell_type": "code",
   "execution_count": 994,
   "metadata": {},
   "outputs": [
    {
     "name": "stderr",
     "output_type": "stream",
     "text": [
      "/Users/zhoubaoling/anaconda/lib/python3.6/site-packages/ipykernel_launcher.py:1: SettingWithCopyWarning: \n",
      "A value is trying to be set on a copy of a slice from a DataFrame.\n",
      "Try using .loc[row_indexer,col_indexer] = value instead\n",
      "\n",
      "See the caveats in the documentation: http://pandas.pydata.org/pandas-docs/stable/indexing.html#indexing-view-versus-copy\n",
      "  \"\"\"Entry point for launching an IPython kernel.\n",
      "/Users/zhoubaoling/anaconda/lib/python3.6/site-packages/ipykernel_launcher.py:2: SettingWithCopyWarning: \n",
      "A value is trying to be set on a copy of a slice from a DataFrame.\n",
      "Try using .loc[row_indexer,col_indexer] = value instead\n",
      "\n",
      "See the caveats in the documentation: http://pandas.pydata.org/pandas-docs/stable/indexing.html#indexing-view-versus-copy\n",
      "  \n"
     ]
    }
   ],
   "source": [
    "pc['pc0'] = df3.perc_pc.apply(lambda x:pc_0(x))\n",
    "pc['pc0_'] = df3.perc_pc_.apply(lambda x:pc_0(x))\n",
    "df5['pc0'] = df3.perc_pc.apply(lambda x:pc_0(x))\n",
    "df5['pc0_'] = df3.perc_pc_.apply(lambda x:pc_0(x))"
   ]
  },
  {
   "cell_type": "code",
   "execution_count": 995,
   "metadata": {
    "collapsed": true
   },
   "outputs": [],
   "source": [
    "pc.to_csv('data/pc.csv')\n",
    "df5.to_csv('data/df5.csv')"
   ]
  },
  {
   "cell_type": "markdown",
   "metadata": {},
   "source": [
    "## Saving point pc"
   ]
  },
  {
   "cell_type": "code",
   "execution_count": 5,
   "metadata": {
    "collapsed": true
   },
   "outputs": [],
   "source": [
    "df6 = pd.read_csv('data/pc.csv')"
   ]
  },
  {
   "cell_type": "code",
   "execution_count": 80,
   "metadata": {
    "collapsed": true
   },
   "outputs": [],
   "source": [
    "df7 = pd.read_csv('data/df5.csv')"
   ]
  },
  {
   "cell_type": "code",
   "execution_count": 81,
   "metadata": {},
   "outputs": [
    {
     "data": {
      "text/html": [
       "<table class=\"simpletable\">\n",
       "<caption>OLS Regression Results</caption>\n",
       "<tr>\n",
       "  <th>Dep. Variable:</th>       <td>entropy_inc</td>   <th>  R-squared:         </th> <td>   0.155</td>\n",
       "</tr>\n",
       "<tr>\n",
       "  <th>Model:</th>                   <td>OLS</td>       <th>  Adj. R-squared:    </th> <td>   0.090</td>\n",
       "</tr>\n",
       "<tr>\n",
       "  <th>Method:</th>             <td>Least Squares</td>  <th>  F-statistic:       </th> <td>   2.366</td>\n",
       "</tr>\n",
       "<tr>\n",
       "  <th>Date:</th>             <td>Mon, 04 Dec 2017</td> <th>  Prob (F-statistic):</th>  <td>0.00183</td>\n",
       "</tr>\n",
       "<tr>\n",
       "  <th>Time:</th>                 <td>20:38:37</td>     <th>  Log-Likelihood:    </th> <td>  406.31</td>\n",
       "</tr>\n",
       "<tr>\n",
       "  <th>No. Observations:</th>      <td>   251</td>      <th>  AIC:               </th> <td>  -774.6</td>\n",
       "</tr>\n",
       "<tr>\n",
       "  <th>Df Residuals:</th>          <td>   232</td>      <th>  BIC:               </th> <td>  -707.6</td>\n",
       "</tr>\n",
       "<tr>\n",
       "  <th>Df Model:</th>              <td>    18</td>      <th>                     </th>     <td> </td>   \n",
       "</tr>\n",
       "<tr>\n",
       "  <th>Covariance Type:</th>      <td>nonrobust</td>    <th>                     </th>     <td> </td>   \n",
       "</tr>\n",
       "</table>\n",
       "<table class=\"simpletable\">\n",
       "<tr>\n",
       "            <td></td>               <th>coef</th>     <th>std err</th>      <th>t</th>      <th>P>|t|</th>  <th>[0.025</th>    <th>0.975]</th>  \n",
       "</tr>\n",
       "<tr>\n",
       "  <th>Intercept</th>             <td>   -0.1982</td> <td>    0.242</td> <td>   -0.820</td> <td> 0.413</td> <td>   -0.675</td> <td>    0.278</td>\n",
       "</tr>\n",
       "<tr>\n",
       "  <th>perc_white</th>            <td>   -0.0312</td> <td>    0.058</td> <td>   -0.540</td> <td> 0.589</td> <td>   -0.145</td> <td>    0.083</td>\n",
       "</tr>\n",
       "<tr>\n",
       "  <th>perc_black</th>            <td>    0.0041</td> <td>    0.051</td> <td>    0.081</td> <td> 0.935</td> <td>   -0.096</td> <td>    0.104</td>\n",
       "</tr>\n",
       "<tr>\n",
       "  <th>perc_asian</th>            <td>  -40.2763</td> <td>  107.207</td> <td>   -0.376</td> <td> 0.707</td> <td> -251.500</td> <td>  170.947</td>\n",
       "</tr>\n",
       "<tr>\n",
       "  <th>perc_hispanic</th>         <td>   -0.0226</td> <td>    0.053</td> <td>   -0.430</td> <td> 0.667</td> <td>   -0.126</td> <td>    0.081</td>\n",
       "</tr>\n",
       "<tr>\n",
       "  <th>high_school_below</th>     <td>    0.0433</td> <td>    0.073</td> <td>    0.591</td> <td> 0.555</td> <td>   -0.101</td> <td>    0.188</td>\n",
       "</tr>\n",
       "<tr>\n",
       "  <th>bachelor_up</th>           <td>   -0.0403</td> <td>    0.074</td> <td>   -0.543</td> <td> 0.588</td> <td>   -0.186</td> <td>    0.106</td>\n",
       "</tr>\n",
       "<tr>\n",
       "  <th>Gini_Index</th>            <td>   -0.0264</td> <td>    0.137</td> <td>   -0.192</td> <td> 0.848</td> <td>   -0.297</td> <td>    0.244</td>\n",
       "</tr>\n",
       "<tr>\n",
       "  <th>Occupied_rate</th>         <td>   -0.0560</td> <td>    0.094</td> <td>   -0.598</td> <td> 0.551</td> <td>   -0.240</td> <td>    0.128</td>\n",
       "</tr>\n",
       "<tr>\n",
       "  <th>inc_to_poverty_under2</th> <td>   -0.0715</td> <td>    0.108</td> <td>   -0.663</td> <td> 0.508</td> <td>   -0.284</td> <td>    0.141</td>\n",
       "</tr>\n",
       "<tr>\n",
       "  <th>inc_to_poverty_above2</th> <td>   -0.1267</td> <td>    0.143</td> <td>   -0.884</td> <td> 0.378</td> <td>   -0.409</td> <td>    0.156</td>\n",
       "</tr>\n",
       "<tr>\n",
       "  <th>Foreign_born</th>          <td>   -0.0597</td> <td>    0.044</td> <td>   -1.356</td> <td> 0.177</td> <td>   -0.146</td> <td>    0.027</td>\n",
       "</tr>\n",
       "<tr>\n",
       "  <th>pc0_</th>                  <td>    0.0020</td> <td>    0.007</td> <td>    0.302</td> <td> 0.763</td> <td>   -0.011</td> <td>    0.015</td>\n",
       "</tr>\n",
       "<tr>\n",
       "  <th>building_age</th>          <td>    0.0004</td> <td>    0.000</td> <td>    1.839</td> <td> 0.067</td> <td>-3.18e-05</td> <td>    0.001</td>\n",
       "</tr>\n",
       "<tr>\n",
       "  <th>entropy_index</th>         <td>   -0.0568</td> <td>    0.022</td> <td>   -2.582</td> <td> 0.010</td> <td>   -0.100</td> <td>   -0.013</td>\n",
       "</tr>\n",
       "<tr>\n",
       "  <th>log_pop</th>               <td>   -0.0281</td> <td>    0.045</td> <td>   -0.624</td> <td> 0.533</td> <td>   -0.117</td> <td>    0.061</td>\n",
       "</tr>\n",
       "<tr>\n",
       "  <th>log_pop_density</th>       <td>    0.0171</td> <td>    0.010</td> <td>    1.774</td> <td> 0.077</td> <td>   -0.002</td> <td>    0.036</td>\n",
       "</tr>\n",
       "<tr>\n",
       "  <th>log_h_unit</th>            <td>    0.0147</td> <td>    0.042</td> <td>    0.349</td> <td> 0.727</td> <td>   -0.068</td> <td>    0.097</td>\n",
       "</tr>\n",
       "<tr>\n",
       "  <th>log_income</th>            <td>    0.0324</td> <td>    0.042</td> <td>    0.768</td> <td> 0.443</td> <td>   -0.051</td> <td>    0.116</td>\n",
       "</tr>\n",
       "<tr>\n",
       "  <th>log_inc_p</th>             <td>    0.0014</td> <td>    0.047</td> <td>    0.029</td> <td> 0.977</td> <td>   -0.092</td> <td>    0.094</td>\n",
       "</tr>\n",
       "</table>\n",
       "<table class=\"simpletable\">\n",
       "<tr>\n",
       "  <th>Omnibus:</th>       <td>42.452</td> <th>  Durbin-Watson:     </th> <td>   1.555</td>\n",
       "</tr>\n",
       "<tr>\n",
       "  <th>Prob(Omnibus):</th> <td> 0.000</td> <th>  Jarque-Bera (JB):  </th> <td> 226.970</td>\n",
       "</tr>\n",
       "<tr>\n",
       "  <th>Skew:</th>          <td> 0.488</td> <th>  Prob(JB):          </th> <td>5.18e-50</td>\n",
       "</tr>\n",
       "<tr>\n",
       "  <th>Kurtosis:</th>      <td> 7.555</td> <th>  Cond. No.          </th> <td>5.31e+17</td>\n",
       "</tr>\n",
       "</table>"
      ],
      "text/plain": [
       "<class 'statsmodels.iolib.summary.Summary'>\n",
       "\"\"\"\n",
       "                            OLS Regression Results                            \n",
       "==============================================================================\n",
       "Dep. Variable:            entropy_inc   R-squared:                       0.155\n",
       "Model:                            OLS   Adj. R-squared:                  0.090\n",
       "Method:                 Least Squares   F-statistic:                     2.366\n",
       "Date:                Mon, 04 Dec 2017   Prob (F-statistic):            0.00183\n",
       "Time:                        20:38:37   Log-Likelihood:                 406.31\n",
       "No. Observations:                 251   AIC:                            -774.6\n",
       "Df Residuals:                     232   BIC:                            -707.6\n",
       "Df Model:                          18                                         \n",
       "Covariance Type:            nonrobust                                         \n",
       "=========================================================================================\n",
       "                            coef    std err          t      P>|t|      [0.025      0.975]\n",
       "-----------------------------------------------------------------------------------------\n",
       "Intercept                -0.1982      0.242     -0.820      0.413      -0.675       0.278\n",
       "perc_white               -0.0312      0.058     -0.540      0.589      -0.145       0.083\n",
       "perc_black                0.0041      0.051      0.081      0.935      -0.096       0.104\n",
       "perc_asian              -40.2763    107.207     -0.376      0.707    -251.500     170.947\n",
       "perc_hispanic            -0.0226      0.053     -0.430      0.667      -0.126       0.081\n",
       "high_school_below         0.0433      0.073      0.591      0.555      -0.101       0.188\n",
       "bachelor_up              -0.0403      0.074     -0.543      0.588      -0.186       0.106\n",
       "Gini_Index               -0.0264      0.137     -0.192      0.848      -0.297       0.244\n",
       "Occupied_rate            -0.0560      0.094     -0.598      0.551      -0.240       0.128\n",
       "inc_to_poverty_under2    -0.0715      0.108     -0.663      0.508      -0.284       0.141\n",
       "inc_to_poverty_above2    -0.1267      0.143     -0.884      0.378      -0.409       0.156\n",
       "Foreign_born             -0.0597      0.044     -1.356      0.177      -0.146       0.027\n",
       "pc0_                      0.0020      0.007      0.302      0.763      -0.011       0.015\n",
       "building_age              0.0004      0.000      1.839      0.067   -3.18e-05       0.001\n",
       "entropy_index            -0.0568      0.022     -2.582      0.010      -0.100      -0.013\n",
       "log_pop                  -0.0281      0.045     -0.624      0.533      -0.117       0.061\n",
       "log_pop_density           0.0171      0.010      1.774      0.077      -0.002       0.036\n",
       "log_h_unit                0.0147      0.042      0.349      0.727      -0.068       0.097\n",
       "log_income                0.0324      0.042      0.768      0.443      -0.051       0.116\n",
       "log_inc_p                 0.0014      0.047      0.029      0.977      -0.092       0.094\n",
       "==============================================================================\n",
       "Omnibus:                       42.452   Durbin-Watson:                   1.555\n",
       "Prob(Omnibus):                  0.000   Jarque-Bera (JB):              226.970\n",
       "Skew:                           0.488   Prob(JB):                     5.18e-50\n",
       "Kurtosis:                       7.555   Cond. No.                     5.31e+17\n",
       "==============================================================================\n",
       "\n",
       "Warnings:\n",
       "[1] Standard Errors assume that the covariance matrix of the errors is correctly specified.\n",
       "[2] The smallest eigenvalue is 4.55e-30. This might indicate that there are\n",
       "strong multicollinearity problems or that the design matrix is singular.\n",
       "\"\"\""
      ]
     },
     "execution_count": 81,
     "metadata": {},
     "output_type": "execute_result"
    }
   ],
   "source": [
    "lm5 = smf.ols('entropy_inc ~ perc_white + perc_black + perc_asian + perc_hispanic + \\\n",
    "       high_school_below + bachelor_up + Gini_Index + Occupied_rate + \\\n",
    "       inc_to_poverty_under2 + inc_to_poverty_above2 + Foreign_born + \\\n",
    "       pc0_ + building_age + \\\n",
    "       entropy_index + log_pop + log_pop_density + log_h_unit + \\\n",
    "       log_income + log_inc_p'\n",
    "              ,data=df6).fit()\n",
    "lm5.summary()"
   ]
  },
  {
   "cell_type": "code",
   "execution_count": 229,
   "metadata": {},
   "outputs": [
    {
     "data": {
      "text/html": [
       "<table class=\"simpletable\">\n",
       "<caption>OLS Regression Results</caption>\n",
       "<tr>\n",
       "  <th>Dep. Variable:</th>       <td>entropy_inc</td>   <th>  R-squared:         </th> <td>   0.126</td>\n",
       "</tr>\n",
       "<tr>\n",
       "  <th>Model:</th>                   <td>OLS</td>       <th>  Adj. R-squared:    </th> <td>   0.121</td>\n",
       "</tr>\n",
       "<tr>\n",
       "  <th>Method:</th>             <td>Least Squares</td>  <th>  F-statistic:       </th> <td>   28.26</td>\n",
       "</tr>\n",
       "<tr>\n",
       "  <th>Date:</th>             <td>Thu, 07 Dec 2017</td> <th>  Prob (F-statistic):</th> <td>4.55e-51</td>\n",
       "</tr>\n",
       "<tr>\n",
       "  <th>Time:</th>                 <td>00:22:52</td>     <th>  Log-Likelihood:    </th> <td>  3216.7</td>\n",
       "</tr>\n",
       "<tr>\n",
       "  <th>No. Observations:</th>      <td>  1978</td>      <th>  AIC:               </th> <td>  -6411.</td>\n",
       "</tr>\n",
       "<tr>\n",
       "  <th>Df Residuals:</th>          <td>  1967</td>      <th>  BIC:               </th> <td>  -6350.</td>\n",
       "</tr>\n",
       "<tr>\n",
       "  <th>Df Model:</th>              <td>    10</td>      <th>                     </th>     <td> </td>   \n",
       "</tr>\n",
       "<tr>\n",
       "  <th>Covariance Type:</th>      <td>nonrobust</td>    <th>                     </th>     <td> </td>   \n",
       "</tr>\n",
       "</table>\n",
       "<table class=\"simpletable\">\n",
       "<tr>\n",
       "         <td></td>            <th>coef</th>     <th>std err</th>      <th>t</th>      <th>P>|t|</th>  <th>[0.025</th>    <th>0.975]</th>  \n",
       "</tr>\n",
       "<tr>\n",
       "  <th>Intercept</th>       <td>    0.0596</td> <td>    0.079</td> <td>    0.759</td> <td> 0.448</td> <td>   -0.094</td> <td>    0.214</td>\n",
       "</tr>\n",
       "<tr>\n",
       "  <th>C(pc5_)[T.1.0]</th>  <td>   -0.0040</td> <td>    0.003</td> <td>   -1.427</td> <td> 0.154</td> <td>   -0.009</td> <td>    0.001</td>\n",
       "</tr>\n",
       "<tr>\n",
       "  <th>perc_asian</th>      <td>   28.8622</td> <td>   14.064</td> <td>    2.052</td> <td> 0.040</td> <td>    1.280</td> <td>   56.445</td>\n",
       "</tr>\n",
       "<tr>\n",
       "  <th>bachelor_up</th>     <td>   -0.0358</td> <td>    0.016</td> <td>   -2.170</td> <td> 0.030</td> <td>   -0.068</td> <td>   -0.003</td>\n",
       "</tr>\n",
       "<tr>\n",
       "  <th>Occupied_rate</th>   <td>   -0.0832</td> <td>    0.026</td> <td>   -3.259</td> <td> 0.001</td> <td>   -0.133</td> <td>   -0.033</td>\n",
       "</tr>\n",
       "<tr>\n",
       "  <th>Foreign_born</th>    <td>   -0.0635</td> <td>    0.009</td> <td>   -6.684</td> <td> 0.000</td> <td>   -0.082</td> <td>   -0.045</td>\n",
       "</tr>\n",
       "<tr>\n",
       "  <th>building_age</th>    <td>    0.0004</td> <td> 8.15e-05</td> <td>    5.103</td> <td> 0.000</td> <td>    0.000</td> <td>    0.001</td>\n",
       "</tr>\n",
       "<tr>\n",
       "  <th>entropy_index</th>   <td>   -0.0668</td> <td>    0.005</td> <td>  -12.424</td> <td> 0.000</td> <td>   -0.077</td> <td>   -0.056</td>\n",
       "</tr>\n",
       "<tr>\n",
       "  <th>log_pop_density</th> <td>    0.0076</td> <td>    0.002</td> <td>    3.322</td> <td> 0.001</td> <td>    0.003</td> <td>    0.012</td>\n",
       "</tr>\n",
       "<tr>\n",
       "  <th>log_income</th>      <td>    0.0088</td> <td>    0.006</td> <td>    1.420</td> <td> 0.156</td> <td>   -0.003</td> <td>    0.021</td>\n",
       "</tr>\n",
       "<tr>\n",
       "  <th>log_inc_p</th>       <td>   -0.0094</td> <td>    0.007</td> <td>   -1.279</td> <td> 0.201</td> <td>   -0.024</td> <td>    0.005</td>\n",
       "</tr>\n",
       "</table>\n",
       "<table class=\"simpletable\">\n",
       "<tr>\n",
       "  <th>Omnibus:</th>       <td>259.956</td> <th>  Durbin-Watson:     </th> <td>   1.882</td>\n",
       "</tr>\n",
       "<tr>\n",
       "  <th>Prob(Omnibus):</th> <td> 0.000</td>  <th>  Jarque-Bera (JB):  </th> <td>1593.032</td>\n",
       "</tr>\n",
       "<tr>\n",
       "  <th>Skew:</th>          <td> 0.447</td>  <th>  Prob(JB):          </th> <td>    0.00</td>\n",
       "</tr>\n",
       "<tr>\n",
       "  <th>Kurtosis:</th>      <td> 7.304</td>  <th>  Cond. No.          </th> <td>9.16e+05</td>\n",
       "</tr>\n",
       "</table>"
      ],
      "text/plain": [
       "<class 'statsmodels.iolib.summary.Summary'>\n",
       "\"\"\"\n",
       "                            OLS Regression Results                            \n",
       "==============================================================================\n",
       "Dep. Variable:            entropy_inc   R-squared:                       0.126\n",
       "Model:                            OLS   Adj. R-squared:                  0.121\n",
       "Method:                 Least Squares   F-statistic:                     28.26\n",
       "Date:                Thu, 07 Dec 2017   Prob (F-statistic):           4.55e-51\n",
       "Time:                        00:22:52   Log-Likelihood:                 3216.7\n",
       "No. Observations:                1978   AIC:                            -6411.\n",
       "Df Residuals:                    1967   BIC:                            -6350.\n",
       "Df Model:                          10                                         \n",
       "Covariance Type:            nonrobust                                         \n",
       "===================================================================================\n",
       "                      coef    std err          t      P>|t|      [0.025      0.975]\n",
       "-----------------------------------------------------------------------------------\n",
       "Intercept           0.0596      0.079      0.759      0.448      -0.094       0.214\n",
       "C(pc5_)[T.1.0]     -0.0040      0.003     -1.427      0.154      -0.009       0.001\n",
       "perc_asian         28.8622     14.064      2.052      0.040       1.280      56.445\n",
       "bachelor_up        -0.0358      0.016     -2.170      0.030      -0.068      -0.003\n",
       "Occupied_rate      -0.0832      0.026     -3.259      0.001      -0.133      -0.033\n",
       "Foreign_born       -0.0635      0.009     -6.684      0.000      -0.082      -0.045\n",
       "building_age        0.0004   8.15e-05      5.103      0.000       0.000       0.001\n",
       "entropy_index      -0.0668      0.005    -12.424      0.000      -0.077      -0.056\n",
       "log_pop_density     0.0076      0.002      3.322      0.001       0.003       0.012\n",
       "log_income          0.0088      0.006      1.420      0.156      -0.003       0.021\n",
       "log_inc_p          -0.0094      0.007     -1.279      0.201      -0.024       0.005\n",
       "==============================================================================\n",
       "Omnibus:                      259.956   Durbin-Watson:                   1.882\n",
       "Prob(Omnibus):                  0.000   Jarque-Bera (JB):             1593.032\n",
       "Skew:                           0.447   Prob(JB):                         0.00\n",
       "Kurtosis:                       7.304   Cond. No.                     9.16e+05\n",
       "==============================================================================\n",
       "\n",
       "Warnings:\n",
       "[1] Standard Errors assume that the covariance matrix of the errors is correctly specified.\n",
       "[2] The condition number is large, 9.16e+05. This might indicate that there are\n",
       "strong multicollinearity or other numerical problems.\n",
       "\"\"\""
      ]
     },
     "execution_count": 229,
     "metadata": {},
     "output_type": "execute_result"
    }
   ],
   "source": [
    "lm6 = smf.ols('entropy_inc ~  perc_asian + \\\n",
    "       bachelor_up + Occupied_rate + \\\n",
    "       Foreign_born + \\\n",
    "       C(pc5_) + building_age + \\\n",
    "       entropy_index + log_pop_density + \\\n",
    "       log_income + log_inc_p'\n",
    "              ,data=df8).fit()\n",
    "lm6.summary()"
   ]
  },
  {
   "cell_type": "code",
   "execution_count": 83,
   "metadata": {
    "collapsed": true
   },
   "outputs": [],
   "source": [
    "df6['predicted_entropy_change'] = lm6.predict()\n",
    "lm_6 = smf.ols('predicted_entropy_change ~ entropy_inc', data=df6).fit()"
   ]
  },
  {
   "cell_type": "code",
   "execution_count": 84,
   "metadata": {},
   "outputs": [
    {
     "data": {
      "image/png": "[encoded data removed]",
      "text/plain": [
       "<matplotlib.figure.Figure at 0x10d455d30>"
      ]
     },
     "metadata": {},
     "output_type": "display_data"
    }
   ],
   "source": [
    "fig = plt.figure(figsize=(13,8))\n",
    "plt.plot(df6.entropy_inc, lm6.predict(),'.')\n",
    "plt.plot(df6.entropy_inc, lm_6.predict() ,'r-')\n",
    "plt.xlabel('Actual Entropy Index Growth Rate', fontsize=16)\n",
    "plt.ylabel('Predicted Entropy Index Growth Rate', fontsize=16)\n",
    "plt.title('Predicted Entropy Index Growth Rate \\n vs \\n Actual Entropy Growth Rate ', fontsize=20)\n",
    "fig.savefig('data/graph/fig4.jpg')"
   ]
  },
  {
   "cell_type": "code",
   "execution_count": 85,
   "metadata": {},
   "outputs": [
    {
     "data": {
      "text/plain": [
       "(142, 44)"
      ]
     },
     "execution_count": 85,
     "metadata": {},
     "output_type": "execute_result"
    }
   ],
   "source": [
    "df8 = df7[df7.pc5_ == 1]\n",
    "df8_copy = df8.copy()\n",
    "df8.shape"
   ]
  },
  {
   "cell_type": "code",
   "execution_count": 86,
   "metadata": {},
   "outputs": [
    {
     "data": {
      "text/plain": [
       "(984, 44)"
      ]
     },
     "execution_count": 86,
     "metadata": {},
     "output_type": "execute_result"
    }
   ],
   "source": [
    "df7[df7.pc5_ == 0].shape"
   ]
  },
  {
   "cell_type": "code",
   "execution_count": 87,
   "metadata": {
    "collapsed": true
   },
   "outputs": [],
   "source": [
    "df8 = df8.append([df8_copy,df8_copy,df8_copy,df8_copy,df8_copy, df8_copy])"
   ]
  },
  {
   "cell_type": "code",
   "execution_count": 88,
   "metadata": {},
   "outputs": [
    {
     "data": {
      "text/plain": [
       "(994, 44)"
      ]
     },
     "execution_count": 88,
     "metadata": {},
     "output_type": "execute_result"
    }
   ],
   "source": [
    "df8.shape"
   ]
  },
  {
   "cell_type": "code",
   "execution_count": 89,
   "metadata": {
    "collapsed": true
   },
   "outputs": [],
   "source": [
    "df8 = df8.append([df7[df7.pc5_==0]])"
   ]
  },
  {
   "cell_type": "code",
   "execution_count": 90,
   "metadata": {},
   "outputs": [
    {
     "data": {
      "text/plain": [
       "(1978, 44)"
      ]
     },
     "execution_count": 90,
     "metadata": {},
     "output_type": "execute_result"
    }
   ],
   "source": [
    "df8.shape"
   ]
  },
  {
   "cell_type": "code",
   "execution_count": 217,
   "metadata": {
    "collapsed": true
   },
   "outputs": [],
   "source": [
    "df8.to_csv('df8.csv')"
   ]
  },
  {
   "cell_type": "code",
   "execution_count": 91,
   "metadata": {},
   "outputs": [
    {
     "data": {
      "image/png": "[encoded data removed]",
      "text/plain": [
       "<matplotlib.figure.Figure at 0x117d00f28>"
      ]
     },
     "metadata": {},
     "output_type": "display_data"
    }
   ],
   "source": [
    "fig = plt.figure(figsize=(8,8))\n",
    "plt.hist(df8.Median_Rent[df8.pc5_ == 0],color = 'b', alpha = 0.5, bins=10, label = 'Affordable Housing<5%')\n",
    "plt.hist(df8.Median_Rent[df8.pc5_ == 1],color = 'r',alpha = 0.5, bins=10, label = 'Affordable Housing>=5%')\n",
    "plt.legend(fontsize = 15)\n",
    "plt.title('Histogram of Median_Rent', fontsize = 20)\n",
    "plt.xlabel('Median_Rent',fontsize = 18)\n",
    "plt.ylabel('Frequency',fontsize = 18)\n",
    "fig.savefig('data/graph/fig5.jpg')"
   ]
  },
  {
   "cell_type": "code",
   "execution_count": null,
   "metadata": {
    "collapsed": true
   },
   "outputs": [],
   "source": []
  },
  {
   "cell_type": "code",
   "execution_count": 92,
   "metadata": {},
   "outputs": [
    {
     "data": {
      "image/png": "[encoded data removed]",
      "text/plain": [
       "<matplotlib.figure.Figure at 0x113299c50>"
      ]
     },
     "metadata": {},
     "output_type": "display_data"
    }
   ],
   "source": [
    "fig = plt.figure(figsize=(8,8))\n",
    "plt.hist(df8.Median_hhs_Income[df8.pc5_ == 0],color = 'b', alpha = 0.5, bins=10, label =  'Affordable Housing<5%')\n",
    "plt.hist(df8.Median_hhs_Income[df8.pc5_ == 1],color = 'r',alpha = 0.6, bins=10, label = 'Affordable Housing>=5%')\n",
    "plt.title('Histogram of Median Household Income', fontsize = 20)\n",
    "plt.xlabel('Median Household Income',fontsize = 18)\n",
    "plt.ylabel('Frequency',fontsize = 18)\n",
    "plt.legend(fontsize = 16)\n",
    "fig.savefig('data/graph/fig6.jpg')"
   ]
  },
  {
   "cell_type": "code",
   "execution_count": 93,
   "metadata": {},
   "outputs": [
    {
     "data": {
      "image/png": "[encoded data removed]",
      "text/plain": [
       "<matplotlib.figure.Figure at 0x10d457cc0>"
      ]
     },
     "metadata": {},
     "output_type": "display_data"
    }
   ],
   "source": [
    "fig = plt.figure(figsize=(8,8))\n",
    "plt.hist(df8.entropy_inc[df8.pc5_ == 0],color = 'b', alpha = 0.5, bins=10, label = 'Affordable Housing<5%')\n",
    "plt.hist(df8.entropy_inc[df8.pc5_ == 1],color = 'r',alpha = 0.6, bins=10, label = 'Affordable Housing>=5%')\n",
    "plt.legend(fontsize = 15)\n",
    "plt.title('Histogram of Average annual growth rate \\n in entropy index', fontsize = 20)\n",
    "plt.xlabel('Average annual growth rate in annual entropy index',fontsize = 18)\n",
    "plt.ylabel('Frequency',fontsize = 18)\n",
    "fig.savefig('data/graph/fig7.jpg')"
   ]
  },
  {
   "cell_type": "code",
   "execution_count": 94,
   "metadata": {},
   "outputs": [
    {
     "data": {
      "image/png": "[encoded data removed]",
      "text/plain": [
       "<matplotlib.figure.Figure at 0x117d820b8>"
      ]
     },
     "metadata": {},
     "output_type": "display_data"
    }
   ],
   "source": [
    "fig = plt.figure(figsize=(8,8))\n",
    "plt.hist(df8.building_age[df8.pc5_ == 0],color = 'b', alpha = 0.5, bins=10, label = 'Affordable Housing<5%')\n",
    "plt.hist(df8.building_age[df8.pc5_ == 1],color = 'r',alpha = 0.5, bins=10, label = 'Affordable Housing>=5%')\n",
    "plt.legend(fontsize = 15)\n",
    "plt.title('Histogram of Building Age', fontsize = 20)\n",
    "plt.xlabel('Average Building Age',fontsize = 18)\n",
    "plt.ylabel('Frequency',fontsize = 18)\n",
    "fig.savefig('data/graph/fig9.jpg')"
   ]
  },
  {
   "cell_type": "code",
   "execution_count": 95,
   "metadata": {},
   "outputs": [
    {
     "data": {
      "image/png": "[encoded data removed]",
      "text/plain": [
       "<matplotlib.figure.Figure at 0x117d20b00>"
      ]
     },
     "metadata": {},
     "output_type": "display_data"
    }
   ],
   "source": [
    "fig = plt.figure(figsize=(8,8))\n",
    "plt.hist(df8.bachelor_up[df8.pc5_ == 0],color = 'b', alpha = 0.5, bins=10, label = 'Affordable Housing<5%')\n",
    "plt.hist(df8.bachelor_up[df8.pc5_ == 1],color = 'r',alpha = 0.5, bins=10, label = 'Affordable Housing>=5%')\n",
    "plt.legend(fontsize = 15)\n",
    "plt.title('Histogram of % of bachelor_up', fontsize = 20)\n",
    "plt.xlabel('% of bachelor_up',fontsize = 18)\n",
    "plt.ylabel('Frequency',fontsize = 18)\n",
    "fig.savefig('data/graph/fig10.jpg')"
   ]
  },
  {
   "cell_type": "code",
   "execution_count": 96,
   "metadata": {},
   "outputs": [
    {
     "data": {
      "image/png": "[encoded data removed]",
      "text/plain": [
       "<matplotlib.figure.Figure at 0x117e26b00>"
      ]
     },
     "metadata": {},
     "output_type": "display_data"
    }
   ],
   "source": [
    "fig = plt.figure(figsize=(8,8))\n",
    "plt.hist(df8.perc_white[df8.pc5_ == 0],color = 'b', alpha = 0.5, bins=10, label = 'Affordable Housing<5%')\n",
    "plt.hist(df8.perc_white[df8.pc5_ == 1],color = 'r',alpha = 0.5, bins=10, label = 'Affordable Housing>=5%')\n",
    "plt.legend(fontsize = 15)\n",
    "plt.title('Histogram Percent of Whites', fontsize = 20)\n",
    "plt.xlabel('Percent of Whites',fontsize = 18)\n",
    "plt.ylabel('Frequency',fontsize = 18)\n",
    "fig.savefig('data/graph/fig11.jpg')"
   ]
  },
  {
   "cell_type": "code",
   "execution_count": 97,
   "metadata": {},
   "outputs": [
    {
     "data": {
      "image/png": "[encoded data removed]",
      "text/plain": [
       "<matplotlib.figure.Figure at 0x112ef9eb8>"
      ]
     },
     "metadata": {},
     "output_type": "display_data"
    }
   ],
   "source": [
    "fig = plt.figure(figsize=(8,8))\n",
    "plt.hist(df8.entropy_index[df8.pc5_ == 0],color = 'b', alpha = 0.5, bins=10, label = 'AffordableHousing<5%')\n",
    "plt.hist(df8.entropy_index[df8.pc5_ == 1],color = 'r',alpha = 0.5, bins=10, label = 'Affordable Housing>=5%')\n",
    "plt.legend(fontsize = 15)\n",
    "plt.title('Histogram of entropy_index', fontsize = 20)\n",
    "plt.xlabel('entropy_index',fontsize = 18)\n",
    "plt.ylabel('Frequency',fontsize = 18)\n",
    "fig.savefig('data/graph/fig12.jpg')"
   ]
  },
  {
   "cell_type": "code",
   "execution_count": 98,
   "metadata": {},
   "outputs": [
    {
     "data": {
      "image/png": "[encoded data removed]",
      "text/plain": [
       "<matplotlib.figure.Figure at 0x118066400>"
      ]
     },
     "metadata": {},
     "output_type": "display_data"
    }
   ],
   "source": [
    "fig = plt.figure(figsize=(8,8))\n",
    "plt.hist(df8.inc_to_poverty_under2[df8.pc5_ == 0],color = 'b', alpha = 0.5, bins=10, label = 'Affordable Housing<5%')\n",
    "plt.hist(df8.inc_to_poverty_under2[df8.pc5_ == 1],color = 'r',alpha = 0.5, bins=10, label = 'Affordable Housing>=5%')\n",
    "plt.legend(fontsize = 15)\n",
    "plt.title('Histogram of number of people \\n in poverty status', fontsize = 20)\n",
    "plt.xlabel('number of people in poverty status',fontsize = 18)\n",
    "plt.ylabel('Frequency',fontsize = 18)\n",
    "fig.savefig('data/graph/fig13.jpg')"
   ]
  },
  {
   "cell_type": "code",
   "execution_count": 99,
   "metadata": {},
   "outputs": [
    {
     "data": {
      "text/plain": [
       "Index(['Unnamed: 0', 'ct_index', 'Population_density', 'Total_pop',\n",
       "       'perc_white', 'perc_black', 'perc_asian', 'perc_hispanic',\n",
       "       'high_school_below', 'bachelor_up', 'Median_hhs_Income',\n",
       "       'Per_Capita_Income', 'Gini_Index', 'Occupied_rate', 'Median_Value',\n",
       "       'Median_Rent', 'inc_to_poverty_under2', 'inc_to_poverty_above2',\n",
       "       'Foreign_born', 'year', 'GEO.id2', 'Total_Housing_unit', 'n_ct',\n",
       "       'Total Low-Income Units:', 'perc_pc', 'pc5', 'perc_pc_', 'pc5_',\n",
       "       'building_age', 'entropy_index', 'entropy_inc', 'log_pop',\n",
       "       'log_pop_density', 'log_h_unit', 'log_income', 'log_inc_p', 'pc2',\n",
       "       'pc2_', 'predicted_entropy_change', 'pc10', 'pc10_', 'pc0', 'pc0_'],\n",
       "      dtype='object')"
      ]
     },
     "execution_count": 99,
     "metadata": {},
     "output_type": "execute_result"
    }
   ],
   "source": [
    "df6.columns"
   ]
  },
  {
   "cell_type": "code",
   "execution_count": 100,
   "metadata": {
    "collapsed": true
   },
   "outputs": [],
   "source": [
    "df_ep = pd.read_csv('data/df_entropy.csv')"
   ]
  },
  {
   "cell_type": "code",
   "execution_count": 101,
   "metadata": {},
   "outputs": [
    {
     "data": {
      "text/html": [
       "<div>\n",
       "<style>\n",
       "    .dataframe thead tr:only-child th {\n",
       "        text-align: right;\n",
       "    }\n",
       "\n",
       "    .dataframe thead th {\n",
       "        text-align: left;\n",
       "    }\n",
       "\n",
       "    .dataframe tbody tr th {\n",
       "        vertical-align: top;\n",
       "    }\n",
       "</style>\n",
       "<table border=\"1\" class=\"dataframe\">\n",
       "  <thead>\n",
       "    <tr style=\"text-align: right;\">\n",
       "      <th></th>\n",
       "      <th>GEO.id2</th>\n",
       "      <th>2009</th>\n",
       "      <th>2010</th>\n",
       "      <th>2013</th>\n",
       "      <th>2014</th>\n",
       "      <th>2015</th>\n",
       "      <th>entropy_inc</th>\n",
       "    </tr>\n",
       "  </thead>\n",
       "  <tbody>\n",
       "    <tr>\n",
       "      <th>0</th>\n",
       "      <td>36005000200</td>\n",
       "      <td>0.948002</td>\n",
       "      <td>0.993661</td>\n",
       "      <td>1.086079</td>\n",
       "      <td>1.082318</td>\n",
       "      <td>1.046724</td>\n",
       "      <td>0.010475</td>\n",
       "    </tr>\n",
       "    <tr>\n",
       "      <th>1</th>\n",
       "      <td>36005000400</td>\n",
       "      <td>0.918683</td>\n",
       "      <td>0.901944</td>\n",
       "      <td>1.071566</td>\n",
       "      <td>1.094590</td>\n",
       "      <td>1.087721</td>\n",
       "      <td>0.014028</td>\n",
       "    </tr>\n",
       "    <tr>\n",
       "      <th>2</th>\n",
       "      <td>36005001600</td>\n",
       "      <td>1.050760</td>\n",
       "      <td>1.047898</td>\n",
       "      <td>1.093940</td>\n",
       "      <td>1.096343</td>\n",
       "      <td>1.069998</td>\n",
       "      <td>-0.002530</td>\n",
       "    </tr>\n",
       "    <tr>\n",
       "      <th>3</th>\n",
       "      <td>36005002000</td>\n",
       "      <td>1.001515</td>\n",
       "      <td>0.944145</td>\n",
       "      <td>1.049985</td>\n",
       "      <td>1.038436</td>\n",
       "      <td>1.035574</td>\n",
       "      <td>-0.008747</td>\n",
       "    </tr>\n",
       "    <tr>\n",
       "      <th>4</th>\n",
       "      <td>36005002800</td>\n",
       "      <td>0.534859</td>\n",
       "      <td>0.688671</td>\n",
       "      <td>0.721219</td>\n",
       "      <td>0.577174</td>\n",
       "      <td>0.542097</td>\n",
       "      <td>0.010647</td>\n",
       "    </tr>\n",
       "  </tbody>\n",
       "</table>\n",
       "</div>"
      ],
      "text/plain": [
       "       GEO.id2      2009      2010      2013      2014      2015  entropy_inc\n",
       "0  36005000200  0.948002  0.993661  1.086079  1.082318  1.046724     0.010475\n",
       "1  36005000400  0.918683  0.901944  1.071566  1.094590  1.087721     0.014028\n",
       "2  36005001600  1.050760  1.047898  1.093940  1.096343  1.069998    -0.002530\n",
       "3  36005002000  1.001515  0.944145  1.049985  1.038436  1.035574    -0.008747\n",
       "4  36005002800  0.534859  0.688671  0.721219  0.577174  0.542097     0.010647"
      ]
     },
     "execution_count": 101,
     "metadata": {},
     "output_type": "execute_result"
    }
   ],
   "source": [
    "df_ep.head()"
   ]
  },
  {
   "cell_type": "code",
   "execution_count": 102,
   "metadata": {
    "collapsed": true
   },
   "outputs": [],
   "source": [
    "temp = df7[['GEO.id2','pc0_', 'pc2_','pc5_']]"
   ]
  },
  {
   "cell_type": "code",
   "execution_count": 103,
   "metadata": {
    "collapsed": true
   },
   "outputs": [],
   "source": [
    "del df_ep['entropy_inc']"
   ]
  },
  {
   "cell_type": "code",
   "execution_count": 104,
   "metadata": {
    "collapsed": true
   },
   "outputs": [],
   "source": [
    "df_ep = pd.merge(temp, df_ep, how='inner', on='GEO.id2')"
   ]
  },
  {
   "cell_type": "code",
   "execution_count": 105,
   "metadata": {},
   "outputs": [
    {
     "data": {
      "text/html": [
       "<div>\n",
       "<style>\n",
       "    .dataframe thead tr:only-child th {\n",
       "        text-align: right;\n",
       "    }\n",
       "\n",
       "    .dataframe thead th {\n",
       "        text-align: left;\n",
       "    }\n",
       "\n",
       "    .dataframe tbody tr th {\n",
       "        vertical-align: top;\n",
       "    }\n",
       "</style>\n",
       "<table border=\"1\" class=\"dataframe\">\n",
       "  <thead>\n",
       "    <tr style=\"text-align: right;\">\n",
       "      <th></th>\n",
       "      <th>GEO.id2</th>\n",
       "      <th>pc0_</th>\n",
       "      <th>pc2_</th>\n",
       "      <th>pc5_</th>\n",
       "      <th>2009</th>\n",
       "      <th>2010</th>\n",
       "      <th>2013</th>\n",
       "      <th>2014</th>\n",
       "      <th>2015</th>\n",
       "    </tr>\n",
       "  </thead>\n",
       "  <tbody>\n",
       "    <tr>\n",
       "      <th>0</th>\n",
       "      <td>3.6047e+10</td>\n",
       "      <td>0.0</td>\n",
       "      <td>0</td>\n",
       "      <td>0.0</td>\n",
       "      <td>0.634127</td>\n",
       "      <td>0.670193</td>\n",
       "      <td>0.547617</td>\n",
       "      <td>0.666436</td>\n",
       "      <td>0.627182</td>\n",
       "    </tr>\n",
       "    <tr>\n",
       "      <th>1</th>\n",
       "      <td>3.6081e+10</td>\n",
       "      <td>0.0</td>\n",
       "      <td>0</td>\n",
       "      <td>0.0</td>\n",
       "      <td>0.588054</td>\n",
       "      <td>0.576114</td>\n",
       "      <td>0.439702</td>\n",
       "      <td>0.474961</td>\n",
       "      <td>0.501023</td>\n",
       "    </tr>\n",
       "    <tr>\n",
       "      <th>2</th>\n",
       "      <td>3.6081e+10</td>\n",
       "      <td>0.0</td>\n",
       "      <td>0</td>\n",
       "      <td>0.0</td>\n",
       "      <td>0.921638</td>\n",
       "      <td>0.945074</td>\n",
       "      <td>0.934337</td>\n",
       "      <td>0.893092</td>\n",
       "      <td>0.880104</td>\n",
       "    </tr>\n",
       "    <tr>\n",
       "      <th>3</th>\n",
       "      <td>3.6061e+10</td>\n",
       "      <td>0.0</td>\n",
       "      <td>0</td>\n",
       "      <td>0.0</td>\n",
       "      <td>0.420864</td>\n",
       "      <td>0.359690</td>\n",
       "      <td>0.479337</td>\n",
       "      <td>0.514711</td>\n",
       "      <td>0.576899</td>\n",
       "    </tr>\n",
       "    <tr>\n",
       "      <th>4</th>\n",
       "      <td>3.6047e+10</td>\n",
       "      <td>0.0</td>\n",
       "      <td>0</td>\n",
       "      <td>0.0</td>\n",
       "      <td>0.797763</td>\n",
       "      <td>0.794280</td>\n",
       "      <td>0.751231</td>\n",
       "      <td>0.729334</td>\n",
       "      <td>0.668403</td>\n",
       "    </tr>\n",
       "  </tbody>\n",
       "</table>\n",
       "</div>"
      ],
      "text/plain": [
       "      GEO.id2  pc0_  pc2_  pc5_      2009      2010      2013      2014  \\\n",
       "0  3.6047e+10   0.0     0   0.0  0.634127  0.670193  0.547617  0.666436   \n",
       "1  3.6081e+10   0.0     0   0.0  0.588054  0.576114  0.439702  0.474961   \n",
       "2  3.6081e+10   0.0     0   0.0  0.921638  0.945074  0.934337  0.893092   \n",
       "3  3.6061e+10   0.0     0   0.0  0.420864  0.359690  0.479337  0.514711   \n",
       "4  3.6047e+10   0.0     0   0.0  0.797763  0.794280  0.751231  0.729334   \n",
       "\n",
       "       2015  \n",
       "0  0.627182  \n",
       "1  0.501023  \n",
       "2  0.880104  \n",
       "3  0.576899  \n",
       "4  0.668403  "
      ]
     },
     "execution_count": 105,
     "metadata": {},
     "output_type": "execute_result"
    }
   ],
   "source": [
    "df_ep.head()"
   ]
  },
  {
   "cell_type": "code",
   "execution_count": 106,
   "metadata": {},
   "outputs": [
    {
     "data": {
      "text/plain": [
       "2009    0.658548\n",
       "2010    0.660052\n",
       "2013    0.659646\n",
       "2014    0.664398\n",
       "2015    0.670084\n",
       "dtype: float64"
      ]
     },
     "execution_count": 106,
     "metadata": {},
     "output_type": "execute_result"
    }
   ],
   "source": [
    "temp0 = df_ep[['2009','2010','2013','2014','2015']][df_ep.pc5_ == 0].mean()\n",
    "temp0"
   ]
  },
  {
   "cell_type": "code",
   "execution_count": 107,
   "metadata": {},
   "outputs": [
    {
     "data": {
      "text/plain": [
       "2009    0.766635\n",
       "2010    0.778441\n",
       "2013    0.787158\n",
       "2014    0.783245\n",
       "2015    0.780396\n",
       "dtype: float64"
      ]
     },
     "execution_count": 107,
     "metadata": {},
     "output_type": "execute_result"
    }
   ],
   "source": [
    "temp1 = df_ep[['2009','2010','2013','2014','2015']][df_ep.pc5_ == 1].mean()\n",
    "temp1"
   ]
  },
  {
   "cell_type": "code",
   "execution_count": 108,
   "metadata": {},
   "outputs": [
    {
     "data": {
      "text/plain": [
       "0.65854751757167174"
      ]
     },
     "execution_count": 108,
     "metadata": {},
     "output_type": "execute_result"
    }
   ],
   "source": [
    "temp0[0]"
   ]
  },
  {
   "cell_type": "code",
   "execution_count": 109,
   "metadata": {},
   "outputs": [
    {
     "data": {
      "text/html": [
       "<div>\n",
       "<style>\n",
       "    .dataframe thead tr:only-child th {\n",
       "        text-align: right;\n",
       "    }\n",
       "\n",
       "    .dataframe thead th {\n",
       "        text-align: left;\n",
       "    }\n",
       "\n",
       "    .dataframe tbody tr th {\n",
       "        vertical-align: top;\n",
       "    }\n",
       "</style>\n",
       "<table border=\"1\" class=\"dataframe\">\n",
       "  <thead>\n",
       "    <tr style=\"text-align: right;\">\n",
       "      <th></th>\n",
       "      <th>pc_housing&lt;5%</th>\n",
       "      <th>pc_housing&gt;5%</th>\n",
       "    </tr>\n",
       "  </thead>\n",
       "  <tbody>\n",
       "    <tr>\n",
       "      <th>2009</th>\n",
       "      <td>0.658548</td>\n",
       "      <td>0.766635</td>\n",
       "    </tr>\n",
       "    <tr>\n",
       "      <th>2010</th>\n",
       "      <td>0.660052</td>\n",
       "      <td>0.778441</td>\n",
       "    </tr>\n",
       "    <tr>\n",
       "      <th>2013</th>\n",
       "      <td>0.659646</td>\n",
       "      <td>0.787158</td>\n",
       "    </tr>\n",
       "    <tr>\n",
       "      <th>2014</th>\n",
       "      <td>0.664398</td>\n",
       "      <td>0.783245</td>\n",
       "    </tr>\n",
       "    <tr>\n",
       "      <th>2015</th>\n",
       "      <td>0.670084</td>\n",
       "      <td>0.780396</td>\n",
       "    </tr>\n",
       "  </tbody>\n",
       "</table>\n",
       "</div>"
      ],
      "text/plain": [
       "      pc_housing<5%  pc_housing>5%\n",
       "2009       0.658548       0.766635\n",
       "2010       0.660052       0.778441\n",
       "2013       0.659646       0.787158\n",
       "2014       0.664398       0.783245\n",
       "2015       0.670084       0.780396"
      ]
     },
     "execution_count": 109,
     "metadata": {},
     "output_type": "execute_result"
    }
   ],
   "source": [
    "d = {'2009': [temp0[0], temp1[0]], '2010': [temp0[1], temp1[1]],'2013':[temp0[2],temp1[2]], '2014':[temp0[3],temp1[3]],'2015':[temp0[4], temp1[4]]}\n",
    "temp01 = pd.DataFrame(data=d).T\n",
    "temp01.columns = ['pc_housing<5%','pc_housing>5%']\n",
    "temp01"
   ]
  },
  {
   "cell_type": "code",
   "execution_count": 136,
   "metadata": {},
   "outputs": [
    {
     "data": {
      "image/png": "[encoded data removed]",
      "text/plain": [
       "<matplotlib.figure.Figure at 0x11343d630>"
      ]
     },
     "metadata": {},
     "output_type": "display_data"
    }
   ],
   "source": [
    "fig = plt.figure(figsize=(10,7))\n",
    "plt.plot(temp0,label = 'Affordable Housing<5%')\n",
    "plt.plot(temp1,label = 'Affordable Housing>=5%')\n",
    "\n",
    "plt.title('Average Entropy Index', fontsize = 20)\n",
    "plt.xlabel('year',fontsize = 15)\n",
    "plt.ylabel('Frequency',fontsize = 15)\n",
    "plt.legend(fontsize=15)\n",
    "#ylim( (0.63, 0.8) )  # set the xlim to xmin, xmax\n",
    "#xlim( xmin, xmax )\n",
    "fig.savefig('data/graph/fig14.jpg')\n"
   ]
  },
  {
   "cell_type": "code",
   "execution_count": 242,
   "metadata": {},
   "outputs": [
    {
     "data": {
      "text/html": [
       "<table class=\"simpletable\">\n",
       "<caption>OLS Regression Results</caption>\n",
       "<tr>\n",
       "  <th>Dep. Variable:</th>      <td>entropy_index</td>  <th>  R-squared:         </th> <td>   0.332</td> \n",
       "</tr>\n",
       "<tr>\n",
       "  <th>Model:</th>                   <td>OLS</td>       <th>  Adj. R-squared:    </th> <td>   0.329</td> \n",
       "</tr>\n",
       "<tr>\n",
       "  <th>Method:</th>             <td>Least Squares</td>  <th>  F-statistic:       </th> <td>   108.8</td> \n",
       "</tr>\n",
       "<tr>\n",
       "  <th>Date:</th>             <td>Thu, 07 Dec 2017</td> <th>  Prob (F-statistic):</th> <td>1.36e-165</td>\n",
       "</tr>\n",
       "<tr>\n",
       "  <th>Time:</th>                 <td>00:29:21</td>     <th>  Log-Likelihood:    </th> <td>  462.14</td> \n",
       "</tr>\n",
       "<tr>\n",
       "  <th>No. Observations:</th>      <td>  1978</td>      <th>  AIC:               </th> <td>  -904.3</td> \n",
       "</tr>\n",
       "<tr>\n",
       "  <th>Df Residuals:</th>          <td>  1968</td>      <th>  BIC:               </th> <td>  -848.4</td> \n",
       "</tr>\n",
       "<tr>\n",
       "  <th>Df Model:</th>              <td>     9</td>      <th>                     </th>     <td> </td>    \n",
       "</tr>\n",
       "<tr>\n",
       "  <th>Covariance Type:</th>      <td>nonrobust</td>    <th>                     </th>     <td> </td>    \n",
       "</tr>\n",
       "</table>\n",
       "<table class=\"simpletable\">\n",
       "<tr>\n",
       "         <td></td>            <th>coef</th>     <th>std err</th>      <th>t</th>      <th>P>|t|</th>  <th>[0.025</th>    <th>0.975]</th>  \n",
       "</tr>\n",
       "<tr>\n",
       "  <th>Intercept</th>       <td>    2.7896</td> <td>    0.253</td> <td>   11.046</td> <td> 0.000</td> <td>    2.294</td> <td>    3.285</td>\n",
       "</tr>\n",
       "<tr>\n",
       "  <th>C(pc5_)[T.1.0]</th>  <td>    0.0360</td> <td>    0.011</td> <td>    3.241</td> <td> 0.001</td> <td>    0.014</td> <td>    0.058</td>\n",
       "</tr>\n",
       "<tr>\n",
       "  <th>perc_white</th>      <td>   -0.0311</td> <td>    0.024</td> <td>   -1.322</td> <td> 0.186</td> <td>   -0.077</td> <td>    0.015</td>\n",
       "</tr>\n",
       "<tr>\n",
       "  <th>Occupied_rate</th>   <td>    0.2037</td> <td>    0.106</td> <td>    1.914</td> <td> 0.056</td> <td>   -0.005</td> <td>    0.412</td>\n",
       "</tr>\n",
       "<tr>\n",
       "  <th>Foreign_born</th>    <td>   -0.1563</td> <td>    0.039</td> <td>   -4.055</td> <td> 0.000</td> <td>   -0.232</td> <td>   -0.081</td>\n",
       "</tr>\n",
       "<tr>\n",
       "  <th>Median_Value</th>    <td>   -0.0520</td> <td>    0.013</td> <td>   -4.002</td> <td> 0.000</td> <td>   -0.077</td> <td>   -0.026</td>\n",
       "</tr>\n",
       "<tr>\n",
       "  <th>log_inc_p</th>       <td>   -0.1119</td> <td>    0.021</td> <td>   -5.231</td> <td> 0.000</td> <td>   -0.154</td> <td>   -0.070</td>\n",
       "</tr>\n",
       "<tr>\n",
       "  <th>log_income</th>      <td>   -0.0668</td> <td>    0.025</td> <td>   -2.702</td> <td> 0.007</td> <td>   -0.115</td> <td>   -0.018</td>\n",
       "</tr>\n",
       "<tr>\n",
       "  <th>entropy_inc</th>     <td>   -1.0494</td> <td>    0.087</td> <td>  -12.077</td> <td> 0.000</td> <td>   -1.220</td> <td>   -0.879</td>\n",
       "</tr>\n",
       "<tr>\n",
       "  <th>log_pop_density</th> <td>    0.0308</td> <td>    0.008</td> <td>    4.009</td> <td> 0.000</td> <td>    0.016</td> <td>    0.046</td>\n",
       "</tr>\n",
       "</table>\n",
       "<table class=\"simpletable\">\n",
       "<tr>\n",
       "  <th>Omnibus:</th>       <td>95.308</td> <th>  Durbin-Watson:     </th> <td>   1.707</td>\n",
       "</tr>\n",
       "<tr>\n",
       "  <th>Prob(Omnibus):</th> <td> 0.000</td> <th>  Jarque-Bera (JB):  </th> <td> 108.786</td>\n",
       "</tr>\n",
       "<tr>\n",
       "  <th>Skew:</th>          <td>-0.574</td> <th>  Prob(JB):          </th> <td>2.38e-24</td>\n",
       "</tr>\n",
       "<tr>\n",
       "  <th>Kurtosis:</th>      <td> 2.937</td> <th>  Cond. No.          </th> <td>1.36e+03</td>\n",
       "</tr>\n",
       "</table>"
      ],
      "text/plain": [
       "<class 'statsmodels.iolib.summary.Summary'>\n",
       "\"\"\"\n",
       "                            OLS Regression Results                            \n",
       "==============================================================================\n",
       "Dep. Variable:          entropy_index   R-squared:                       0.332\n",
       "Model:                            OLS   Adj. R-squared:                  0.329\n",
       "Method:                 Least Squares   F-statistic:                     108.8\n",
       "Date:                Thu, 07 Dec 2017   Prob (F-statistic):          1.36e-165\n",
       "Time:                        00:29:21   Log-Likelihood:                 462.14\n",
       "No. Observations:                1978   AIC:                            -904.3\n",
       "Df Residuals:                    1968   BIC:                            -848.4\n",
       "Df Model:                           9                                         \n",
       "Covariance Type:            nonrobust                                         \n",
       "===================================================================================\n",
       "                      coef    std err          t      P>|t|      [0.025      0.975]\n",
       "-----------------------------------------------------------------------------------\n",
       "Intercept           2.7896      0.253     11.046      0.000       2.294       3.285\n",
       "C(pc5_)[T.1.0]      0.0360      0.011      3.241      0.001       0.014       0.058\n",
       "perc_white         -0.0311      0.024     -1.322      0.186      -0.077       0.015\n",
       "Occupied_rate       0.2037      0.106      1.914      0.056      -0.005       0.412\n",
       "Foreign_born       -0.1563      0.039     -4.055      0.000      -0.232      -0.081\n",
       "Median_Value       -0.0520      0.013     -4.002      0.000      -0.077      -0.026\n",
       "log_inc_p          -0.1119      0.021     -5.231      0.000      -0.154      -0.070\n",
       "log_income         -0.0668      0.025     -2.702      0.007      -0.115      -0.018\n",
       "entropy_inc        -1.0494      0.087    -12.077      0.000      -1.220      -0.879\n",
       "log_pop_density     0.0308      0.008      4.009      0.000       0.016       0.046\n",
       "==============================================================================\n",
       "Omnibus:                       95.308   Durbin-Watson:                   1.707\n",
       "Prob(Omnibus):                  0.000   Jarque-Bera (JB):              108.786\n",
       "Skew:                          -0.574   Prob(JB):                     2.38e-24\n",
       "Kurtosis:                       2.937   Cond. No.                     1.36e+03\n",
       "==============================================================================\n",
       "\n",
       "Warnings:\n",
       "[1] Standard Errors assume that the covariance matrix of the errors is correctly specified.\n",
       "[2] The condition number is large, 1.36e+03. This might indicate that there are\n",
       "strong multicollinearity or other numerical problems.\n",
       "\"\"\""
      ]
     },
     "execution_count": 242,
     "metadata": {},
     "output_type": "execute_result"
    }
   ],
   "source": [
    "lm8 = smf.ols('entropy_index ~ perc_white + \\\n",
    "       Occupied_rate + \\\n",
    "       Foreign_born + Median_Value + log_inc_p + \\\n",
    "       C(pc5_) + log_income + \\\n",
    "       entropy_inc + log_pop_density'\n",
    "              ,data=df8).fit()\n",
    "lm8.summary()"
   ]
  },
  {
   "cell_type": "code",
   "execution_count": 218,
   "metadata": {
    "collapsed": true
   },
   "outputs": [],
   "source": [
    "test = pd.read_csv('df8.csv')"
   ]
  },
  {
   "cell_type": "code",
   "execution_count": 221,
   "metadata": {},
   "outputs": [
    {
     "data": {
      "text/html": [
       "<div>\n",
       "<style>\n",
       "    .dataframe thead tr:only-child th {\n",
       "        text-align: right;\n",
       "    }\n",
       "\n",
       "    .dataframe thead th {\n",
       "        text-align: left;\n",
       "    }\n",
       "\n",
       "    .dataframe tbody tr th {\n",
       "        vertical-align: top;\n",
       "    }\n",
       "</style>\n",
       "<table border=\"1\" class=\"dataframe\">\n",
       "  <thead>\n",
       "    <tr style=\"text-align: right;\">\n",
       "      <th></th>\n",
       "      <th>perc_pc</th>\n",
       "      <th>perc_pc_</th>\n",
       "    </tr>\n",
       "  </thead>\n",
       "  <tbody>\n",
       "    <tr>\n",
       "      <th>count</th>\n",
       "      <td>1978.000000</td>\n",
       "      <td>1978.000000</td>\n",
       "    </tr>\n",
       "    <tr>\n",
       "      <th>mean</th>\n",
       "      <td>0.089553</td>\n",
       "      <td>0.094101</td>\n",
       "    </tr>\n",
       "    <tr>\n",
       "      <th>std</th>\n",
       "      <td>0.147335</td>\n",
       "      <td>0.153860</td>\n",
       "    </tr>\n",
       "    <tr>\n",
       "      <th>min</th>\n",
       "      <td>0.000000</td>\n",
       "      <td>0.000000</td>\n",
       "    </tr>\n",
       "    <tr>\n",
       "      <th>25%</th>\n",
       "      <td>0.000000</td>\n",
       "      <td>0.000000</td>\n",
       "    </tr>\n",
       "    <tr>\n",
       "      <th>50%</th>\n",
       "      <td>0.050037</td>\n",
       "      <td>0.050894</td>\n",
       "    </tr>\n",
       "    <tr>\n",
       "      <th>75%</th>\n",
       "      <td>0.113546</td>\n",
       "      <td>0.117044</td>\n",
       "    </tr>\n",
       "    <tr>\n",
       "      <th>max</th>\n",
       "      <td>1.241661</td>\n",
       "      <td>1.227265</td>\n",
       "    </tr>\n",
       "  </tbody>\n",
       "</table>\n",
       "</div>"
      ],
      "text/plain": [
       "           perc_pc     perc_pc_\n",
       "count  1978.000000  1978.000000\n",
       "mean      0.089553     0.094101\n",
       "std       0.147335     0.153860\n",
       "min       0.000000     0.000000\n",
       "25%       0.000000     0.000000\n",
       "50%       0.050037     0.050894\n",
       "75%       0.113546     0.117044\n",
       "max       1.241661     1.227265"
      ]
     },
     "execution_count": 221,
     "metadata": {},
     "output_type": "execute_result"
    }
   ],
   "source": [
    "test[['perc_pc','perc_pc_']].describe()"
   ]
  },
  {
   "cell_type": "code",
   "execution_count": 223,
   "metadata": {},
   "outputs": [
    {
     "data": {
      "text/plain": [
       "(1978, 45)"
      ]
     },
     "execution_count": 223,
     "metadata": {},
     "output_type": "execute_result"
    }
   ],
   "source": [
    "test.shape"
   ]
  },
  {
   "cell_type": "code",
   "execution_count": 227,
   "metadata": {},
   "outputs": [
    {
     "data": {
      "image/png": "[encoded data removed]",
      "text/plain": [
       "<matplotlib.figure.Figure at 0x117cf87b8>"
      ]
     },
     "metadata": {},
     "output_type": "display_data"
    }
   ],
   "source": [
    "fig = plt.figure(figsize=(8,8))\n",
    "plt.hist(df8.entropy_inc,color = 'b', alpha = 0.5, bins=10)\n",
    "\n",
    "plt.title('Histogram of average annual growth rate \\n in entropy index', fontsize = 20)\n",
    "plt.xlabel('entropy index growth rate',fontsize = 18)\n",
    "plt.ylabel('Frequency',fontsize = 18)\n",
    "fig.savefig('data/graph/fig15.jpg')"
   ]
  },
  {
   "cell_type": "code",
   "execution_count": null,
   "metadata": {
    "collapsed": true
   },
   "outputs": [],
   "source": []
  }
 ],
 "metadata": {
  "kernelspec": {
   "display_name": "Python 3",
   "language": "python",
   "name": "python3"
  },
  "language_info": {
   "codemirror_mode": {
    "name": "ipython",
    "version": 3
   },
   "file_extension": ".py",
   "mimetype": "text/x-python",
   "name": "python",
   "nbconvert_exporter": "python",
   "pygments_lexer": "ipython3",
   "version": "3.6.1"
  }
 },
 "nbformat": 4,
 "nbformat_minor": 2
}
