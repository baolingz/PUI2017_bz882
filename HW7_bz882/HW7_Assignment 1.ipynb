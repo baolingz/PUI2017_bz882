{
 "cells": [
  {
   "cell_type": "code",
   "execution_count": 9,
   "metadata": {},
   "outputs": [
    {
     "name": "stdout",
     "output_type": "stream",
     "text": [
      "Populating the interactive namespace from numpy and matplotlib\n"
     ]
    },
    {
     "name": "stderr",
     "output_type": "stream",
     "text": [
      "/Users/zhoubaoling/anaconda/lib/python3.6/site-packages/IPython/core/magics/pylab.py:161: UserWarning: pylab import has clobbered these variables: ['datetime', 'plt']\n",
      "`%matplotlib` prevents importing * from pylab and numpy\n",
      "  \"\\n`%matplotlib` prevents importing * from pylab and numpy\"\n"
     ]
    }
   ],
   "source": [
    "from __future__ import print_function, division\n",
    "\n",
    "import numpy as np\n",
    "import pandas as pd\n",
    "import statsmodels as st\n",
    "import os\n",
    "import matplotlib as plt\n",
    "import statsmodels.formula.api as smf\n",
    "from pandas import DataFrame\n",
    "from datetime import datetime\n",
    "from time import time\n",
    "#from getCitiBikeCSV import getCitiBikeCSV\n",
    "import pylab as pl\n",
    "%pylab inline"
   ]
  },
  {
   "cell_type": "markdown",
   "metadata": {},
   "source": [
    "# IDEA:\n",
    "## Women are less likely than men to choose biking _for commuting_\n",
    "\n",
    "# NULL HYPOTHESIS:\n",
    "## The proportion of man biking during nighttime is _the same_ or _higher_  than the proportion of women biking during nighttime\n",
    "\n",
    "# _$H_0$_ : $\\frac{M_{\\mathrm{night}}}{M_{\\mathrm{total}}} <= \\frac{W_{\\mathrm{night}}}{W_{\\mathrm{total}}}$\n",
    "# _$H_1$_ : $\\frac{M_{\\mathrm{night}}}{M_{\\mathrm{total}}} > \\frac{W_{\\mathrm{night}}}{W_{\\mathrm{total}}}$\n",
    "\n",
    "\n",
    "## I will use a significance level  $\\alpha=0.05$\n",
    "\n",
    "#### which means i want the probability of getting a result at least as significant as mine to be less then 5%"
   ]
  },
  {
   "cell_type": "code",
   "execution_count": 2,
   "metadata": {},
   "outputs": [
    {
     "data": {
      "text/plain": [
       "0"
      ]
     },
     "execution_count": 2,
     "metadata": {},
     "output_type": "execute_result"
    }
   ],
   "source": [
    "#download the dataset into PUIDATA and upzip the files\n",
    "os.system(\"curl -O https://s3.amazonaws.com/tripdata/201701-citibike-tripdata.csv.zip\")\n",
    "os.system(\"unzip 201701-citibike-tripdata.csv.zip -d \" + os.getenv(\"PUIDATA\"))\n",
    "\n",
    "os.system(\"curl -O https://s3.amazonaws.com/tripdata/201702-citibike-tripdata.csv.zip\")\n",
    "os.system(\"unzip 201702-citibike-tripdata.csv.zip -d \" + os.getenv(\"PUIDATA\"))\n",
    "\n",
    "os.system(\"curl -O https://s3.amazonaws.com/tripdata/201703-citibike-tripdata.csv.zip\")\n",
    "os.system(\"unzip 201703-citibike-tripdata.csv.zip -d \" + os.getenv(\"PUIDATA\"))\n",
    "\n",
    "os.system(\"curl -O https://s3.amazonaws.com/tripdata/201704-citibike-tripdata.csv.zip\")\n",
    "os.system(\"unzip 201704-citibike-tripdata.csv.zip -d \" + os.getenv(\"PUIDATA\"))\n"
   ]
  },
  {
   "cell_type": "code",
   "execution_count": 3,
   "metadata": {},
   "outputs": [
    {
     "data": {
      "text/plain": [
       "0"
      ]
     },
     "execution_count": 3,
     "metadata": {},
     "output_type": "execute_result"
    }
   ],
   "source": [
    "os.system(\"curl -O https://s3.amazonaws.com/tripdata/201705-citibike-tripdata.csv.zip\")\n",
    "os.system(\"unzip 201705-citibike-tripdata.csv.zip -d \" + os.getenv(\"PUIDATA\"))\n",
    "\n",
    "os.system(\"curl -O https://s3.amazonaws.com/tripdata/201706-citibike-tripdata.csv.zip\")\n",
    "os.system(\"unzip 201706-citibike-tripdata.csv.zip -d \" + os.getenv(\"PUIDATA\"))\n",
    "\n",
    "os.system(\"curl -O https://s3.amazonaws.com/tripdata/201707-citibike-tripdata.csv.zip\")\n",
    "os.system(\"unzip 201707-citibike-tripdata.csv.zip -d \" + os.getenv(\"PUIDATA\"))\n",
    "\n",
    "os.system(\"curl -O https://s3.amazonaws.com/tripdata/201708-citibike-tripdata.csv.zip\")\n",
    "os.system(\"unzip 201708-citibike-tripdata.csv.zip -d \" + os.getenv(\"PUIDATA\"))"
   ]
  },
  {
   "cell_type": "code",
   "execution_count": 42,
   "metadata": {
    "collapsed": true
   },
   "outputs": [],
   "source": [
    "#read the data\n",
    "jan = pd.read_csv( os.getenv(\"PUIDATA\") + \"/201701-citibike-tripdata.csv\")\n",
    "feb = pd.read_csv( os.getenv(\"PUIDATA\") + \"/201702-citibike-tripdata.csv\")\n",
    "march = pd.read_csv( os.getenv(\"PUIDATA\") + \"/201703-citibike-tripdata.csv\")\n",
    "april = pd.read_csv( os.getenv(\"PUIDATA\") + \"/201704-citibike-tripdata.csv\")\n",
    "may = pd.read_csv( os.getenv(\"PUIDATA\") + \"/201705-citibike-tripdata.csv\")\n",
    "june = pd.read_csv( os.getenv(\"PUIDATA\") + \"/201706-citibike-tripdata.csv\")\n",
    "july = pd.read_csv( os.getenv(\"PUIDATA\") + \"/201707-citibike-tripdata.csv\")\n",
    "aug = pd.read_csv( os.getenv(\"PUIDATA\") + \"/201708-citibike-tripdata.csv\")\n",
    "#sep = pd.read_csv( os.getenv(\"PUIDATA\") + \"/201709-citibike-tripdata.csv\")"
   ]
  },
  {
   "cell_type": "code",
   "execution_count": 5,
   "metadata": {},
   "outputs": [
    {
     "data": {
      "text/html": [
       "<div>\n",
       "<style>\n",
       "    .dataframe thead tr:only-child th {\n",
       "        text-align: right;\n",
       "    }\n",
       "\n",
       "    .dataframe thead th {\n",
       "        text-align: left;\n",
       "    }\n",
       "\n",
       "    .dataframe tbody tr th {\n",
       "        vertical-align: top;\n",
       "    }\n",
       "</style>\n",
       "<table border=\"1\" class=\"dataframe\">\n",
       "  <thead>\n",
       "    <tr style=\"text-align: right;\">\n",
       "      <th></th>\n",
       "      <th>tripduration</th>\n",
       "      <th>starttime</th>\n",
       "      <th>stoptime</th>\n",
       "      <th>start station id</th>\n",
       "      <th>start station name</th>\n",
       "      <th>start station latitude</th>\n",
       "      <th>start station longitude</th>\n",
       "      <th>end station id</th>\n",
       "      <th>end station name</th>\n",
       "      <th>end station latitude</th>\n",
       "      <th>end station longitude</th>\n",
       "      <th>bikeid</th>\n",
       "      <th>usertype</th>\n",
       "      <th>birth year</th>\n",
       "      <th>gender</th>\n",
       "    </tr>\n",
       "  </thead>\n",
       "  <tbody>\n",
       "    <tr>\n",
       "      <th>0</th>\n",
       "      <td>2110</td>\n",
       "      <td>2017-08-01 00:00:00</td>\n",
       "      <td>2017-08-01 00:35:11</td>\n",
       "      <td>470</td>\n",
       "      <td>W 20 St &amp; 8 Ave</td>\n",
       "      <td>40.743453</td>\n",
       "      <td>-74.000040</td>\n",
       "      <td>3289</td>\n",
       "      <td>W 90 St &amp; Amsterdam Ave</td>\n",
       "      <td>40.790179</td>\n",
       "      <td>-73.972889</td>\n",
       "      <td>20954</td>\n",
       "      <td>Subscriber</td>\n",
       "      <td>1978.0</td>\n",
       "      <td>2</td>\n",
       "    </tr>\n",
       "    <tr>\n",
       "      <th>1</th>\n",
       "      <td>160</td>\n",
       "      <td>2017-08-01 00:00:10</td>\n",
       "      <td>2017-08-01 00:02:51</td>\n",
       "      <td>348</td>\n",
       "      <td>W Broadway &amp; Spring St</td>\n",
       "      <td>40.724910</td>\n",
       "      <td>-74.001547</td>\n",
       "      <td>151</td>\n",
       "      <td>Cleveland Pl &amp; Spring St</td>\n",
       "      <td>40.722104</td>\n",
       "      <td>-73.997249</td>\n",
       "      <td>15164</td>\n",
       "      <td>Subscriber</td>\n",
       "      <td>1978.0</td>\n",
       "      <td>1</td>\n",
       "    </tr>\n",
       "    <tr>\n",
       "      <th>2</th>\n",
       "      <td>1644</td>\n",
       "      <td>2017-08-01 00:00:17</td>\n",
       "      <td>2017-08-01 00:27:41</td>\n",
       "      <td>3165</td>\n",
       "      <td>Central Park West &amp; W 72 St</td>\n",
       "      <td>40.775794</td>\n",
       "      <td>-73.976206</td>\n",
       "      <td>3320</td>\n",
       "      <td>Central Park West &amp; W 100 St</td>\n",
       "      <td>40.793393</td>\n",
       "      <td>-73.963556</td>\n",
       "      <td>17540</td>\n",
       "      <td>Subscriber</td>\n",
       "      <td>1962.0</td>\n",
       "      <td>2</td>\n",
       "    </tr>\n",
       "    <tr>\n",
       "      <th>3</th>\n",
       "      <td>323</td>\n",
       "      <td>2017-08-01 00:00:27</td>\n",
       "      <td>2017-08-01 00:05:51</td>\n",
       "      <td>389</td>\n",
       "      <td>Broadway &amp; Berry St</td>\n",
       "      <td>40.710446</td>\n",
       "      <td>-73.965251</td>\n",
       "      <td>3073</td>\n",
       "      <td>Division Ave &amp; Hooper St</td>\n",
       "      <td>40.706913</td>\n",
       "      <td>-73.954417</td>\n",
       "      <td>18705</td>\n",
       "      <td>Subscriber</td>\n",
       "      <td>1990.0</td>\n",
       "      <td>1</td>\n",
       "    </tr>\n",
       "    <tr>\n",
       "      <th>4</th>\n",
       "      <td>109</td>\n",
       "      <td>2017-08-01 00:00:41</td>\n",
       "      <td>2017-08-01 00:02:31</td>\n",
       "      <td>3145</td>\n",
       "      <td>E 84 St &amp; Park Ave</td>\n",
       "      <td>40.778627</td>\n",
       "      <td>-73.957721</td>\n",
       "      <td>3147</td>\n",
       "      <td>E 85 St &amp; 3 Ave</td>\n",
       "      <td>40.778012</td>\n",
       "      <td>-73.954071</td>\n",
       "      <td>27975</td>\n",
       "      <td>Subscriber</td>\n",
       "      <td>1983.0</td>\n",
       "      <td>1</td>\n",
       "    </tr>\n",
       "  </tbody>\n",
       "</table>\n",
       "</div>"
      ],
      "text/plain": [
       "   tripduration            starttime             stoptime  start station id  \\\n",
       "0          2110  2017-08-01 00:00:00  2017-08-01 00:35:11               470   \n",
       "1           160  2017-08-01 00:00:10  2017-08-01 00:02:51               348   \n",
       "2          1644  2017-08-01 00:00:17  2017-08-01 00:27:41              3165   \n",
       "3           323  2017-08-01 00:00:27  2017-08-01 00:05:51               389   \n",
       "4           109  2017-08-01 00:00:41  2017-08-01 00:02:31              3145   \n",
       "\n",
       "            start station name  start station latitude  \\\n",
       "0              W 20 St & 8 Ave               40.743453   \n",
       "1       W Broadway & Spring St               40.724910   \n",
       "2  Central Park West & W 72 St               40.775794   \n",
       "3          Broadway & Berry St               40.710446   \n",
       "4           E 84 St & Park Ave               40.778627   \n",
       "\n",
       "   start station longitude  end station id              end station name  \\\n",
       "0               -74.000040            3289       W 90 St & Amsterdam Ave   \n",
       "1               -74.001547             151      Cleveland Pl & Spring St   \n",
       "2               -73.976206            3320  Central Park West & W 100 St   \n",
       "3               -73.965251            3073      Division Ave & Hooper St   \n",
       "4               -73.957721            3147               E 85 St & 3 Ave   \n",
       "\n",
       "   end station latitude  end station longitude  bikeid    usertype  \\\n",
       "0             40.790179             -73.972889   20954  Subscriber   \n",
       "1             40.722104             -73.997249   15164  Subscriber   \n",
       "2             40.793393             -73.963556   17540  Subscriber   \n",
       "3             40.706913             -73.954417   18705  Subscriber   \n",
       "4             40.778012             -73.954071   27975  Subscriber   \n",
       "\n",
       "   birth year  gender  \n",
       "0      1978.0       2  \n",
       "1      1978.0       1  \n",
       "2      1962.0       2  \n",
       "3      1990.0       1  \n",
       "4      1983.0       1  "
      ]
     },
     "execution_count": 5,
     "metadata": {},
     "output_type": "execute_result"
    }
   ],
   "source": [
    "aug.head()"
   ]
  },
  {
   "cell_type": "code",
   "execution_count": 8,
   "metadata": {},
   "outputs": [
    {
     "data": {
      "text/plain": [
       "(1816498, 15)"
      ]
     },
     "execution_count": 8,
     "metadata": {},
     "output_type": "execute_result"
    }
   ],
   "source": [
    "aug.shape"
   ]
  },
  {
   "cell_type": "code",
   "execution_count": 47,
   "metadata": {
    "collapsed": true
   },
   "outputs": [],
   "source": [
    "months = [jan, feb, march, april, may, june, july, aug]"
   ]
  },
  {
   "cell_type": "code",
   "execution_count": 48,
   "metadata": {},
   "outputs": [],
   "source": [
    "#rename the irrelevant columns into alphabet letters.\n",
    "for i in months:\n",
    "    i.columns = ['a', 'starttime','stoptime','b','c','d', 'e','f', 'g', 'h', 'i', 'j', 'k', 'l','gender']"
   ]
  },
  {
   "cell_type": "code",
   "execution_count": 49,
   "metadata": {},
   "outputs": [],
   "source": [
    "##Marium wrote this part. create a list contains the name of all dataframes. drop the irrelevant columns.\n",
    "dropp= ['a', 'b', 'c', 'd', 'e', 'f', 'g', 'h', 'i', 'j', 'k', 'l']\n",
    "\n",
    "for i in months:\n",
    "    i.drop(dropp, inplace = True, axis = 1)\n"
   ]
  },
  {
   "cell_type": "code",
   "execution_count": 50,
   "metadata": {},
   "outputs": [],
   "source": [
    "monthname = ['jan', 'feb', 'march', 'april', 'may', 'june', 'july', 'aug']\n",
    "for i,e in enumerate(months):\n",
    "    e['month'] = monthname[i]"
   ]
  },
  {
   "cell_type": "code",
   "execution_count": 51,
   "metadata": {},
   "outputs": [],
   "source": [
    "allmonths = pd.concat(months)"
   ]
  },
  {
   "cell_type": "code",
   "execution_count": 52,
   "metadata": {},
   "outputs": [
    {
     "data": {
      "text/html": [
       "<div>\n",
       "<style>\n",
       "    .dataframe thead tr:only-child th {\n",
       "        text-align: right;\n",
       "    }\n",
       "\n",
       "    .dataframe thead th {\n",
       "        text-align: left;\n",
       "    }\n",
       "\n",
       "    .dataframe tbody tr th {\n",
       "        vertical-align: top;\n",
       "    }\n",
       "</style>\n",
       "<table border=\"1\" class=\"dataframe\">\n",
       "  <thead>\n",
       "    <tr style=\"text-align: right;\">\n",
       "      <th></th>\n",
       "      <th>starttime</th>\n",
       "      <th>stoptime</th>\n",
       "      <th>gender</th>\n",
       "      <th>month</th>\n",
       "    </tr>\n",
       "  </thead>\n",
       "  <tbody>\n",
       "    <tr>\n",
       "      <th>0</th>\n",
       "      <td>2017-01-01 00:00:21</td>\n",
       "      <td>2017-01-01 00:11:41</td>\n",
       "      <td>2</td>\n",
       "      <td>jan</td>\n",
       "    </tr>\n",
       "    <tr>\n",
       "      <th>1</th>\n",
       "      <td>2017-01-01 00:00:45</td>\n",
       "      <td>2017-01-01 00:22:08</td>\n",
       "      <td>2</td>\n",
       "      <td>jan</td>\n",
       "    </tr>\n",
       "    <tr>\n",
       "      <th>2</th>\n",
       "      <td>2017-01-01 00:00:57</td>\n",
       "      <td>2017-01-01 00:11:46</td>\n",
       "      <td>0</td>\n",
       "      <td>jan</td>\n",
       "    </tr>\n",
       "    <tr>\n",
       "      <th>3</th>\n",
       "      <td>2017-01-01 00:01:10</td>\n",
       "      <td>2017-01-01 00:11:42</td>\n",
       "      <td>0</td>\n",
       "      <td>jan</td>\n",
       "    </tr>\n",
       "    <tr>\n",
       "      <th>4</th>\n",
       "      <td>2017-01-01 00:01:25</td>\n",
       "      <td>2017-01-01 00:11:47</td>\n",
       "      <td>0</td>\n",
       "      <td>jan</td>\n",
       "    </tr>\n",
       "  </tbody>\n",
       "</table>\n",
       "</div>"
      ],
      "text/plain": [
       "             starttime             stoptime  gender month\n",
       "0  2017-01-01 00:00:21  2017-01-01 00:11:41       2   jan\n",
       "1  2017-01-01 00:00:45  2017-01-01 00:22:08       2   jan\n",
       "2  2017-01-01 00:00:57  2017-01-01 00:11:46       0   jan\n",
       "3  2017-01-01 00:01:10  2017-01-01 00:11:42       0   jan\n",
       "4  2017-01-01 00:01:25  2017-01-01 00:11:47       0   jan"
      ]
     },
     "execution_count": 52,
     "metadata": {},
     "output_type": "execute_result"
    }
   ],
   "source": [
    "allmonths.head()"
   ]
  },
  {
   "cell_type": "code",
   "execution_count": 53,
   "metadata": {},
   "outputs": [
    {
     "data": {
      "text/plain": [
       "(10368351, 4)"
      ]
     },
     "execution_count": 53,
     "metadata": {},
     "output_type": "execute_result"
    }
   ],
   "source": [
    "allmonths.shape"
   ]
  },
  {
   "cell_type": "code",
   "execution_count": 54,
   "metadata": {
    "collapsed": true
   },
   "outputs": [],
   "source": [
    "#the dataset is too big, select % of the orginal one to do further analysis\n",
    "df2 = allmonths[::20]"
   ]
  },
  {
   "cell_type": "code",
   "execution_count": 55,
   "metadata": {},
   "outputs": [
    {
     "data": {
      "text/html": [
       "<div>\n",
       "<style>\n",
       "    .dataframe thead tr:only-child th {\n",
       "        text-align: right;\n",
       "    }\n",
       "\n",
       "    .dataframe thead th {\n",
       "        text-align: left;\n",
       "    }\n",
       "\n",
       "    .dataframe tbody tr th {\n",
       "        vertical-align: top;\n",
       "    }\n",
       "</style>\n",
       "<table border=\"1\" class=\"dataframe\">\n",
       "  <thead>\n",
       "    <tr style=\"text-align: right;\">\n",
       "      <th></th>\n",
       "      <th>starttime</th>\n",
       "      <th>stoptime</th>\n",
       "      <th>gender</th>\n",
       "      <th>month</th>\n",
       "    </tr>\n",
       "  </thead>\n",
       "  <tbody>\n",
       "    <tr>\n",
       "      <th>0</th>\n",
       "      <td>2017-01-01 00:00:21</td>\n",
       "      <td>2017-01-01 00:11:41</td>\n",
       "      <td>2</td>\n",
       "      <td>jan</td>\n",
       "    </tr>\n",
       "    <tr>\n",
       "      <th>20</th>\n",
       "      <td>2017-01-01 00:10:11</td>\n",
       "      <td>2017-01-01 00:16:02</td>\n",
       "      <td>2</td>\n",
       "      <td>jan</td>\n",
       "    </tr>\n",
       "    <tr>\n",
       "      <th>40</th>\n",
       "      <td>2017-01-01 00:14:55</td>\n",
       "      <td>2017-01-01 00:24:48</td>\n",
       "      <td>1</td>\n",
       "      <td>jan</td>\n",
       "    </tr>\n",
       "    <tr>\n",
       "      <th>60</th>\n",
       "      <td>2017-01-01 00:18:06</td>\n",
       "      <td>2017-01-01 00:27:31</td>\n",
       "      <td>2</td>\n",
       "      <td>jan</td>\n",
       "    </tr>\n",
       "    <tr>\n",
       "      <th>80</th>\n",
       "      <td>2017-01-01 00:22:36</td>\n",
       "      <td>2017-01-01 00:53:14</td>\n",
       "      <td>1</td>\n",
       "      <td>jan</td>\n",
       "    </tr>\n",
       "  </tbody>\n",
       "</table>\n",
       "</div>"
      ],
      "text/plain": [
       "              starttime             stoptime  gender month\n",
       "0   2017-01-01 00:00:21  2017-01-01 00:11:41       2   jan\n",
       "20  2017-01-01 00:10:11  2017-01-01 00:16:02       2   jan\n",
       "40  2017-01-01 00:14:55  2017-01-01 00:24:48       1   jan\n",
       "60  2017-01-01 00:18:06  2017-01-01 00:27:31       2   jan\n",
       "80  2017-01-01 00:22:36  2017-01-01 00:53:14       1   jan"
      ]
     },
     "execution_count": 55,
     "metadata": {},
     "output_type": "execute_result"
    }
   ],
   "source": [
    "df2.head()"
   ]
  },
  {
   "cell_type": "code",
   "execution_count": 56,
   "metadata": {},
   "outputs": [
    {
     "data": {
      "text/plain": [
       "(518418, 4)"
      ]
     },
     "execution_count": 56,
     "metadata": {},
     "output_type": "execute_result"
    }
   ],
   "source": [
    "df2.shape"
   ]
  },
  {
   "cell_type": "code",
   "execution_count": 57,
   "metadata": {},
   "outputs": [
    {
     "name": "stderr",
     "output_type": "stream",
     "text": [
      "/Users/zhoubaoling/anaconda/lib/python3.6/site-packages/ipykernel_launcher.py:1: SettingWithCopyWarning: \n",
      "A value is trying to be set on a copy of a slice from a DataFrame.\n",
      "Try using .loc[row_indexer,col_indexer] = value instead\n",
      "\n",
      "See the caveats in the documentation: http://pandas.pydata.org/pandas-docs/stable/indexing.html#indexing-view-versus-copy\n",
      "  \"\"\"Entry point for launching an IPython kernel.\n"
     ]
    }
   ],
   "source": [
    "df2['time']= df2['starttime'].apply(lambda x : pd.to_datetime(x).time())"
   ]
  },
  {
   "cell_type": "code",
   "execution_count": 58,
   "metadata": {
    "collapsed": true
   },
   "outputs": [],
   "source": [
    "import datetime as dt\n",
    "\n",
    "nightstart = dt.datetime.strptime('19:00:00', '%H:%M:%S').time()\n",
    "#7pm\n",
    "nightend = dt.datetime.strptime('05:00:00', '%H:%M:%S').time()\n",
    "#5am"
   ]
  },
  {
   "cell_type": "code",
   "execution_count": 59,
   "metadata": {
    "collapsed": true
   },
   "outputs": [],
   "source": [
    "def time_checker(t):\n",
    "    if t > nightstart:\n",
    "        return 'Night Rider'\n",
    "    if t < nightend:\n",
    "        return 'Night Rider'\n",
    "    else:\n",
    "        return 'Day Rider'"
   ]
  },
  {
   "cell_type": "code",
   "execution_count": 60,
   "metadata": {},
   "outputs": [
    {
     "name": "stderr",
     "output_type": "stream",
     "text": [
      "/Users/zhoubaoling/anaconda/lib/python3.6/site-packages/ipykernel_launcher.py:1: SettingWithCopyWarning: \n",
      "A value is trying to be set on a copy of a slice from a DataFrame.\n",
      "Try using .loc[row_indexer,col_indexer] = value instead\n",
      "\n",
      "See the caveats in the documentation: http://pandas.pydata.org/pandas-docs/stable/indexing.html#indexing-view-versus-copy\n",
      "  \"\"\"Entry point for launching an IPython kernel.\n"
     ]
    },
    {
     "data": {
      "text/html": [
       "<div>\n",
       "<style>\n",
       "    .dataframe thead tr:only-child th {\n",
       "        text-align: right;\n",
       "    }\n",
       "\n",
       "    .dataframe thead th {\n",
       "        text-align: left;\n",
       "    }\n",
       "\n",
       "    .dataframe tbody tr th {\n",
       "        vertical-align: top;\n",
       "    }\n",
       "</style>\n",
       "<table border=\"1\" class=\"dataframe\">\n",
       "  <thead>\n",
       "    <tr style=\"text-align: right;\">\n",
       "      <th></th>\n",
       "      <th>starttime</th>\n",
       "      <th>stoptime</th>\n",
       "      <th>gender</th>\n",
       "      <th>month</th>\n",
       "      <th>time</th>\n",
       "      <th>typeofrider</th>\n",
       "    </tr>\n",
       "  </thead>\n",
       "  <tbody>\n",
       "    <tr>\n",
       "      <th>0</th>\n",
       "      <td>2017-01-01 00:00:21</td>\n",
       "      <td>2017-01-01 00:11:41</td>\n",
       "      <td>2</td>\n",
       "      <td>jan</td>\n",
       "      <td>00:00:21</td>\n",
       "      <td>Night Rider</td>\n",
       "    </tr>\n",
       "    <tr>\n",
       "      <th>20</th>\n",
       "      <td>2017-01-01 00:10:11</td>\n",
       "      <td>2017-01-01 00:16:02</td>\n",
       "      <td>2</td>\n",
       "      <td>jan</td>\n",
       "      <td>00:10:11</td>\n",
       "      <td>Night Rider</td>\n",
       "    </tr>\n",
       "    <tr>\n",
       "      <th>40</th>\n",
       "      <td>2017-01-01 00:14:55</td>\n",
       "      <td>2017-01-01 00:24:48</td>\n",
       "      <td>1</td>\n",
       "      <td>jan</td>\n",
       "      <td>00:14:55</td>\n",
       "      <td>Night Rider</td>\n",
       "    </tr>\n",
       "    <tr>\n",
       "      <th>60</th>\n",
       "      <td>2017-01-01 00:18:06</td>\n",
       "      <td>2017-01-01 00:27:31</td>\n",
       "      <td>2</td>\n",
       "      <td>jan</td>\n",
       "      <td>00:18:06</td>\n",
       "      <td>Night Rider</td>\n",
       "    </tr>\n",
       "    <tr>\n",
       "      <th>80</th>\n",
       "      <td>2017-01-01 00:22:36</td>\n",
       "      <td>2017-01-01 00:53:14</td>\n",
       "      <td>1</td>\n",
       "      <td>jan</td>\n",
       "      <td>00:22:36</td>\n",
       "      <td>Night Rider</td>\n",
       "    </tr>\n",
       "  </tbody>\n",
       "</table>\n",
       "</div>"
      ],
      "text/plain": [
       "              starttime             stoptime  gender month      time  \\\n",
       "0   2017-01-01 00:00:21  2017-01-01 00:11:41       2   jan  00:00:21   \n",
       "20  2017-01-01 00:10:11  2017-01-01 00:16:02       2   jan  00:10:11   \n",
       "40  2017-01-01 00:14:55  2017-01-01 00:24:48       1   jan  00:14:55   \n",
       "60  2017-01-01 00:18:06  2017-01-01 00:27:31       2   jan  00:18:06   \n",
       "80  2017-01-01 00:22:36  2017-01-01 00:53:14       1   jan  00:22:36   \n",
       "\n",
       "    typeofrider  \n",
       "0   Night Rider  \n",
       "20  Night Rider  \n",
       "40  Night Rider  \n",
       "60  Night Rider  \n",
       "80  Night Rider  "
      ]
     },
     "execution_count": 60,
     "metadata": {},
     "output_type": "execute_result"
    }
   ],
   "source": [
    "df2['typeofrider'] = df2['time'].apply(lambda x: time_checker(x))\n",
    "df2.head()"
   ]
  },
  {
   "cell_type": "code",
   "execution_count": 61,
   "metadata": {
    "collapsed": true
   },
   "outputs": [],
   "source": [
    "##save the dataframe into a csv file\n",
    "df2.to_csv('df2_hw7.csv' ,  index = False)"
   ]
  },
  {
   "cell_type": "code",
   "execution_count": 62,
   "metadata": {},
   "outputs": [
    {
     "data": {
      "text/html": [
       "<div>\n",
       "<style>\n",
       "    .dataframe thead tr:only-child th {\n",
       "        text-align: right;\n",
       "    }\n",
       "\n",
       "    .dataframe thead th {\n",
       "        text-align: left;\n",
       "    }\n",
       "\n",
       "    .dataframe tbody tr th {\n",
       "        vertical-align: top;\n",
       "    }\n",
       "</style>\n",
       "<table border=\"1\" class=\"dataframe\">\n",
       "  <thead>\n",
       "    <tr style=\"text-align: right;\">\n",
       "      <th></th>\n",
       "      <th>starttime</th>\n",
       "      <th>stoptime</th>\n",
       "      <th>gender</th>\n",
       "      <th>month</th>\n",
       "      <th>time</th>\n",
       "      <th>typeofrider</th>\n",
       "    </tr>\n",
       "  </thead>\n",
       "  <tbody>\n",
       "    <tr>\n",
       "      <th>0</th>\n",
       "      <td>2017-01-01 00:00:21</td>\n",
       "      <td>2017-01-01 00:11:41</td>\n",
       "      <td>2</td>\n",
       "      <td>jan</td>\n",
       "      <td>00:00:21</td>\n",
       "      <td>Night Rider</td>\n",
       "    </tr>\n",
       "    <tr>\n",
       "      <th>1</th>\n",
       "      <td>2017-01-01 00:10:11</td>\n",
       "      <td>2017-01-01 00:16:02</td>\n",
       "      <td>2</td>\n",
       "      <td>jan</td>\n",
       "      <td>00:10:11</td>\n",
       "      <td>Night Rider</td>\n",
       "    </tr>\n",
       "    <tr>\n",
       "      <th>2</th>\n",
       "      <td>2017-01-01 00:14:55</td>\n",
       "      <td>2017-01-01 00:24:48</td>\n",
       "      <td>1</td>\n",
       "      <td>jan</td>\n",
       "      <td>00:14:55</td>\n",
       "      <td>Night Rider</td>\n",
       "    </tr>\n",
       "    <tr>\n",
       "      <th>3</th>\n",
       "      <td>2017-01-01 00:18:06</td>\n",
       "      <td>2017-01-01 00:27:31</td>\n",
       "      <td>2</td>\n",
       "      <td>jan</td>\n",
       "      <td>00:18:06</td>\n",
       "      <td>Night Rider</td>\n",
       "    </tr>\n",
       "    <tr>\n",
       "      <th>4</th>\n",
       "      <td>2017-01-01 00:22:36</td>\n",
       "      <td>2017-01-01 00:53:14</td>\n",
       "      <td>1</td>\n",
       "      <td>jan</td>\n",
       "      <td>00:22:36</td>\n",
       "      <td>Night Rider</td>\n",
       "    </tr>\n",
       "  </tbody>\n",
       "</table>\n",
       "</div>"
      ],
      "text/plain": [
       "             starttime             stoptime  gender month      time  \\\n",
       "0  2017-01-01 00:00:21  2017-01-01 00:11:41       2   jan  00:00:21   \n",
       "1  2017-01-01 00:10:11  2017-01-01 00:16:02       2   jan  00:10:11   \n",
       "2  2017-01-01 00:14:55  2017-01-01 00:24:48       1   jan  00:14:55   \n",
       "3  2017-01-01 00:18:06  2017-01-01 00:27:31       2   jan  00:18:06   \n",
       "4  2017-01-01 00:22:36  2017-01-01 00:53:14       1   jan  00:22:36   \n",
       "\n",
       "   typeofrider  \n",
       "0  Night Rider  \n",
       "1  Night Rider  \n",
       "2  Night Rider  \n",
       "3  Night Rider  \n",
       "4  Night Rider  "
      ]
     },
     "execution_count": 62,
     "metadata": {},
     "output_type": "execute_result"
    }
   ],
   "source": [
    "cmd = \"mv df2_hw7.csv \" + os.getenv(\"PUIDATA\")\n",
    "os.system(cmd)\n",
    "df3 = pd.read_csv(os.getenv(\"PUIDATA\") + '/df2_hw7.csv')\n",
    "df3.head()"
   ]
  },
  {
   "cell_type": "code",
   "execution_count": 93,
   "metadata": {
    "collapsed": true
   },
   "outputs": [],
   "source": [
    "#create a dictionary which converts monthname into integer. \n",
    "#so that the columns of months we will draw in the next section can be displayed in the right order.\n",
    "month = {'jan':1,'feb':2,'march':3,'april':4,'may':5,'june':6,'july':7,'aug':8}"
   ]
  },
  {
   "cell_type": "code",
   "execution_count": 64,
   "metadata": {},
   "outputs": [],
   "source": [
    "#add a column that represent month in numerical numbers since we will use it in the later plotting.\n",
    "df3['n_month'] = df3['month'].apply(lambda x:month[x])"
   ]
  },
  {
   "cell_type": "code",
   "execution_count": 65,
   "metadata": {},
   "outputs": [
    {
     "data": {
      "text/html": [
       "<div>\n",
       "<style>\n",
       "    .dataframe thead tr:only-child th {\n",
       "        text-align: right;\n",
       "    }\n",
       "\n",
       "    .dataframe thead th {\n",
       "        text-align: left;\n",
       "    }\n",
       "\n",
       "    .dataframe tbody tr th {\n",
       "        vertical-align: top;\n",
       "    }\n",
       "</style>\n",
       "<table border=\"1\" class=\"dataframe\">\n",
       "  <thead>\n",
       "    <tr style=\"text-align: right;\">\n",
       "      <th></th>\n",
       "      <th>starttime</th>\n",
       "      <th>stoptime</th>\n",
       "      <th>gender</th>\n",
       "      <th>month</th>\n",
       "      <th>time</th>\n",
       "      <th>typeofrider</th>\n",
       "      <th>n_month</th>\n",
       "    </tr>\n",
       "  </thead>\n",
       "  <tbody>\n",
       "    <tr>\n",
       "      <th>0</th>\n",
       "      <td>2017-01-01 00:00:21</td>\n",
       "      <td>2017-01-01 00:11:41</td>\n",
       "      <td>2</td>\n",
       "      <td>jan</td>\n",
       "      <td>00:00:21</td>\n",
       "      <td>Night Rider</td>\n",
       "      <td>1</td>\n",
       "    </tr>\n",
       "    <tr>\n",
       "      <th>1</th>\n",
       "      <td>2017-01-01 00:10:11</td>\n",
       "      <td>2017-01-01 00:16:02</td>\n",
       "      <td>2</td>\n",
       "      <td>jan</td>\n",
       "      <td>00:10:11</td>\n",
       "      <td>Night Rider</td>\n",
       "      <td>1</td>\n",
       "    </tr>\n",
       "    <tr>\n",
       "      <th>2</th>\n",
       "      <td>2017-01-01 00:14:55</td>\n",
       "      <td>2017-01-01 00:24:48</td>\n",
       "      <td>1</td>\n",
       "      <td>jan</td>\n",
       "      <td>00:14:55</td>\n",
       "      <td>Night Rider</td>\n",
       "      <td>1</td>\n",
       "    </tr>\n",
       "    <tr>\n",
       "      <th>3</th>\n",
       "      <td>2017-01-01 00:18:06</td>\n",
       "      <td>2017-01-01 00:27:31</td>\n",
       "      <td>2</td>\n",
       "      <td>jan</td>\n",
       "      <td>00:18:06</td>\n",
       "      <td>Night Rider</td>\n",
       "      <td>1</td>\n",
       "    </tr>\n",
       "    <tr>\n",
       "      <th>4</th>\n",
       "      <td>2017-01-01 00:22:36</td>\n",
       "      <td>2017-01-01 00:53:14</td>\n",
       "      <td>1</td>\n",
       "      <td>jan</td>\n",
       "      <td>00:22:36</td>\n",
       "      <td>Night Rider</td>\n",
       "      <td>1</td>\n",
       "    </tr>\n",
       "  </tbody>\n",
       "</table>\n",
       "</div>"
      ],
      "text/plain": [
       "             starttime             stoptime  gender month      time  \\\n",
       "0  2017-01-01 00:00:21  2017-01-01 00:11:41       2   jan  00:00:21   \n",
       "1  2017-01-01 00:10:11  2017-01-01 00:16:02       2   jan  00:10:11   \n",
       "2  2017-01-01 00:14:55  2017-01-01 00:24:48       1   jan  00:14:55   \n",
       "3  2017-01-01 00:18:06  2017-01-01 00:27:31       2   jan  00:18:06   \n",
       "4  2017-01-01 00:22:36  2017-01-01 00:53:14       1   jan  00:22:36   \n",
       "\n",
       "   typeofrider  n_month  \n",
       "0  Night Rider        1  \n",
       "1  Night Rider        1  \n",
       "2  Night Rider        1  \n",
       "3  Night Rider        1  \n",
       "4  Night Rider        1  "
      ]
     },
     "execution_count": 65,
     "metadata": {},
     "output_type": "execute_result"
    }
   ],
   "source": [
    "df3.head()"
   ]
  },
  {
   "cell_type": "code",
   "execution_count": 66,
   "metadata": {},
   "outputs": [],
   "source": [
    "counts_w = df3.typeofrider[df3.gender == 2].groupby([df3.typeofrider]).count()\n",
    "error_w = np.sqrt(counts_w)\n",
    "counts_m = df3.typeofrider[df3.gender == 1].groupby([df3.typeofrider]).count()\n",
    "error_m = np.sqrt(counts_m)"
   ]
  },
  {
   "cell_type": "code",
   "execution_count": 67,
   "metadata": {},
   "outputs": [
    {
     "data": {
      "text/plain": [
       "typeofrider\n",
       "Day Rider      94547\n",
       "Night Rider    22527\n",
       "Name: typeofrider, dtype: int64"
      ]
     },
     "execution_count": 67,
     "metadata": {},
     "output_type": "execute_result"
    }
   ],
   "source": [
    "counts_w"
   ]
  },
  {
   "cell_type": "code",
   "execution_count": 68,
   "metadata": {},
   "outputs": [],
   "source": [
    "norm_w = counts_w.sum()\n",
    "norm_m = counts_m.sum()"
   ]
  },
  {
   "cell_type": "code",
   "execution_count": 99,
   "metadata": {},
   "outputs": [
    {
     "data": {
      "image/png": "[encoded data removed]",
      "text/plain": [
       "<matplotlib.figure.Figure at 0x1269780f0>"
      ]
     },
     "metadata": {},
     "output_type": "display_data"
    }
   ],
   "source": [
    "fig = pl.figure(figsize(8,8))\n",
    "\n",
    "norm_w = counts_w.sum()\n",
    "error_w = np.sqrt(counts_w)\n",
    "((counts_w) / norm_w).plot(kind=\"bar\", color='IndianRed',  \n",
    "                           yerr=[((error_w) / norm_w, (error_w) / norm_w)], \n",
    "                           label='women bikers')\n",
    "\n",
    "norm_m = counts_m.sum()\n",
    "error_m = np.sqrt(counts_m)\n",
    "ax = ((counts_m) / norm_m).plot(kind=\"bar\", alpha=0.5, \n",
    "                                yerr=[((error_m) / norm_m, (error_m) / norm_m)], \n",
    "                                color='SteelBlue', label='men bikers')\n",
    "\n",
    "ax.xaxis.set_ticklabels(['Daytime Rider', 'Nighttime Rider'], fontsize=18)\n",
    "ax.set_ylabel (\"Fraction of rides\", fontsize = 18)\n",
    "ax.set_xlabel (\"Type of Riders\", fontsize =18)\n",
    "ax.set_title ('Type of Riders by Gender', fontsize = 18)\n",
    "\n",
    "pl.legend(['women bikers','men bikers'],fontsize=18)\n",
    "fig.savefig('fig1.jpg', transparent=True, bbox_inches='tight', pad_inches=0)"
   ]
  },
  {
   "cell_type": "markdown",
   "metadata": {},
   "source": [
    "## According to the histogram, it seems that men are more likely to ride bike during nighttime than women do."
   ]
  },
  {
   "cell_type": "code",
   "execution_count": 100,
   "metadata": {},
   "outputs": [
    {
     "name": "stdout",
     "output_type": "stream",
     "text": [
      "Men: day:0.790, night:0.210, day error:0.002, night error:0.001\n",
      "Women: day:0.808, night:0.192, day error:0.003, night error:0.001\n"
     ]
    },
    {
     "data": {
      "image/png": "[encoded data removed]",
      "text/plain": [
       "<matplotlib.figure.Figure at 0x1270f26a0>"
      ]
     },
     "metadata": {},
     "output_type": "display_data"
    }
   ],
   "source": [
    "fig = pl.figure(figsize(15,6))\n",
    "ax1 = fig.add_subplot(121)\n",
    "ax2 = fig.add_subplot(122)\n",
    "ax1.set_xticks([])\n",
    "ax2.set_xticks([])\n",
    "\n",
    "day_w = sum(counts_w[0]) * 1.0 / norm_w  #fraction of women riding on daytime\n",
    "night_w = sum(counts_w[1]) * 1.0 / norm_w  #fraction of women riding on nighttime\n",
    "eday_w = np.sqrt(sum(error_w[0]**2)) / norm_w  #error on fraction number of women riding on daytimef\n",
    "enight_w = np.sqrt(sum(error_w[1]**2)) / norm_w #error on fraction number of women riding on nighttime\n",
    "\n",
    "#same nomenclature as above\n",
    "day_m = sum(counts_m[0]) * 1.0 / norm_m\n",
    "night_m = sum(counts_m[1]) * 1.0 / norm_m\n",
    "eday_m = np.sqrt(sum(error_m[0]**2)) / norm_m\n",
    "enight_m = np.sqrt(sum(error_m[1]**2)) / norm_m\n",
    "\n",
    "print(\"Men: day:{0:.3f}, night:{1:.3f}, day error:{2:.3f}, night error:{3:.3f}\"\\\n",
    "      .format(day_m, night_m, eday_m, enight_m))\n",
    "print(\"Women: day:{0:.3f}, night:{1:.3f}, day error:{2:.3f}, night error:{3:.3f}\"\\\n",
    "      .format(day_w, night_w, eday_w, enight_w))\n",
    "\n",
    "ax1.errorbar([0.4], [day_m], yerr=[eday_m], fmt='o', label='men')\n",
    "ax1.errorbar([0.2], [day_w], yerr=[eday_w], fmt='o', label='women')\n",
    "ax1.set_xlim(0, 0.5)\n",
    "ax2.errorbar([0.4], [night_m], yerr=[enight_m], fmt='o', label='men')\n",
    "ax2.errorbar([0.2], [night_w], yerr=[night_w], fmt='o', label='women')\n",
    "ax1.set_xlim(0, 0.5)\n",
    "ax1.set_title(\"daytime\")\n",
    "ax2.set_title(\"nighttime\")\n",
    "ax2.set_ylabel(\"Fraction of normalized rides by gender\")\n",
    "ax1.set_ylabel(\"Fraction of normalized rides by gender\")\n",
    "\n",
    "pl.xlim(-0.5, 1.5)\n",
    "pl.legend(fontsize = 20)\n",
    "fig.savefig('fig2.jpg', transparent=True, bbox_inches='tight', pad_inches=0)"
   ]
  },
  {
   "cell_type": "markdown",
   "metadata": {},
   "source": [
    "## Figure 1: Fraction of Citibike bikers per gender from Jan to Aug in 2017 for daytime (left) and nightime(right)\n",
    "#### it shows that the fraction of female nighttime riders has a very huge variance so that it is necessry to normalize the value by using Z score."
   ]
  },
  {
   "cell_type": "markdown",
   "metadata": {},
   "source": [
    "## Ho: Is the percentage of man that ride on nighttime lower or equal to that of female?\n",
    "## Ha: Is the percentage of man that ride on nighttime higher than that of female?\n",
    "## The statistics is: \n",
    "# $z = \\frac{(p_0 - p_1)}{SE} $\n",
    "# $p =\\frac{p_0  n_0 + p_1  n_1}{n_0+n_1}$\n",
    "# $SE = \\sqrt{ p  ( 1 - p )  (\\frac{1}{n_0} + \\frac{1}{n_1}) }$\n",
    "## and in this notation \n",
    "# $p_0 = \\frac{M_{\\mathrm{night}}}{M_{\\mathrm{total}}}$\n",
    "### and \n",
    "# $p_1 = \\frac{W_{\\mathrm{night}}}{W_{\\mathrm{total}}}$\n"
   ]
  },
  {
   "cell_type": "code",
   "execution_count": 137,
   "metadata": {},
   "outputs": [
    {
     "name": "stdout",
     "output_type": "stream",
     "text": [
      "difference between man and women during nighttime:  0.0177308576355\n",
      "We must check the significance before we reject the Null Hypothesis\n"
     ]
    }
   ],
   "source": [
    "P0mP1 = night_m - night_w\n",
    "print (\"difference between man and women during nighttime: \", P0mP1)\n",
    "if P0mP1 <= 0:\n",
    "    # we are done...\n",
    "    print(\"In accordance with Null Hypothesis\")\n",
    "else:\n",
    "    # morework to do\n",
    "    print (\"We must check the significance before we reject the Null Hypothesis\")"
   ]
  },
  {
   "cell_type": "code",
   "execution_count": 72,
   "metadata": {},
   "outputs": [
    {
     "data": {
      "text/html": [
       "<div>\n",
       "<style>\n",
       "    .dataframe thead tr:only-child th {\n",
       "        text-align: right;\n",
       "    }\n",
       "\n",
       "    .dataframe thead th {\n",
       "        text-align: left;\n",
       "    }\n",
       "\n",
       "    .dataframe tbody tr th {\n",
       "        vertical-align: top;\n",
       "    }\n",
       "</style>\n",
       "<table border=\"1\" class=\"dataframe\">\n",
       "  <thead>\n",
       "    <tr style=\"text-align: right;\">\n",
       "      <th></th>\n",
       "      <th>starttime</th>\n",
       "      <th>stoptime</th>\n",
       "      <th>gender</th>\n",
       "      <th>month</th>\n",
       "      <th>time</th>\n",
       "      <th>typeofrider</th>\n",
       "      <th>n_month</th>\n",
       "    </tr>\n",
       "  </thead>\n",
       "  <tbody>\n",
       "    <tr>\n",
       "      <th>0</th>\n",
       "      <td>2017-01-01 00:00:21</td>\n",
       "      <td>2017-01-01 00:11:41</td>\n",
       "      <td>2</td>\n",
       "      <td>jan</td>\n",
       "      <td>00:00:21</td>\n",
       "      <td>Night Rider</td>\n",
       "      <td>1</td>\n",
       "    </tr>\n",
       "    <tr>\n",
       "      <th>1</th>\n",
       "      <td>2017-01-01 00:10:11</td>\n",
       "      <td>2017-01-01 00:16:02</td>\n",
       "      <td>2</td>\n",
       "      <td>jan</td>\n",
       "      <td>00:10:11</td>\n",
       "      <td>Night Rider</td>\n",
       "      <td>1</td>\n",
       "    </tr>\n",
       "    <tr>\n",
       "      <th>2</th>\n",
       "      <td>2017-01-01 00:14:55</td>\n",
       "      <td>2017-01-01 00:24:48</td>\n",
       "      <td>1</td>\n",
       "      <td>jan</td>\n",
       "      <td>00:14:55</td>\n",
       "      <td>Night Rider</td>\n",
       "      <td>1</td>\n",
       "    </tr>\n",
       "    <tr>\n",
       "      <th>3</th>\n",
       "      <td>2017-01-01 00:18:06</td>\n",
       "      <td>2017-01-01 00:27:31</td>\n",
       "      <td>2</td>\n",
       "      <td>jan</td>\n",
       "      <td>00:18:06</td>\n",
       "      <td>Night Rider</td>\n",
       "      <td>1</td>\n",
       "    </tr>\n",
       "    <tr>\n",
       "      <th>4</th>\n",
       "      <td>2017-01-01 00:22:36</td>\n",
       "      <td>2017-01-01 00:53:14</td>\n",
       "      <td>1</td>\n",
       "      <td>jan</td>\n",
       "      <td>00:22:36</td>\n",
       "      <td>Night Rider</td>\n",
       "      <td>1</td>\n",
       "    </tr>\n",
       "  </tbody>\n",
       "</table>\n",
       "</div>"
      ],
      "text/plain": [
       "             starttime             stoptime  gender month      time  \\\n",
       "0  2017-01-01 00:00:21  2017-01-01 00:11:41       2   jan  00:00:21   \n",
       "1  2017-01-01 00:10:11  2017-01-01 00:16:02       2   jan  00:10:11   \n",
       "2  2017-01-01 00:14:55  2017-01-01 00:24:48       1   jan  00:14:55   \n",
       "3  2017-01-01 00:18:06  2017-01-01 00:27:31       2   jan  00:18:06   \n",
       "4  2017-01-01 00:22:36  2017-01-01 00:53:14       1   jan  00:22:36   \n",
       "\n",
       "   typeofrider  n_month  \n",
       "0  Night Rider        1  \n",
       "1  Night Rider        1  \n",
       "2  Night Rider        1  \n",
       "3  Night Rider        1  \n",
       "4  Night Rider        1  "
      ]
     },
     "execution_count": 72,
     "metadata": {},
     "output_type": "execute_result"
    }
   ],
   "source": [
    "df3.head()"
   ]
  },
  {
   "cell_type": "markdown",
   "metadata": {},
   "source": [
    "### Is this difference statistically significant?"
   ]
  },
  {
   "cell_type": "code",
   "execution_count": 73,
   "metadata": {},
   "outputs": [
    {
     "name": "stdout",
     "output_type": "stream",
     "text": [
      "The z statistics is 12.97\n"
     ]
    }
   ],
   "source": [
    "# defining the functions that calculate the statistics\n",
    "# the lambda style definition is NOT APPROVED BY PEP8 and you should avoind it\n",
    "# but I am putting it here since you may encounter it in your coding life.\n",
    "# confront the equation in the markdown cell above with these function to understand as they work\n",
    "\n",
    "p = lambda p0, p1, n0, n1: (p0 * n0 + p1 * n1) / (n0 + n1)\n",
    "se = lambda p, n0, n1: np.sqrt(p * (1 - p) * (1.0 / n0 + 1.0 / n1)) #standard error\n",
    "zscore = lambda p0, p1, s : (p0 - p1) / s\n",
    "\n",
    "# calculations\n",
    "\n",
    "sp_stdev_mw = se(p(night_m, night_w, norm_m, norm_w), norm_m, norm_w)\n",
    "# print (sp_stdev_mw)\n",
    "z = zscore(night_m, night_w, sp_stdev_mw)\n",
    "print (\"The z statistics is %.2f\"%z) "
   ]
  },
  {
   "cell_type": "code",
   "execution_count": 74,
   "metadata": {},
   "outputs": [
    {
     "name": "stdout",
     "output_type": "stream",
     "text": [
      "p-value is 0.000000.\n"
     ]
    }
   ],
   "source": [
    "import scipy.stats as sts\n",
    "pvalue = 1 - sts.norm.cdf(z)\n",
    "print ('p-value is %f.'%pvalue)"
   ]
  },
  {
   "cell_type": "markdown",
   "metadata": {},
   "source": [
    "## The p value is is smaller then my chosen $\\alpha=0.05$ - so yes, it is statistically significant (by a lot!)\n",
    "## We reject the Null Hypothesis that woman are more likely to ride during nighttime than man do $p< 0.05$"
   ]
  },
  {
   "cell_type": "code",
   "execution_count": 75,
   "metadata": {
    "collapsed": true
   },
   "outputs": [],
   "source": [
    "#calulate the counts of nighttime rider by month and gender\n",
    "counts_w_month = df3.typeofrider[df3.typeofrider == 'Night Rider'][df3.gender == 2].groupby([df3.typeofrider,df3.n_month]).count()\n",
    "counts_m_month = df3.typeofrider[df3.typeofrider == 'Night Rider'][df3.gender == 1].groupby([df3.typeofrider,df3.n_month]).count()"
   ]
  },
  {
   "cell_type": "code",
   "execution_count": 91,
   "metadata": {},
   "outputs": [
    {
     "data": {
      "text/plain": [
       "typeofrider  n_month\n",
       "Night Rider  1           4954\n",
       "             2           5229\n",
       "             3           5136\n",
       "             4           8562\n",
       "             5          10495\n",
       "             6          12424\n",
       "             7          12774\n",
       "             8          12829\n",
       "Name: typeofrider, dtype: int64"
      ]
     },
     "execution_count": 91,
     "metadata": {},
     "output_type": "execute_result"
    }
   ],
   "source": [
    "counts_w_month #female nighttime riders\n",
    "counts_m_month #male nighttime riders"
   ]
  },
  {
   "cell_type": "code",
   "execution_count": 77,
   "metadata": {
    "collapsed": true
   },
   "outputs": [],
   "source": [
    "#calulate the counts of total riders by month and gender\n",
    "norm_w_month = df3.typeofrider[df3.gender == 2].groupby([df3.n_month]).count() #total female riders\n",
    "norm_m_month = df3.typeofrider[df3.gender == 1].groupby([df3.n_month]).count() #total male riders"
   ]
  },
  {
   "cell_type": "code",
   "execution_count": 78,
   "metadata": {},
   "outputs": [
    {
     "data": {
      "text/plain": [
       "n_month\n",
       "1     7643\n",
       "2     8677\n",
       "3     7734\n",
       "4    14361\n",
       "5    17210\n",
       "6    19977\n",
       "7    20152\n",
       "8    21320\n",
       "Name: typeofrider, dtype: int64"
      ]
     },
     "execution_count": 78,
     "metadata": {},
     "output_type": "execute_result"
    }
   ],
   "source": [
    "norm_w_month"
   ]
  },
  {
   "cell_type": "code",
   "execution_count": 79,
   "metadata": {
    "collapsed": true
   },
   "outputs": [],
   "source": [
    "w_month = counts_w_month/norm_w_month #fraction of female nighttime riders\n",
    "m_month = counts_m_month/norm_m_month #fraction of male nighttime riders"
   ]
  },
  {
   "cell_type": "code",
   "execution_count": 80,
   "metadata": {},
   "outputs": [
    {
     "data": {
      "text/plain": [
       "typeofrider  n_month\n",
       "Night Rider  1          0.165380\n",
       "             2          0.164573\n",
       "             3          0.166408\n",
       "             4          0.173177\n",
       "             5          0.189599\n",
       "             6          0.203534\n",
       "             7          0.218440\n",
       "             8          0.203096\n",
       "Name: typeofrider, dtype: float64"
      ]
     },
     "execution_count": 80,
     "metadata": {},
     "output_type": "execute_result"
    }
   ],
   "source": [
    "w_month"
   ]
  },
  {
   "cell_type": "code",
   "execution_count": 81,
   "metadata": {},
   "outputs": [
    {
     "data": {
      "text/plain": [
       "typeofrider  n_month\n",
       "Night Rider  1          0.182730\n",
       "             2          0.184029\n",
       "             3          0.191221\n",
       "             4          0.200896\n",
       "             5          0.209934\n",
       "             6          0.219641\n",
       "             7          0.232179\n",
       "             8          0.221358\n",
       "Name: typeofrider, dtype: float64"
      ]
     },
     "execution_count": 81,
     "metadata": {},
     "output_type": "execute_result"
    }
   ],
   "source": [
    "m_month"
   ]
  },
  {
   "cell_type": "code",
   "execution_count": 101,
   "metadata": {},
   "outputs": [
    {
     "data": {
      "image/png": "[encoded data removed]",
      "text/plain": [
       "<matplotlib.figure.Figure at 0x127051b38>"
      ]
     },
     "metadata": {},
     "output_type": "display_data"
    }
   ],
   "source": [
    "#draw a histogram show the fraction of nighttime riders by month\n",
    "fig = pl.figure(figsize(15,10))\n",
    "\n",
    "error_w_month = np.sqrt(counts_w_month)\n",
    "ax1 = (w_month).plot(kind=\"bar\", color='IndianRed',  \n",
    "                           yerr=[((error_w_month) / norm_w_month, (error_w_month) / norm_w_month)], \n",
    "                           label='women bikers')\n",
    "error_m_month = np.sqrt(counts_w_month)\n",
    "ax2 = (m_month).plot(kind=\"bar\", alpha=0.5, \n",
    "                                yerr=[((error_m_month) / norm_m_month, (error_m_month) / norm_m_month)], \n",
    "                                color='SteelBlue', label='men bikers')\n",
    "\n",
    "ax1.xaxis.set_ticklabels(['Jan', 'Feb','Mar','Apr','May','Jun','Jul','Aug'], fontsize=18)\n",
    "ax1.set_ylabel (\"Fraction of Nighttime Rides\", fontsize = 18)\n",
    "ax1.set_xlabel (\"Month of the Year\", fontsize =18)\n",
    "ax1.set_title ('Fraction of Nighttime Rides by Gender and Month', fontsize = 18)\n",
    "\n",
    "pl.legend(['women bikers','men bikers'],fontsize=18)\n",
    "fig.savefig('fig3.jpg', transparent=True, bbox_inches='tight', pad_inches=0)"
   ]
  },
  {
   "cell_type": "markdown",
   "metadata": {},
   "source": [
    "#### According to the chart, it seems that male are more likely to ride at nighttime compared to female during any of the months from Jan to August in 2017. We can run a series of  z tests test the corresponding significance."
   ]
  },
  {
   "cell_type": "code",
   "execution_count": 132,
   "metadata": {
    "collapsed": true
   },
   "outputs": [],
   "source": [
    "#create a dictionary contains the name of the correponding month.\n",
    "month2 = {0:'January',1:'Feburary',2:'March',3:'April',4:'May',5:'June',6:'July',7:'August'}"
   ]
  },
  {
   "cell_type": "code",
   "execution_count": 136,
   "metadata": {},
   "outputs": [
    {
     "name": "stdout",
     "output_type": "stream",
     "text": [
      "The p-value for January is 0.000237\n",
      "The p-value for Feburary is 0.000018\n",
      "The p-value for March is 0.000000\n",
      "The p-value for April is 0.000000\n",
      "The p-value for May is 0.000000\n",
      "The p-value for June is 0.000001\n",
      "The p-value for July is 0.000035\n",
      "The p-value for August is 0.000000\n"
     ]
    }
   ],
   "source": [
    "import scipy.stats as sts\n",
    "for i in range(0,8):\n",
    "    sp_stdev_mw = se(p(m_month[i], w_month[i], norm_m_month[i+1], norm_w_month[i+1]), norm_m_month[i+1], norm_w_month[i+1])\n",
    "    # print (sp_stdev_mw)\n",
    "    z = zscore(m_month[i], w_month[i], sp_stdev_mw)\n",
    "    pvalue = 1 - sts.norm.cdf(z)\n",
    "    m = month2[i]\n",
    "    print (\"The p-value for %s is %f\"%(m,pvalue)) "
   ]
  },
  {
   "cell_type": "markdown",
   "metadata": {},
   "source": [
    "At 95% confidence interval, we can reject Ho hypothesis that woman rides more than man during nighttime during any of the month. Since the p-value of these months are all less than the alpha (0.05). "
   ]
  },
  {
   "cell_type": "code",
   "execution_count": null,
   "metadata": {
    "collapsed": true
   },
   "outputs": [],
   "source": []
  }
 ],
 "metadata": {
  "kernelspec": {
   "display_name": "Python 3",
   "language": "python",
   "name": "python3"
  },
  "language_info": {
   "codemirror_mode": {
    "name": "ipython",
    "version": 3
   },
   "file_extension": ".py",
   "mimetype": "text/x-python",
   "name": "python",
   "nbconvert_exporter": "python",
   "pygments_lexer": "ipython3",
   "version": "3.6.1"
  }
 },
 "nbformat": 4,
 "nbformat_minor": 1
}
