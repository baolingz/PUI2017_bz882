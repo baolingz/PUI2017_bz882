{
 "cells": [
  {
   "cell_type": "markdown",
   "metadata": {},
   "source": [
    "## Assignment 3: investigate linear relationships between fire arm possession, homicides by fire arms, and mass shootings for different countries, considering also the country GDP"
   ]
  },
  {
   "cell_type": "code",
   "execution_count": 2,
   "metadata": {},
   "outputs": [
    {
     "name": "stdout",
     "output_type": "stream",
     "text": [
      "Populating the interactive namespace from numpy and matplotlib\n"
     ]
    },
    {
     "name": "stderr",
     "output_type": "stream",
     "text": [
      "/Users/zhoubaoling/anaconda/lib/python3.6/site-packages/statsmodels/compat/pandas.py:56: FutureWarning: The pandas.core.datetools module is deprecated and will be removed in a future version. Please use the pandas.tseries module instead.\n",
      "  from pandas.core import datetools\n"
     ]
    }
   ],
   "source": [
    "import numpy as np\n",
    "import pylab as pl\n",
    "import pandas as pd\n",
    "import scipy.stats as st\n",
    "\n",
    "%pylab inline\n",
    "import statsmodels.api as sm\n",
    "import statsmodels.formula.api as smf"
   ]
  },
  {
   "cell_type": "code",
   "execution_count": null,
   "metadata": {
    "collapsed": true
   },
   "outputs": [],
   "source": [
    "#download data\n",
    "os.system(\"curl -O https://raw.githubusercontent.com/lingyielia/PUI2017_lz1714/master/HW5_lz1714/data/World_firearms_murders_and_ownership1.csv\")\n",
    "os.system(\"mv \" + \"World_firearms_murders_and_ownership1.csv \" + os.getenv(\"PUIDATA\"))\n",
    "os.system(\"curl -O https://raw.githubusercontent.com/lingyielia/PUI2017_lz1714/master/HW5_lz1714/data/API_SP.POP.TOTL_DS2_en_csv_v2.csv\")\n",
    "os.system(\"mv \" + \"API_SP.POP.TOTL_DS2_en_csv_v2.csv \" + os.getenv(\"PUIDATA\"))\n",
    "os.system(\"curl -O https://raw.githubusercontent.com/lingyielia/PUI2017_lz1714/master/HW5_lz1714/data/data-pvLFI.csv\")\n",
    "os.system(\"mv \" + \"data-pvLFI.csv \" + os.getenv(\"PUIDATA\"))\n",
    "os.system(\"curl -O https://raw.githubusercontent.com/lingyielia/PUI2017_lz1714/master/HW5_lz1714/data/API_NY.GDP.MKTP.CD_DS2_en_csv_v2.csv\")\n",
    "os.system(\"mv \" + \"API_NY.GDP.MKTP.CD_DS2_en_csv_v2.csv \" + os.getenv(\"PUIDATA\"))"
   ]
  }
 ],
 "metadata": {
  "kernelspec": {
   "display_name": "Python 3",
   "language": "python",
   "name": "python3"
  },
  "language_info": {
   "codemirror_mode": {
    "name": "ipython",
    "version": 3
   },
   "file_extension": ".py",
   "mimetype": "text/x-python",
   "name": "python",
   "nbconvert_exporter": "python",
   "pygments_lexer": "ipython3",
   "version": "3.6.1"
  }
 },
 "nbformat": 4,
 "nbformat_minor": 2
}
